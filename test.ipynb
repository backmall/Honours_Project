{
 "cells": [
  {
   "cell_type": "code",
   "execution_count": 3,
   "id": "1ee5e0aa",
   "metadata": {},
   "outputs": [
    {
     "name": "stdout",
     "output_type": "stream",
     "text": [
      "0.9896091380049731\n",
      "0.9909996330114459\n",
      "0.9896091380049731\n"
     ]
    }
   ],
   "source": [
    "### LOAD NEEDED DATA ###\n",
    "import pickle\n",
    "import pandas as pd\n",
    "\n",
    "with open('model_pickle', 'rb') as f:\n",
    "    newGrid = pickle.load(f)\n",
    "    \n",
    "with open('target_encoder_pickle', 'rb') as f:\n",
    "    target_encoder = pickle.load(f)\n",
    "    \n",
    "with open('full_pipeline_pickle', 'rb') as f:\n",
    "    full_pipeline = pickle.load(f)\n",
    "    \n",
    "with open('wrongValues_pickle', 'rb') as f:\n",
    "    wrongValues = pickle.load(f)\n",
    "    \n",
    "### load new data ###\n",
    "def load_data2():\n",
    "    \n",
    "    f=open(\"kddcup.names.txt\",'r')\n",
    "    data=f.readlines()[1:]\n",
    "\n",
    "    column_names=[]\n",
    "    for line in data:\n",
    "        column_names.append(line.split(':')[0])\n",
    "\n",
    "    column_names.append('target')\n",
    "    f.close()\n",
    "\n",
    "    f=open(\"training_attack_types2.txt\",\"r\")\n",
    "    data=f.readlines()\n",
    "\n",
    "    attack_type_mapping={'normal':'normal'}\n",
    "    for line in data:\n",
    "        k,v=line.split()\n",
    "        attack_type_mapping[k]=v\n",
    "\n",
    "    f.close()\n",
    "    \n",
    "    ### read first 10000 rows\n",
    "    temp=pd.read_csv('kddcup.data.gz',names=column_names)\n",
    "    attack_type_mapping.keys()\n",
    "    #print(attack_type_mapping)\n",
    "    #for key, value in attack_type_mapping.items() :\n",
    "    #    print (key, value)\n",
    "    temp['target']=temp.target.apply(lambda r: attack_type_mapping[r[:-1]])\n",
    "    \n",
    "    return temp\n",
    "\n",
    "newSet = load_data2()\n",
    "newSet.drop_duplicates(inplace=True)\n",
    "\n",
    "\n",
    "single_XX = newSet.drop(['target','num_root','srv_serror_rate','srv_rerror_rate','dst_host_srv_serror_rate','dst_host_srv_rerror_rate','dst_host_serror_rate','dst_host_rerror_rate','dst_host_same_srv_rate','num_outbound_cmds','is_host_login'],axis=1)\n",
    "single_YY = newSet['target'].copy()\n",
    "single_XX_prepared = full_pipeline.transform(single_XX)\n",
    "single_YY = target_encoder.transform(single_YY)\n",
    "\n",
    "\n",
    "test_prediction=newGrid.best_estimator_.predict(single_XX_prepared)\n",
    "\n",
    "from sklearn.metrics import accuracy_score,precision_score,recall_score,confusion_matrix\n",
    "\n",
    "print(accuracy_score(single_YY,test_prediction))\n",
    "print(precision_score(single_YY,test_prediction,average='weighted'))\n",
    "print(recall_score(single_YY,test_prediction,average='weighted'))"
   ]
  },
  {
   "cell_type": "code",
   "execution_count": null,
   "id": "be545fc2",
   "metadata": {},
   "outputs": [],
   "source": []
  }
 ],
 "metadata": {
  "kernelspec": {
   "display_name": "Python 3 (ipykernel)",
   "language": "python",
   "name": "python3"
  },
  "language_info": {
   "codemirror_mode": {
    "name": "ipython",
    "version": 3
   },
   "file_extension": ".py",
   "mimetype": "text/x-python",
   "name": "python",
   "nbconvert_exporter": "python",
   "pygments_lexer": "ipython3",
   "version": "3.8.12"
  }
 },
 "nbformat": 4,
 "nbformat_minor": 5
}
