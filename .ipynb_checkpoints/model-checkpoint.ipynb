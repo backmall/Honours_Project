{
 "cells": [
  {
   "cell_type": "code",
   "execution_count": 3,
   "id": "301aa2e2",
   "metadata": {},
   "outputs": [],
   "source": [
    "import pandas as pd\n",
    "import os\n",
    "\n",
    "import numpy as np\n",
    "import sklearn\n",
    "\n",
    "%matplotlib inline\n",
    "import matplotlib as mpl\n",
    "import matplotlib.pyplot as plt\n",
    "\n",
    "# Where to save the figures\n",
    "PROJECT_ROOT_DIR = \".\"\n",
    "IMAGES_PATH = os.path.join(PROJECT_ROOT_DIR, \"images\")\n",
    "os.makedirs(IMAGES_PATH, exist_ok=True)\n",
    "\n",
    "def save_fig(fig_id, tight_layout=True, fig_extension=\"png\", resolution=100):\n",
    "    path = os.path.join(IMAGES_PATH, fig_id + \".\" + fig_extension)\n",
    "    print(\"Saving figure\", fig_id)\n",
    "    if tight_layout:\n",
    "        plt.tight_layout()\n",
    "    plt.savefig(path, format=fig_extension, dpi=resolution)"
   ]
  },
  {
   "cell_type": "code",
   "execution_count": 4,
   "id": "c2395f5c",
   "metadata": {},
   "outputs": [],
   "source": [
    "### LOAD THE DATA ###"
   ]
  },
  {
   "cell_type": "code",
   "execution_count": 5,
   "id": "8210b5ca",
   "metadata": {},
   "outputs": [],
   "source": [
    "import pandas as pd\n",
    "\n",
    "def load_data():\n",
    "    \n",
    "    f=open(\"kddcup.names.txt\",'r')\n",
    "    data=f.readlines()[1:]\n",
    "\n",
    "    column_names=[]\n",
    "    for line in data:\n",
    "        column_names.append(line.split(':')[0])\n",
    "\n",
    "    column_names.append('target')\n",
    "    f.close()\n",
    "\n",
    "    f=open(\"training_attack_types2.txt\",\"r\")\n",
    "    data=f.readlines()\n",
    "\n",
    "    attack_type_mapping={'normal':'normal'}\n",
    "    for line in data:\n",
    "        k,v=line.split()\n",
    "        attack_type_mapping[k]=v\n",
    "\n",
    "    f.close()\n",
    "\n",
    "    temp=pd.read_csv('kddcup.data_10_percent.gz',names=column_names)\n",
    "    attack_type_mapping.keys()\n",
    "    print(attack_type_mapping)\n",
    "    for key, value in attack_type_mapping.items() :\n",
    "        print (key, value)\n",
    "    temp['target']=temp.target.apply(lambda r: attack_type_mapping[r[:-1]])\n",
    "    \n",
    "    return temp"
   ]
  },
  {
   "cell_type": "code",
   "execution_count": 6,
   "id": "7f1d45d8",
   "metadata": {},
   "outputs": [],
   "source": [
    "### GENERAL STRUCTURE OF THE DATA ###"
   ]
  },
  {
   "cell_type": "code",
   "execution_count": 7,
   "id": "7ec5a834",
   "metadata": {},
   "outputs": [
    {
     "name": "stdout",
     "output_type": "stream",
     "text": [
      "{'normal': 'normal', 'back': 'dos', 'buffer_overflow': 'u2r', 'ftp_write': 'r2l', 'guess_passwd': 'r2l', 'imap': 'r2l', 'ipsweep': 'probe', 'land': 'dos', 'loadmodule': 'u2r', 'multihop': 'r2l', 'neptune': 'dos', 'nmap': 'probe', 'perl': 'u2r', 'phf': 'r2l', 'pod': 'dos', 'portsweep': 'probe', 'rootkit': 'u2r', 'satan': 'probe', 'smurf': 'dos', 'spy': 'r2l', 'teardrop': 'dos', 'warezclient': 'r2l', 'warezmaster': 'r2l'}\n",
      "normal normal\n",
      "back dos\n",
      "buffer_overflow u2r\n",
      "ftp_write r2l\n",
      "guess_passwd r2l\n",
      "imap r2l\n",
      "ipsweep probe\n",
      "land dos\n",
      "loadmodule u2r\n",
      "multihop r2l\n",
      "neptune dos\n",
      "nmap probe\n",
      "perl u2r\n",
      "phf r2l\n",
      "pod dos\n",
      "portsweep probe\n",
      "rootkit u2r\n",
      "satan probe\n",
      "smurf dos\n",
      "spy r2l\n",
      "teardrop dos\n",
      "warezclient r2l\n",
      "warezmaster r2l\n"
     ]
    },
    {
     "data": {
      "text/html": [
       "<div>\n",
       "<style scoped>\n",
       "    .dataframe tbody tr th:only-of-type {\n",
       "        vertical-align: middle;\n",
       "    }\n",
       "\n",
       "    .dataframe tbody tr th {\n",
       "        vertical-align: top;\n",
       "    }\n",
       "\n",
       "    .dataframe thead th {\n",
       "        text-align: right;\n",
       "    }\n",
       "</style>\n",
       "<table border=\"1\" class=\"dataframe\">\n",
       "  <thead>\n",
       "    <tr style=\"text-align: right;\">\n",
       "      <th></th>\n",
       "      <th>duration</th>\n",
       "      <th>protocol_type</th>\n",
       "      <th>service</th>\n",
       "      <th>flag</th>\n",
       "      <th>src_bytes</th>\n",
       "      <th>dst_bytes</th>\n",
       "      <th>land</th>\n",
       "      <th>wrong_fragment</th>\n",
       "      <th>urgent</th>\n",
       "      <th>hot</th>\n",
       "      <th>...</th>\n",
       "      <th>dst_host_srv_count</th>\n",
       "      <th>dst_host_same_srv_rate</th>\n",
       "      <th>dst_host_diff_srv_rate</th>\n",
       "      <th>dst_host_same_src_port_rate</th>\n",
       "      <th>dst_host_srv_diff_host_rate</th>\n",
       "      <th>dst_host_serror_rate</th>\n",
       "      <th>dst_host_srv_serror_rate</th>\n",
       "      <th>dst_host_rerror_rate</th>\n",
       "      <th>dst_host_srv_rerror_rate</th>\n",
       "      <th>target</th>\n",
       "    </tr>\n",
       "  </thead>\n",
       "  <tbody>\n",
       "    <tr>\n",
       "      <th>0</th>\n",
       "      <td>0</td>\n",
       "      <td>tcp</td>\n",
       "      <td>http</td>\n",
       "      <td>SF</td>\n",
       "      <td>181</td>\n",
       "      <td>5450</td>\n",
       "      <td>0</td>\n",
       "      <td>0</td>\n",
       "      <td>0</td>\n",
       "      <td>0</td>\n",
       "      <td>...</td>\n",
       "      <td>9</td>\n",
       "      <td>1.0</td>\n",
       "      <td>0.0</td>\n",
       "      <td>0.11</td>\n",
       "      <td>0.0</td>\n",
       "      <td>0.0</td>\n",
       "      <td>0.0</td>\n",
       "      <td>0.0</td>\n",
       "      <td>0.0</td>\n",
       "      <td>normal</td>\n",
       "    </tr>\n",
       "    <tr>\n",
       "      <th>1</th>\n",
       "      <td>0</td>\n",
       "      <td>tcp</td>\n",
       "      <td>http</td>\n",
       "      <td>SF</td>\n",
       "      <td>239</td>\n",
       "      <td>486</td>\n",
       "      <td>0</td>\n",
       "      <td>0</td>\n",
       "      <td>0</td>\n",
       "      <td>0</td>\n",
       "      <td>...</td>\n",
       "      <td>19</td>\n",
       "      <td>1.0</td>\n",
       "      <td>0.0</td>\n",
       "      <td>0.05</td>\n",
       "      <td>0.0</td>\n",
       "      <td>0.0</td>\n",
       "      <td>0.0</td>\n",
       "      <td>0.0</td>\n",
       "      <td>0.0</td>\n",
       "      <td>normal</td>\n",
       "    </tr>\n",
       "    <tr>\n",
       "      <th>2</th>\n",
       "      <td>0</td>\n",
       "      <td>tcp</td>\n",
       "      <td>http</td>\n",
       "      <td>SF</td>\n",
       "      <td>235</td>\n",
       "      <td>1337</td>\n",
       "      <td>0</td>\n",
       "      <td>0</td>\n",
       "      <td>0</td>\n",
       "      <td>0</td>\n",
       "      <td>...</td>\n",
       "      <td>29</td>\n",
       "      <td>1.0</td>\n",
       "      <td>0.0</td>\n",
       "      <td>0.03</td>\n",
       "      <td>0.0</td>\n",
       "      <td>0.0</td>\n",
       "      <td>0.0</td>\n",
       "      <td>0.0</td>\n",
       "      <td>0.0</td>\n",
       "      <td>normal</td>\n",
       "    </tr>\n",
       "    <tr>\n",
       "      <th>3</th>\n",
       "      <td>0</td>\n",
       "      <td>tcp</td>\n",
       "      <td>http</td>\n",
       "      <td>SF</td>\n",
       "      <td>219</td>\n",
       "      <td>1337</td>\n",
       "      <td>0</td>\n",
       "      <td>0</td>\n",
       "      <td>0</td>\n",
       "      <td>0</td>\n",
       "      <td>...</td>\n",
       "      <td>39</td>\n",
       "      <td>1.0</td>\n",
       "      <td>0.0</td>\n",
       "      <td>0.03</td>\n",
       "      <td>0.0</td>\n",
       "      <td>0.0</td>\n",
       "      <td>0.0</td>\n",
       "      <td>0.0</td>\n",
       "      <td>0.0</td>\n",
       "      <td>normal</td>\n",
       "    </tr>\n",
       "    <tr>\n",
       "      <th>4</th>\n",
       "      <td>0</td>\n",
       "      <td>tcp</td>\n",
       "      <td>http</td>\n",
       "      <td>SF</td>\n",
       "      <td>217</td>\n",
       "      <td>2032</td>\n",
       "      <td>0</td>\n",
       "      <td>0</td>\n",
       "      <td>0</td>\n",
       "      <td>0</td>\n",
       "      <td>...</td>\n",
       "      <td>49</td>\n",
       "      <td>1.0</td>\n",
       "      <td>0.0</td>\n",
       "      <td>0.02</td>\n",
       "      <td>0.0</td>\n",
       "      <td>0.0</td>\n",
       "      <td>0.0</td>\n",
       "      <td>0.0</td>\n",
       "      <td>0.0</td>\n",
       "      <td>normal</td>\n",
       "    </tr>\n",
       "  </tbody>\n",
       "</table>\n",
       "<p>5 rows × 42 columns</p>\n",
       "</div>"
      ],
      "text/plain": [
       "   duration protocol_type service flag  src_bytes  dst_bytes  land  \\\n",
       "0         0           tcp    http   SF        181       5450     0   \n",
       "1         0           tcp    http   SF        239        486     0   \n",
       "2         0           tcp    http   SF        235       1337     0   \n",
       "3         0           tcp    http   SF        219       1337     0   \n",
       "4         0           tcp    http   SF        217       2032     0   \n",
       "\n",
       "   wrong_fragment  urgent  hot  ...  dst_host_srv_count  \\\n",
       "0               0       0    0  ...                   9   \n",
       "1               0       0    0  ...                  19   \n",
       "2               0       0    0  ...                  29   \n",
       "3               0       0    0  ...                  39   \n",
       "4               0       0    0  ...                  49   \n",
       "\n",
       "   dst_host_same_srv_rate  dst_host_diff_srv_rate  \\\n",
       "0                     1.0                     0.0   \n",
       "1                     1.0                     0.0   \n",
       "2                     1.0                     0.0   \n",
       "3                     1.0                     0.0   \n",
       "4                     1.0                     0.0   \n",
       "\n",
       "   dst_host_same_src_port_rate  dst_host_srv_diff_host_rate  \\\n",
       "0                         0.11                          0.0   \n",
       "1                         0.05                          0.0   \n",
       "2                         0.03                          0.0   \n",
       "3                         0.03                          0.0   \n",
       "4                         0.02                          0.0   \n",
       "\n",
       "   dst_host_serror_rate  dst_host_srv_serror_rate  dst_host_rerror_rate  \\\n",
       "0                   0.0                       0.0                   0.0   \n",
       "1                   0.0                       0.0                   0.0   \n",
       "2                   0.0                       0.0                   0.0   \n",
       "3                   0.0                       0.0                   0.0   \n",
       "4                   0.0                       0.0                   0.0   \n",
       "\n",
       "   dst_host_srv_rerror_rate  target  \n",
       "0                       0.0  normal  \n",
       "1                       0.0  normal  \n",
       "2                       0.0  normal  \n",
       "3                       0.0  normal  \n",
       "4                       0.0  normal  \n",
       "\n",
       "[5 rows x 42 columns]"
      ]
     },
     "execution_count": 7,
     "metadata": {},
     "output_type": "execute_result"
    }
   ],
   "source": [
    "ids=load_data()\n",
    "ids.head()"
   ]
  },
  {
   "cell_type": "code",
   "execution_count": 8,
   "id": "196279ff",
   "metadata": {},
   "outputs": [
    {
     "data": {
      "text/plain": [
       "(494021, 42)"
      ]
     },
     "execution_count": 8,
     "metadata": {},
     "output_type": "execute_result"
    }
   ],
   "source": [
    "ids.shape"
   ]
  },
  {
   "cell_type": "code",
   "execution_count": 9,
   "id": "a6894da2",
   "metadata": {},
   "outputs": [],
   "source": [
    "ids.drop_duplicates(inplace=True)"
   ]
  },
  {
   "cell_type": "code",
   "execution_count": 10,
   "id": "472953d6",
   "metadata": {},
   "outputs": [
    {
     "data": {
      "text/plain": [
       "(145585, 42)"
      ]
     },
     "execution_count": 10,
     "metadata": {},
     "output_type": "execute_result"
    }
   ],
   "source": [
    "ids.shape"
   ]
  },
  {
   "cell_type": "code",
   "execution_count": 11,
   "id": "778c84a7",
   "metadata": {},
   "outputs": [
    {
     "name": "stdout",
     "output_type": "stream",
     "text": [
      "<class 'pandas.core.frame.DataFrame'>\n",
      "Int64Index: 145585 entries, 0 to 494020\n",
      "Data columns (total 42 columns):\n",
      " #   Column                       Non-Null Count   Dtype  \n",
      "---  ------                       --------------   -----  \n",
      " 0   duration                     145585 non-null  int64  \n",
      " 1   protocol_type                145585 non-null  object \n",
      " 2   service                      145585 non-null  object \n",
      " 3   flag                         145585 non-null  object \n",
      " 4   src_bytes                    145585 non-null  int64  \n",
      " 5   dst_bytes                    145585 non-null  int64  \n",
      " 6   land                         145585 non-null  int64  \n",
      " 7   wrong_fragment               145585 non-null  int64  \n",
      " 8   urgent                       145585 non-null  int64  \n",
      " 9   hot                          145585 non-null  int64  \n",
      " 10  num_failed_logins            145585 non-null  int64  \n",
      " 11  logged_in                    145585 non-null  int64  \n",
      " 12  num_compromised              145585 non-null  int64  \n",
      " 13  root_shell                   145585 non-null  int64  \n",
      " 14  su_attempted                 145585 non-null  int64  \n",
      " 15  num_root                     145585 non-null  int64  \n",
      " 16  num_file_creations           145585 non-null  int64  \n",
      " 17  num_shells                   145585 non-null  int64  \n",
      " 18  num_access_files             145585 non-null  int64  \n",
      " 19  num_outbound_cmds            145585 non-null  int64  \n",
      " 20  is_host_login                145585 non-null  int64  \n",
      " 21  is_guest_login               145585 non-null  int64  \n",
      " 22  count                        145585 non-null  int64  \n",
      " 23  srv_count                    145585 non-null  int64  \n",
      " 24  serror_rate                  145585 non-null  float64\n",
      " 25  srv_serror_rate              145585 non-null  float64\n",
      " 26  rerror_rate                  145585 non-null  float64\n",
      " 27  srv_rerror_rate              145585 non-null  float64\n",
      " 28  same_srv_rate                145585 non-null  float64\n",
      " 29  diff_srv_rate                145585 non-null  float64\n",
      " 30  srv_diff_host_rate           145585 non-null  float64\n",
      " 31  dst_host_count               145585 non-null  int64  \n",
      " 32  dst_host_srv_count           145585 non-null  int64  \n",
      " 33  dst_host_same_srv_rate       145585 non-null  float64\n",
      " 34  dst_host_diff_srv_rate       145585 non-null  float64\n",
      " 35  dst_host_same_src_port_rate  145585 non-null  float64\n",
      " 36  dst_host_srv_diff_host_rate  145585 non-null  float64\n",
      " 37  dst_host_serror_rate         145585 non-null  float64\n",
      " 38  dst_host_srv_serror_rate     145585 non-null  float64\n",
      " 39  dst_host_rerror_rate         145585 non-null  float64\n",
      " 40  dst_host_srv_rerror_rate     145585 non-null  float64\n",
      " 41  target                       145585 non-null  object \n",
      "dtypes: float64(15), int64(23), object(4)\n",
      "memory usage: 47.8+ MB\n"
     ]
    }
   ],
   "source": [
    "ids.info()"
   ]
  },
  {
   "cell_type": "code",
   "execution_count": 12,
   "id": "f19e11e7",
   "metadata": {},
   "outputs": [
    {
     "data": {
      "text/html": [
       "<div>\n",
       "<style scoped>\n",
       "    .dataframe tbody tr th:only-of-type {\n",
       "        vertical-align: middle;\n",
       "    }\n",
       "\n",
       "    .dataframe tbody tr th {\n",
       "        vertical-align: top;\n",
       "    }\n",
       "\n",
       "    .dataframe thead th {\n",
       "        text-align: right;\n",
       "    }\n",
       "</style>\n",
       "<table border=\"1\" class=\"dataframe\">\n",
       "  <thead>\n",
       "    <tr style=\"text-align: right;\">\n",
       "      <th></th>\n",
       "      <th>duration</th>\n",
       "      <th>src_bytes</th>\n",
       "      <th>dst_bytes</th>\n",
       "      <th>land</th>\n",
       "      <th>wrong_fragment</th>\n",
       "      <th>urgent</th>\n",
       "      <th>hot</th>\n",
       "      <th>num_failed_logins</th>\n",
       "      <th>logged_in</th>\n",
       "      <th>num_compromised</th>\n",
       "      <th>...</th>\n",
       "      <th>dst_host_count</th>\n",
       "      <th>dst_host_srv_count</th>\n",
       "      <th>dst_host_same_srv_rate</th>\n",
       "      <th>dst_host_diff_srv_rate</th>\n",
       "      <th>dst_host_same_src_port_rate</th>\n",
       "      <th>dst_host_srv_diff_host_rate</th>\n",
       "      <th>dst_host_serror_rate</th>\n",
       "      <th>dst_host_srv_serror_rate</th>\n",
       "      <th>dst_host_rerror_rate</th>\n",
       "      <th>dst_host_srv_rerror_rate</th>\n",
       "    </tr>\n",
       "  </thead>\n",
       "  <tbody>\n",
       "    <tr>\n",
       "      <th>count</th>\n",
       "      <td>145585.000000</td>\n",
       "      <td>1.455850e+05</td>\n",
       "      <td>1.455850e+05</td>\n",
       "      <td>145585.000000</td>\n",
       "      <td>145585.000000</td>\n",
       "      <td>145585.000000</td>\n",
       "      <td>145585.000000</td>\n",
       "      <td>145585.000000</td>\n",
       "      <td>145585.000000</td>\n",
       "      <td>145585.000000</td>\n",
       "      <td>...</td>\n",
       "      <td>145585.000000</td>\n",
       "      <td>145585.000000</td>\n",
       "      <td>145585.000000</td>\n",
       "      <td>145585.000000</td>\n",
       "      <td>145585.000000</td>\n",
       "      <td>145585.000000</td>\n",
       "      <td>145585.000000</td>\n",
       "      <td>145585.000000</td>\n",
       "      <td>145585.000000</td>\n",
       "      <td>145585.000000</td>\n",
       "    </tr>\n",
       "    <tr>\n",
       "      <th>mean</th>\n",
       "      <td>132.026088</td>\n",
       "      <td>7.995754e+03</td>\n",
       "      <td>2.859800e+03</td>\n",
       "      <td>0.000137</td>\n",
       "      <td>0.020201</td>\n",
       "      <td>0.000048</td>\n",
       "      <td>0.100175</td>\n",
       "      <td>0.000515</td>\n",
       "      <td>0.491493</td>\n",
       "      <td>0.026177</td>\n",
       "      <td>...</td>\n",
       "      <td>181.469416</td>\n",
       "      <td>129.935563</td>\n",
       "      <td>0.553219</td>\n",
       "      <td>0.061389</td>\n",
       "      <td>0.092819</td>\n",
       "      <td>0.019048</td>\n",
       "      <td>0.291599</td>\n",
       "      <td>0.290980</td>\n",
       "      <td>0.110464</td>\n",
       "      <td>0.107676</td>\n",
       "    </tr>\n",
       "    <tr>\n",
       "      <th>std</th>\n",
       "      <td>1224.161209</td>\n",
       "      <td>1.820390e+06</td>\n",
       "      <td>6.081000e+04</td>\n",
       "      <td>0.011720</td>\n",
       "      <td>0.239369</td>\n",
       "      <td>0.010150</td>\n",
       "      <td>1.426803</td>\n",
       "      <td>0.028586</td>\n",
       "      <td>0.499929</td>\n",
       "      <td>3.311384</td>\n",
       "      <td>...</td>\n",
       "      <td>99.097409</td>\n",
       "      <td>114.714725</td>\n",
       "      <td>0.456236</td>\n",
       "      <td>0.147021</td>\n",
       "      <td>0.241112</td>\n",
       "      <td>0.060410</td>\n",
       "      <td>0.452493</td>\n",
       "      <td>0.453448</td>\n",
       "      <td>0.306098</td>\n",
       "      <td>0.304221</td>\n",
       "    </tr>\n",
       "    <tr>\n",
       "      <th>min</th>\n",
       "      <td>0.000000</td>\n",
       "      <td>0.000000e+00</td>\n",
       "      <td>0.000000e+00</td>\n",
       "      <td>0.000000</td>\n",
       "      <td>0.000000</td>\n",
       "      <td>0.000000</td>\n",
       "      <td>0.000000</td>\n",
       "      <td>0.000000</td>\n",
       "      <td>0.000000</td>\n",
       "      <td>0.000000</td>\n",
       "      <td>...</td>\n",
       "      <td>0.000000</td>\n",
       "      <td>0.000000</td>\n",
       "      <td>0.000000</td>\n",
       "      <td>0.000000</td>\n",
       "      <td>0.000000</td>\n",
       "      <td>0.000000</td>\n",
       "      <td>0.000000</td>\n",
       "      <td>0.000000</td>\n",
       "      <td>0.000000</td>\n",
       "      <td>0.000000</td>\n",
       "    </tr>\n",
       "    <tr>\n",
       "      <th>25%</th>\n",
       "      <td>0.000000</td>\n",
       "      <td>0.000000e+00</td>\n",
       "      <td>0.000000e+00</td>\n",
       "      <td>0.000000</td>\n",
       "      <td>0.000000</td>\n",
       "      <td>0.000000</td>\n",
       "      <td>0.000000</td>\n",
       "      <td>0.000000</td>\n",
       "      <td>0.000000</td>\n",
       "      <td>0.000000</td>\n",
       "      <td>...</td>\n",
       "      <td>78.000000</td>\n",
       "      <td>12.000000</td>\n",
       "      <td>0.050000</td>\n",
       "      <td>0.000000</td>\n",
       "      <td>0.000000</td>\n",
       "      <td>0.000000</td>\n",
       "      <td>0.000000</td>\n",
       "      <td>0.000000</td>\n",
       "      <td>0.000000</td>\n",
       "      <td>0.000000</td>\n",
       "    </tr>\n",
       "    <tr>\n",
       "      <th>50%</th>\n",
       "      <td>0.000000</td>\n",
       "      <td>1.470000e+02</td>\n",
       "      <td>1.050000e+02</td>\n",
       "      <td>0.000000</td>\n",
       "      <td>0.000000</td>\n",
       "      <td>0.000000</td>\n",
       "      <td>0.000000</td>\n",
       "      <td>0.000000</td>\n",
       "      <td>0.000000</td>\n",
       "      <td>0.000000</td>\n",
       "      <td>...</td>\n",
       "      <td>255.000000</td>\n",
       "      <td>117.000000</td>\n",
       "      <td>0.770000</td>\n",
       "      <td>0.020000</td>\n",
       "      <td>0.000000</td>\n",
       "      <td>0.000000</td>\n",
       "      <td>0.000000</td>\n",
       "      <td>0.000000</td>\n",
       "      <td>0.000000</td>\n",
       "      <td>0.000000</td>\n",
       "    </tr>\n",
       "    <tr>\n",
       "      <th>75%</th>\n",
       "      <td>0.000000</td>\n",
       "      <td>2.880000e+02</td>\n",
       "      <td>1.165000e+03</td>\n",
       "      <td>0.000000</td>\n",
       "      <td>0.000000</td>\n",
       "      <td>0.000000</td>\n",
       "      <td>0.000000</td>\n",
       "      <td>0.000000</td>\n",
       "      <td>1.000000</td>\n",
       "      <td>0.000000</td>\n",
       "      <td>...</td>\n",
       "      <td>255.000000</td>\n",
       "      <td>255.000000</td>\n",
       "      <td>1.000000</td>\n",
       "      <td>0.070000</td>\n",
       "      <td>0.030000</td>\n",
       "      <td>0.020000</td>\n",
       "      <td>1.000000</td>\n",
       "      <td>1.000000</td>\n",
       "      <td>0.000000</td>\n",
       "      <td>0.000000</td>\n",
       "    </tr>\n",
       "    <tr>\n",
       "      <th>max</th>\n",
       "      <td>58329.000000</td>\n",
       "      <td>6.933756e+08</td>\n",
       "      <td>5.155468e+06</td>\n",
       "      <td>1.000000</td>\n",
       "      <td>3.000000</td>\n",
       "      <td>3.000000</td>\n",
       "      <td>30.000000</td>\n",
       "      <td>5.000000</td>\n",
       "      <td>1.000000</td>\n",
       "      <td>884.000000</td>\n",
       "      <td>...</td>\n",
       "      <td>255.000000</td>\n",
       "      <td>255.000000</td>\n",
       "      <td>1.000000</td>\n",
       "      <td>1.000000</td>\n",
       "      <td>1.000000</td>\n",
       "      <td>1.000000</td>\n",
       "      <td>1.000000</td>\n",
       "      <td>1.000000</td>\n",
       "      <td>1.000000</td>\n",
       "      <td>1.000000</td>\n",
       "    </tr>\n",
       "  </tbody>\n",
       "</table>\n",
       "<p>8 rows × 38 columns</p>\n",
       "</div>"
      ],
      "text/plain": [
       "            duration     src_bytes     dst_bytes           land  \\\n",
       "count  145585.000000  1.455850e+05  1.455850e+05  145585.000000   \n",
       "mean      132.026088  7.995754e+03  2.859800e+03       0.000137   \n",
       "std      1224.161209  1.820390e+06  6.081000e+04       0.011720   \n",
       "min         0.000000  0.000000e+00  0.000000e+00       0.000000   \n",
       "25%         0.000000  0.000000e+00  0.000000e+00       0.000000   \n",
       "50%         0.000000  1.470000e+02  1.050000e+02       0.000000   \n",
       "75%         0.000000  2.880000e+02  1.165000e+03       0.000000   \n",
       "max     58329.000000  6.933756e+08  5.155468e+06       1.000000   \n",
       "\n",
       "       wrong_fragment         urgent            hot  num_failed_logins  \\\n",
       "count   145585.000000  145585.000000  145585.000000      145585.000000   \n",
       "mean         0.020201       0.000048       0.100175           0.000515   \n",
       "std          0.239369       0.010150       1.426803           0.028586   \n",
       "min          0.000000       0.000000       0.000000           0.000000   \n",
       "25%          0.000000       0.000000       0.000000           0.000000   \n",
       "50%          0.000000       0.000000       0.000000           0.000000   \n",
       "75%          0.000000       0.000000       0.000000           0.000000   \n",
       "max          3.000000       3.000000      30.000000           5.000000   \n",
       "\n",
       "           logged_in  num_compromised  ...  dst_host_count  \\\n",
       "count  145585.000000    145585.000000  ...   145585.000000   \n",
       "mean        0.491493         0.026177  ...      181.469416   \n",
       "std         0.499929         3.311384  ...       99.097409   \n",
       "min         0.000000         0.000000  ...        0.000000   \n",
       "25%         0.000000         0.000000  ...       78.000000   \n",
       "50%         0.000000         0.000000  ...      255.000000   \n",
       "75%         1.000000         0.000000  ...      255.000000   \n",
       "max         1.000000       884.000000  ...      255.000000   \n",
       "\n",
       "       dst_host_srv_count  dst_host_same_srv_rate  dst_host_diff_srv_rate  \\\n",
       "count       145585.000000           145585.000000           145585.000000   \n",
       "mean           129.935563                0.553219                0.061389   \n",
       "std            114.714725                0.456236                0.147021   \n",
       "min              0.000000                0.000000                0.000000   \n",
       "25%             12.000000                0.050000                0.000000   \n",
       "50%            117.000000                0.770000                0.020000   \n",
       "75%            255.000000                1.000000                0.070000   \n",
       "max            255.000000                1.000000                1.000000   \n",
       "\n",
       "       dst_host_same_src_port_rate  dst_host_srv_diff_host_rate  \\\n",
       "count                145585.000000                145585.000000   \n",
       "mean                      0.092819                     0.019048   \n",
       "std                       0.241112                     0.060410   \n",
       "min                       0.000000                     0.000000   \n",
       "25%                       0.000000                     0.000000   \n",
       "50%                       0.000000                     0.000000   \n",
       "75%                       0.030000                     0.020000   \n",
       "max                       1.000000                     1.000000   \n",
       "\n",
       "       dst_host_serror_rate  dst_host_srv_serror_rate  dst_host_rerror_rate  \\\n",
       "count         145585.000000             145585.000000         145585.000000   \n",
       "mean               0.291599                  0.290980              0.110464   \n",
       "std                0.452493                  0.453448              0.306098   \n",
       "min                0.000000                  0.000000              0.000000   \n",
       "25%                0.000000                  0.000000              0.000000   \n",
       "50%                0.000000                  0.000000              0.000000   \n",
       "75%                1.000000                  1.000000              0.000000   \n",
       "max                1.000000                  1.000000              1.000000   \n",
       "\n",
       "       dst_host_srv_rerror_rate  \n",
       "count             145585.000000  \n",
       "mean                   0.107676  \n",
       "std                    0.304221  \n",
       "min                    0.000000  \n",
       "25%                    0.000000  \n",
       "50%                    0.000000  \n",
       "75%                    0.000000  \n",
       "max                    1.000000  \n",
       "\n",
       "[8 rows x 38 columns]"
      ]
     },
     "execution_count": 12,
     "metadata": {},
     "output_type": "execute_result"
    }
   ],
   "source": [
    "ids.describe()"
   ]
  },
  {
   "cell_type": "code",
   "execution_count": 13,
   "id": "973eb6a3",
   "metadata": {},
   "outputs": [
    {
     "name": "stdout",
     "output_type": "stream",
     "text": [
      "Saving figure attribute_histogram_plots\n"
     ]
    },
    {
     "data": {
      "image/png": "[encoded data removed]",
      "text/plain": [
       "<Figure size 1440x1080 with 42 Axes>"
      ]
     },
     "metadata": {
      "needs_background": "light"
     },
     "output_type": "display_data"
    }
   ],
   "source": [
    "%matplotlib inline\n",
    "import matplotlib.pyplot as plt\n",
    "\n",
    "ids.hist(bins=50, figsize=(20,15))\n",
    "save_fig(\"attribute_histogram_plots\")\n",
    "plt.show()"
   ]
  },
  {
   "cell_type": "code",
   "execution_count": 14,
   "id": "73f77605",
   "metadata": {},
   "outputs": [
    {
     "name": "stdout",
     "output_type": "stream",
     "text": [
      "Saving figure Categorical Column visualization\n"
     ]
    },
    {
     "data": {
      "image/png": "[encoded data removed]",
      "text/plain": [
       "<Figure size 1584x1440 with 4 Axes>"
      ]
     },
     "metadata": {
      "needs_background": "light"
     },
     "output_type": "display_data"
    }
   ],
   "source": [
    "categorical_features = ['flag', 'service', 'target', 'protocol_type']\n",
    "def plot_dist(col, ax):\n",
    "    ids[col].value_counts().plot(kind='bar', facecolor='b', ax=ax)\n",
    "    ax.set_xlabel('{}'.format(col), fontsize=18)\n",
    "    ax.set_title(\"{} type on dataset\".format(col), fontsize= 18)\n",
    "    plt.xticks(rotation=45)\n",
    "    return ax\n",
    "\n",
    "f, ax = plt.subplots(2,2, figsize = (22,20))\n",
    "f.tight_layout(h_pad=15, w_pad=10, rect=[0, 0.08, 1, 0.93])\n",
    "\n",
    "k = 0\n",
    "for i in range(2):\n",
    "    for j in range(2):\n",
    "        plot_dist(categorical_features[k], ax[i][j])\n",
    "        k += 1\n",
    "\n",
    "save_fig('Categorical Column visualization')\n",
    "plt.show()"
   ]
  },
  {
   "cell_type": "code",
   "execution_count": 15,
   "id": "034c876c",
   "metadata": {},
   "outputs": [],
   "source": [
    "### Attacks after grouping them to attack categories ###\n",
    "\n",
    "## normal - no attack\n",
    "## dos - denial of service attack\n",
    "## probe - probing attack\n",
    "## r2l - remote to user attack\n",
    "## u2r - user to root attack"
   ]
  },
  {
   "cell_type": "code",
   "execution_count": 16,
   "id": "76a8a6e5",
   "metadata": {},
   "outputs": [
    {
     "data": {
      "text/plain": [
       "normal    87832\n",
       "dos       54572\n",
       "probe      2130\n",
       "r2l         999\n",
       "u2r          52\n",
       "Name: target, dtype: int64"
      ]
     },
     "execution_count": 16,
     "metadata": {},
     "output_type": "execute_result"
    }
   ],
   "source": [
    "ids['target'].value_counts()"
   ]
  },
  {
   "cell_type": "code",
   "execution_count": 17,
   "id": "09649b5c",
   "metadata": {
    "scrolled": true
   },
   "outputs": [
    {
     "data": {
      "text/plain": [
       "<AxesSubplot:>"
      ]
     },
     "execution_count": 17,
     "metadata": {},
     "output_type": "execute_result"
    },
    {
     "data": {
      "image/png": "[encoded data removed]",
      "text/plain": [
       "<Figure size 432x288 with 1 Axes>"
      ]
     },
     "metadata": {
      "needs_background": "light"
     },
     "output_type": "display_data"
    }
   ],
   "source": [
    "ids['target'].hist()"
   ]
  },
  {
   "cell_type": "code",
   "execution_count": 18,
   "id": "ee98b9ad",
   "metadata": {},
   "outputs": [],
   "source": [
    "### SPLITTING DATASET TO TEST AND VALIDATION SETS ###"
   ]
  },
  {
   "cell_type": "code",
   "execution_count": 19,
   "id": "95abfe78",
   "metadata": {},
   "outputs": [],
   "source": [
    "from sklearn.model_selection import train_test_split\n",
    "\n",
    "train_set,strat_test_set = train_test_split(ids,test_size=0.2,random_state=42,stratify=ids['target'])\n",
    "strat_train_set,strat_val_set=train_test_split(train_set,test_size=0.2,random_state=42,stratify=train_set['target'])"
   ]
  },
  {
   "cell_type": "code",
   "execution_count": 20,
   "id": "2cfc0576",
   "metadata": {},
   "outputs": [
    {
     "data": {
      "text/plain": [
       "normal    0.603290\n",
       "dos       0.374867\n",
       "probe     0.014631\n",
       "r2l       0.006869\n",
       "u2r       0.000343\n",
       "Name: target, dtype: float64"
      ]
     },
     "execution_count": 20,
     "metadata": {},
     "output_type": "execute_result"
    }
   ],
   "source": [
    "strat_test_set[\"target\"].value_counts() / len(strat_test_set)"
   ]
  },
  {
   "cell_type": "code",
   "execution_count": 21,
   "id": "96032d53",
   "metadata": {},
   "outputs": [
    {
     "data": {
      "text/plain": [
       "normal    0.603304\n",
       "dos       0.374846\n",
       "probe     0.014631\n",
       "r2l       0.006862\n",
       "u2r       0.000357\n",
       "Name: target, dtype: float64"
      ]
     },
     "execution_count": 21,
     "metadata": {},
     "output_type": "execute_result"
    }
   ],
   "source": [
    "ids['target'].value_counts() / len(ids)"
   ]
  },
  {
   "cell_type": "code",
   "execution_count": 22,
   "id": "47cc8d60",
   "metadata": {},
   "outputs": [],
   "source": [
    "### DATA ANALYSIS AND VISUALISATION ###"
   ]
  },
  {
   "cell_type": "code",
   "execution_count": 23,
   "id": "a76cae7d",
   "metadata": {},
   "outputs": [],
   "source": [
    "ids = strat_train_set.copy()"
   ]
  },
  {
   "cell_type": "code",
   "execution_count": 24,
   "id": "15fa262c",
   "metadata": {},
   "outputs": [
    {
     "name": "stdout",
     "output_type": "stream",
     "text": [
      "Saving figure Protocol type per attack\n"
     ]
    },
    {
     "data": {
      "image/png": "[encoded data removed]",
      "text/plain": [
       "<Figure size 432x288 with 1 Axes>"
      ]
     },
     "metadata": {
      "needs_background": "light"
     },
     "output_type": "display_data"
    }
   ],
   "source": [
    "import seaborn as sns\n",
    "\n",
    "sns.countplot(x = 'protocol_type',hue = \"target\",data = ids).set(title='Protocol type per attack')\n",
    "save_fig(\"Protocol type per attack\")\n",
    "plt.show()"
   ]
  },
  {
   "cell_type": "code",
   "execution_count": 25,
   "id": "d886579a",
   "metadata": {},
   "outputs": [
    {
     "name": "stdout",
     "output_type": "stream",
     "text": [
      "Saving figure Guest login per attack\n"
     ]
    },
    {
     "data": {
      "image/png": "[encoded data removed]",
      "text/plain": [
       "<Figure size 432x288 with 1 Axes>"
      ]
     },
     "metadata": {
      "needs_background": "light"
     },
     "output_type": "display_data"
    }
   ],
   "source": [
    "import seaborn as sns\n",
    "\n",
    "sns.countplot(x = 'is_guest_login',hue = \"target\",data = ids).set(title='Guest login per attack')\n",
    "save_fig(\"Guest login per attack\")\n",
    "plt.show()"
   ]
  },
  {
   "cell_type": "code",
   "execution_count": 26,
   "id": "d4a73d14",
   "metadata": {},
   "outputs": [
    {
     "name": "stdout",
     "output_type": "stream",
     "text": [
      "Saving figure Land status per attack\n"
     ]
    },
    {
     "data": {
      "image/png": "[encoded data removed]",
      "text/plain": [
       "<Figure size 432x288 with 1 Axes>"
      ]
     },
     "metadata": {
      "needs_background": "light"
     },
     "output_type": "display_data"
    }
   ],
   "source": [
    "import seaborn as sns\n",
    "\n",
    "sns.countplot(x = 'land',hue = \"target\",data = ids).set(title='Land status per attack')\n",
    "save_fig(\"Land status per attack\")\n",
    "plt.show()"
   ]
  },
  {
   "cell_type": "code",
   "execution_count": 27,
   "id": "ee0d45d9",
   "metadata": {},
   "outputs": [],
   "source": [
    "### CORRELATION MATRIX ###"
   ]
  },
  {
   "cell_type": "code",
   "execution_count": 28,
   "id": "ede426bf",
   "metadata": {},
   "outputs": [
    {
     "name": "stdout",
     "output_type": "stream",
     "text": [
      "Saving figure Correlation MATRIX\n"
     ]
    },
    {
     "data": {
      "image/png": "[encoded data removed]",
      "text/plain": [
       "<Figure size 1440x1440 with 2 Axes>"
      ]
     },
     "metadata": {
      "needs_background": "light"
     },
     "output_type": "display_data"
    }
   ],
   "source": [
    "%matplotlib inline\n",
    "import seaborn as sns\n",
    "import matplotlib.pyplot as plt\n",
    "\n",
    "f, ax = plt.subplots(figsize =(20,20)) \n",
    "\n",
    "corr_matrix=ids.drop(['num_outbound_cmds','is_host_login'],axis=1).corr()\n",
    "sns.heatmap(corr_matrix,ax = ax, linewidths = 0.2)\n",
    "\n",
    "save_fig('Correlation MATRIX')\n",
    "plt.show()"
   ]
  },
  {
   "cell_type": "code",
   "execution_count": 29,
   "id": "21e8eed5",
   "metadata": {},
   "outputs": [],
   "source": [
    "# ids['num_root'].corr(ids['num_compromised'])\n",
    "# This variable is highly correlated with num_compromised and should be ignored.\n",
    "# (Correlation = 0.9963131797054336)\n",
    "ids.drop('num_root',axis = 1,inplace = True)\n",
    "\n",
    "# ids['srv_serror_rate'].corr(ids['serror_rate'])\n",
    "# This variable is highly correlated with serror_rate and should be ignored.\n",
    "# (Correlation = 0.9945252278234321)\n",
    "ids.drop('srv_serror_rate',axis = 1,inplace = True)\n",
    "\n",
    "# ids['srv_rerror_rate'].corr(ids['rerror_rate'])\n",
    "# This variable is highly correlated with rerror_rate and should be ignored.\n",
    "# (Correlation = 0.9947309539817937)\n",
    "ids.drop('srv_rerror_rate',axis = 1, inplace=True)\n",
    "\n",
    "# ids['dst_host_srv_serror_rate'].corr(ids['srv_serror_rate'])\n",
    "# This variable is highly correlated with srv_serror_rate and should be ignored.\n",
    "# (Correlation = 0.9993041091850098)\n",
    "ids.drop('dst_host_srv_serror_rate',axis = 1, inplace=True)\n",
    "\n",
    "# ids['dst_host_serror_rate'].corr(ids['rerror_rate'])\n",
    "# This variable is highly correlated with rerror_rate and should be ignored.\n",
    "# (Correlation = 0.9869947924956001)\n",
    "ids.drop('dst_host_serror_rate',axis = 1, inplace=True)\n",
    "\n",
    "# ids['dst_host_rerror_rate'].corr(ids['srv_rerror_rate'])\n",
    "# This variable is highly correlated with srv_rerror_rate and should be ignored.\n",
    "# (Correlation = 0.9821663427308375)\n",
    "ids.drop('dst_host_rerror_rate',axis = 1, inplace=True)\n",
    "\n",
    "# ids['dst_host_srv_rerror_rate'].corr(ids['rerror_rate'])\n",
    "# This variable is highly correlated with rerror_rate and should be ignored.\n",
    "# (Correlation = 0.9851995540751249)\n",
    "ids.drop('dst_host_srv_rerror_rate',axis = 1, inplace=True)\n",
    "\n",
    "# ids['dst_host_same_srv_rate'].corr(ids['dst_host_srv_count'])\n",
    "# This variable is highly correlated with dst_host_srv_count and should be ignored.\n",
    "# (Correlation = 0.9736854572953938)\n",
    "ids.drop('dst_host_same_srv_rate',axis = 1, inplace=True)\n",
    "\n",
    "# This variable has all instances the same and should be ignored.\n",
    "ids.drop(['num_outbound_cmds','is_host_login'],axis=1,inplace=True)"
   ]
  },
  {
   "cell_type": "code",
   "execution_count": 30,
   "id": "d9205f98",
   "metadata": {},
   "outputs": [
    {
     "data": {
      "text/html": [
       "<div>\n",
       "<style scoped>\n",
       "    .dataframe tbody tr th:only-of-type {\n",
       "        vertical-align: middle;\n",
       "    }\n",
       "\n",
       "    .dataframe tbody tr th {\n",
       "        vertical-align: top;\n",
       "    }\n",
       "\n",
       "    .dataframe thead th {\n",
       "        text-align: right;\n",
       "    }\n",
       "</style>\n",
       "<table border=\"1\" class=\"dataframe\">\n",
       "  <thead>\n",
       "    <tr style=\"text-align: right;\">\n",
       "      <th></th>\n",
       "      <th>duration</th>\n",
       "      <th>protocol_type</th>\n",
       "      <th>service</th>\n",
       "      <th>flag</th>\n",
       "      <th>src_bytes</th>\n",
       "      <th>dst_bytes</th>\n",
       "      <th>land</th>\n",
       "      <th>wrong_fragment</th>\n",
       "      <th>urgent</th>\n",
       "      <th>hot</th>\n",
       "      <th>...</th>\n",
       "      <th>rerror_rate</th>\n",
       "      <th>same_srv_rate</th>\n",
       "      <th>diff_srv_rate</th>\n",
       "      <th>srv_diff_host_rate</th>\n",
       "      <th>dst_host_count</th>\n",
       "      <th>dst_host_srv_count</th>\n",
       "      <th>dst_host_diff_srv_rate</th>\n",
       "      <th>dst_host_same_src_port_rate</th>\n",
       "      <th>dst_host_srv_diff_host_rate</th>\n",
       "      <th>target</th>\n",
       "    </tr>\n",
       "  </thead>\n",
       "  <tbody>\n",
       "    <tr>\n",
       "      <th>90308</th>\n",
       "      <td>0</td>\n",
       "      <td>tcp</td>\n",
       "      <td>http</td>\n",
       "      <td>SF</td>\n",
       "      <td>183</td>\n",
       "      <td>2333</td>\n",
       "      <td>0</td>\n",
       "      <td>0</td>\n",
       "      <td>0</td>\n",
       "      <td>0</td>\n",
       "      <td>...</td>\n",
       "      <td>0.0</td>\n",
       "      <td>1.00</td>\n",
       "      <td>0.00</td>\n",
       "      <td>0.0</td>\n",
       "      <td>5</td>\n",
       "      <td>255</td>\n",
       "      <td>0.00</td>\n",
       "      <td>0.20</td>\n",
       "      <td>0.02</td>\n",
       "      <td>normal</td>\n",
       "    </tr>\n",
       "    <tr>\n",
       "      <th>378975</th>\n",
       "      <td>0</td>\n",
       "      <td>tcp</td>\n",
       "      <td>private</td>\n",
       "      <td>S0</td>\n",
       "      <td>0</td>\n",
       "      <td>0</td>\n",
       "      <td>0</td>\n",
       "      <td>0</td>\n",
       "      <td>0</td>\n",
       "      <td>0</td>\n",
       "      <td>...</td>\n",
       "      <td>0.0</td>\n",
       "      <td>0.06</td>\n",
       "      <td>0.05</td>\n",
       "      <td>0.0</td>\n",
       "      <td>255</td>\n",
       "      <td>8</td>\n",
       "      <td>0.05</td>\n",
       "      <td>0.00</td>\n",
       "      <td>0.00</td>\n",
       "      <td>dos</td>\n",
       "    </tr>\n",
       "    <tr>\n",
       "      <th>80287</th>\n",
       "      <td>0</td>\n",
       "      <td>tcp</td>\n",
       "      <td>http</td>\n",
       "      <td>SF</td>\n",
       "      <td>359</td>\n",
       "      <td>700</td>\n",
       "      <td>0</td>\n",
       "      <td>0</td>\n",
       "      <td>0</td>\n",
       "      <td>0</td>\n",
       "      <td>...</td>\n",
       "      <td>0.0</td>\n",
       "      <td>1.00</td>\n",
       "      <td>0.00</td>\n",
       "      <td>0.0</td>\n",
       "      <td>255</td>\n",
       "      <td>255</td>\n",
       "      <td>0.00</td>\n",
       "      <td>0.00</td>\n",
       "      <td>0.00</td>\n",
       "      <td>normal</td>\n",
       "    </tr>\n",
       "    <tr>\n",
       "      <th>481062</th>\n",
       "      <td>0</td>\n",
       "      <td>icmp</td>\n",
       "      <td>urp_i</td>\n",
       "      <td>SF</td>\n",
       "      <td>183</td>\n",
       "      <td>0</td>\n",
       "      <td>0</td>\n",
       "      <td>0</td>\n",
       "      <td>0</td>\n",
       "      <td>0</td>\n",
       "      <td>...</td>\n",
       "      <td>0.0</td>\n",
       "      <td>0.88</td>\n",
       "      <td>0.25</td>\n",
       "      <td>0.0</td>\n",
       "      <td>255</td>\n",
       "      <td>23</td>\n",
       "      <td>0.01</td>\n",
       "      <td>0.11</td>\n",
       "      <td>0.00</td>\n",
       "      <td>normal</td>\n",
       "    </tr>\n",
       "    <tr>\n",
       "      <th>349283</th>\n",
       "      <td>0</td>\n",
       "      <td>tcp</td>\n",
       "      <td>http</td>\n",
       "      <td>REJ</td>\n",
       "      <td>0</td>\n",
       "      <td>0</td>\n",
       "      <td>0</td>\n",
       "      <td>0</td>\n",
       "      <td>0</td>\n",
       "      <td>0</td>\n",
       "      <td>...</td>\n",
       "      <td>1.0</td>\n",
       "      <td>1.00</td>\n",
       "      <td>0.00</td>\n",
       "      <td>0.0</td>\n",
       "      <td>2</td>\n",
       "      <td>37</td>\n",
       "      <td>0.00</td>\n",
       "      <td>0.50</td>\n",
       "      <td>0.38</td>\n",
       "      <td>normal</td>\n",
       "    </tr>\n",
       "  </tbody>\n",
       "</table>\n",
       "<p>5 rows × 32 columns</p>\n",
       "</div>"
      ],
      "text/plain": [
       "        duration protocol_type  service flag  src_bytes  dst_bytes  land  \\\n",
       "90308          0           tcp     http   SF        183       2333     0   \n",
       "378975         0           tcp  private   S0          0          0     0   \n",
       "80287          0           tcp     http   SF        359        700     0   \n",
       "481062         0          icmp    urp_i   SF        183          0     0   \n",
       "349283         0           tcp     http  REJ          0          0     0   \n",
       "\n",
       "        wrong_fragment  urgent  hot  ...  rerror_rate  same_srv_rate  \\\n",
       "90308                0       0    0  ...          0.0           1.00   \n",
       "378975               0       0    0  ...          0.0           0.06   \n",
       "80287                0       0    0  ...          0.0           1.00   \n",
       "481062               0       0    0  ...          0.0           0.88   \n",
       "349283               0       0    0  ...          1.0           1.00   \n",
       "\n",
       "        diff_srv_rate  srv_diff_host_rate  dst_host_count  dst_host_srv_count  \\\n",
       "90308            0.00                 0.0               5                 255   \n",
       "378975           0.05                 0.0             255                   8   \n",
       "80287            0.00                 0.0             255                 255   \n",
       "481062           0.25                 0.0             255                  23   \n",
       "349283           0.00                 0.0               2                  37   \n",
       "\n",
       "        dst_host_diff_srv_rate  dst_host_same_src_port_rate  \\\n",
       "90308                     0.00                         0.20   \n",
       "378975                    0.05                         0.00   \n",
       "80287                     0.00                         0.00   \n",
       "481062                    0.01                         0.11   \n",
       "349283                    0.00                         0.50   \n",
       "\n",
       "        dst_host_srv_diff_host_rate  target  \n",
       "90308                          0.02  normal  \n",
       "378975                         0.00     dos  \n",
       "80287                          0.00  normal  \n",
       "481062                         0.00  normal  \n",
       "349283                         0.38  normal  \n",
       "\n",
       "[5 rows x 32 columns]"
      ]
     },
     "execution_count": 30,
     "metadata": {},
     "output_type": "execute_result"
    }
   ],
   "source": [
    "ids.head()"
   ]
  },
  {
   "cell_type": "code",
   "execution_count": 31,
   "id": "aa94741d",
   "metadata": {},
   "outputs": [],
   "source": [
    "### DATA PRE-PROCESSING BASED ON PREVIOUS RESULTS ###"
   ]
  },
  {
   "cell_type": "code",
   "execution_count": 32,
   "id": "0e588fc6",
   "metadata": {},
   "outputs": [],
   "source": [
    "ids=strat_train_set.drop(['target','num_root','srv_serror_rate','srv_rerror_rate','dst_host_srv_serror_rate','dst_host_srv_rerror_rate',\n",
    "                          'dst_host_serror_rate','dst_host_rerror_rate','dst_host_same_srv_rate','num_outbound_cmds','is_host_login'],axis=1)\n",
    "ids_labels=strat_train_set['target'].copy()"
   ]
  },
  {
   "cell_type": "code",
   "execution_count": 33,
   "id": "ed165aaf",
   "metadata": {},
   "outputs": [],
   "source": [
    "from sklearn.preprocessing import LabelEncoder\n",
    "\n",
    "target_encoder=LabelEncoder()\n",
    "target_encoder.fit(ids_labels)\n",
    "ids_labels=target_encoder.transform(ids_labels)"
   ]
  },
  {
   "cell_type": "code",
   "execution_count": 34,
   "id": "4d88284a",
   "metadata": {},
   "outputs": [],
   "source": [
    "### Missing values handling"
   ]
  },
  {
   "cell_type": "code",
   "execution_count": 35,
   "id": "ecca6eff",
   "metadata": {},
   "outputs": [
    {
     "data": {
      "image/png": "[encoded data removed]",
      "text/plain": [
       "<Figure size 720x360 with 1 Axes>"
      ]
     },
     "metadata": {
      "needs_background": "light"
     },
     "output_type": "display_data"
    }
   ],
   "source": [
    "import seaborn as sns\n",
    "\n",
    "%matplotlib inline\n",
    "plt.figure(figsize=(10,5))\n",
    "sns.heatmap(ids.isnull(),yticklabels=False,cbar=False)\n",
    "\n",
    "plt.show()"
   ]
  },
  {
   "cell_type": "code",
   "execution_count": 36,
   "id": "17a1b9c3",
   "metadata": {},
   "outputs": [],
   "source": [
    "### ENCODING NON-NUMBER VALUES AND CATEGORIES ###"
   ]
  },
  {
   "cell_type": "code",
   "execution_count": 37,
   "id": "51cf111a",
   "metadata": {},
   "outputs": [
    {
     "data": {
      "text/html": [
       "<div>\n",
       "<style scoped>\n",
       "    .dataframe tbody tr th:only-of-type {\n",
       "        vertical-align: middle;\n",
       "    }\n",
       "\n",
       "    .dataframe tbody tr th {\n",
       "        vertical-align: top;\n",
       "    }\n",
       "\n",
       "    .dataframe thead th {\n",
       "        text-align: right;\n",
       "    }\n",
       "</style>\n",
       "<table border=\"1\" class=\"dataframe\">\n",
       "  <thead>\n",
       "    <tr style=\"text-align: right;\">\n",
       "      <th></th>\n",
       "      <th>flag</th>\n",
       "      <th>service</th>\n",
       "      <th>protocol_type</th>\n",
       "    </tr>\n",
       "  </thead>\n",
       "  <tbody>\n",
       "    <tr>\n",
       "      <th>90308</th>\n",
       "      <td>SF</td>\n",
       "      <td>http</td>\n",
       "      <td>tcp</td>\n",
       "    </tr>\n",
       "    <tr>\n",
       "      <th>378975</th>\n",
       "      <td>S0</td>\n",
       "      <td>private</td>\n",
       "      <td>tcp</td>\n",
       "    </tr>\n",
       "    <tr>\n",
       "      <th>80287</th>\n",
       "      <td>SF</td>\n",
       "      <td>http</td>\n",
       "      <td>tcp</td>\n",
       "    </tr>\n",
       "    <tr>\n",
       "      <th>481062</th>\n",
       "      <td>SF</td>\n",
       "      <td>urp_i</td>\n",
       "      <td>icmp</td>\n",
       "    </tr>\n",
       "    <tr>\n",
       "      <th>349283</th>\n",
       "      <td>REJ</td>\n",
       "      <td>http</td>\n",
       "      <td>tcp</td>\n",
       "    </tr>\n",
       "    <tr>\n",
       "      <th>357370</th>\n",
       "      <td>S0</td>\n",
       "      <td>private</td>\n",
       "      <td>tcp</td>\n",
       "    </tr>\n",
       "    <tr>\n",
       "      <th>23902</th>\n",
       "      <td>SF</td>\n",
       "      <td>http</td>\n",
       "      <td>tcp</td>\n",
       "    </tr>\n",
       "    <tr>\n",
       "      <th>78495</th>\n",
       "      <td>SF</td>\n",
       "      <td>http</td>\n",
       "      <td>tcp</td>\n",
       "    </tr>\n",
       "    <tr>\n",
       "      <th>460364</th>\n",
       "      <td>REJ</td>\n",
       "      <td>ssh</td>\n",
       "      <td>tcp</td>\n",
       "    </tr>\n",
       "    <tr>\n",
       "      <th>383565</th>\n",
       "      <td>S0</td>\n",
       "      <td>private</td>\n",
       "      <td>tcp</td>\n",
       "    </tr>\n",
       "  </tbody>\n",
       "</table>\n",
       "</div>"
      ],
      "text/plain": [
       "       flag  service protocol_type\n",
       "90308    SF     http           tcp\n",
       "378975   S0  private           tcp\n",
       "80287    SF     http           tcp\n",
       "481062   SF    urp_i          icmp\n",
       "349283  REJ     http           tcp\n",
       "357370   S0  private           tcp\n",
       "23902    SF     http           tcp\n",
       "78495    SF     http           tcp\n",
       "460364  REJ      ssh           tcp\n",
       "383565   S0  private           tcp"
      ]
     },
     "execution_count": 37,
     "metadata": {},
     "output_type": "execute_result"
    }
   ],
   "source": [
    "ids_cat=ids[['flag', 'service', 'protocol_type']]\n",
    "ids_cat.head(10)"
   ]
  },
  {
   "cell_type": "code",
   "execution_count": 38,
   "id": "4d888a47",
   "metadata": {},
   "outputs": [
    {
     "data": {
      "text/plain": [
       "<93174x79 sparse matrix of type '<class 'numpy.float64'>'\n",
       "\twith 279522 stored elements in Compressed Sparse Row format>"
      ]
     },
     "execution_count": 38,
     "metadata": {},
     "output_type": "execute_result"
    }
   ],
   "source": [
    "from sklearn.preprocessing import OneHotEncoder\n",
    "\n",
    "cat_encoder = OneHotEncoder()\n",
    "ids_cat_1hot = cat_encoder.fit_transform(ids_cat)\n",
    "ids_cat_1hot"
   ]
  },
  {
   "cell_type": "code",
   "execution_count": 39,
   "id": "c7f5fa47",
   "metadata": {},
   "outputs": [
    {
     "data": {
      "text/plain": [
       "array([[0., 0., 0., ..., 0., 1., 0.],\n",
       "       [0., 0., 0., ..., 0., 1., 0.],\n",
       "       [0., 0., 0., ..., 0., 1., 0.],\n",
       "       ...,\n",
       "       [0., 0., 0., ..., 0., 1., 0.],\n",
       "       [0., 0., 0., ..., 0., 1., 0.],\n",
       "       [0., 0., 0., ..., 0., 1., 0.]])"
      ]
     },
     "execution_count": 39,
     "metadata": {},
     "output_type": "execute_result"
    }
   ],
   "source": [
    "ids_cat_1hot.toarray()"
   ]
  },
  {
   "cell_type": "code",
   "execution_count": 40,
   "id": "ceae582a",
   "metadata": {},
   "outputs": [
    {
     "data": {
      "text/plain": [
       "(93174, 79)"
      ]
     },
     "execution_count": 40,
     "metadata": {},
     "output_type": "execute_result"
    }
   ],
   "source": [
    "ids_cat_1hot.shape"
   ]
  },
  {
   "cell_type": "code",
   "execution_count": 41,
   "id": "98ef9d83",
   "metadata": {},
   "outputs": [
    {
     "data": {
      "text/plain": [
       "[array(['OTH', 'REJ', 'RSTO', 'RSTOS0', 'RSTR', 'S0', 'S1', 'S2', 'S3',\n",
       "        'SF', 'SH'], dtype=object),\n",
       " array(['IRC', 'X11', 'Z39_50', 'auth', 'bgp', 'courier', 'csnet_ns',\n",
       "        'ctf', 'daytime', 'discard', 'domain', 'domain_u', 'echo', 'eco_i',\n",
       "        'ecr_i', 'efs', 'exec', 'finger', 'ftp', 'ftp_data', 'gopher',\n",
       "        'hostnames', 'http', 'http_443', 'imap4', 'iso_tsap', 'klogin',\n",
       "        'kshell', 'ldap', 'link', 'login', 'mtp', 'name', 'netbios_dgm',\n",
       "        'netbios_ns', 'netbios_ssn', 'netstat', 'nnsp', 'nntp', 'ntp_u',\n",
       "        'other', 'pm_dump', 'pop_2', 'pop_3', 'printer', 'private',\n",
       "        'red_i', 'remote_job', 'rje', 'shell', 'smtp', 'sql_net', 'ssh',\n",
       "        'sunrpc', 'supdup', 'systat', 'telnet', 'tim_i', 'time', 'urh_i',\n",
       "        'urp_i', 'uucp', 'uucp_path', 'vmnet', 'whois'], dtype=object),\n",
       " array(['icmp', 'tcp', 'udp'], dtype=object)]"
      ]
     },
     "execution_count": 41,
     "metadata": {},
     "output_type": "execute_result"
    }
   ],
   "source": [
    "cat_encoder.categories_"
   ]
  },
  {
   "cell_type": "code",
   "execution_count": 42,
   "id": "37a0d8cd",
   "metadata": {},
   "outputs": [],
   "source": [
    "### DETECT ANY OUTLIERS IN THE DATASET ###"
   ]
  },
  {
   "cell_type": "code",
   "execution_count": 43,
   "id": "7ea01986",
   "metadata": {},
   "outputs": [
    {
     "data": {
      "text/html": [
       "<div>\n",
       "<style scoped>\n",
       "    .dataframe tbody tr th:only-of-type {\n",
       "        vertical-align: middle;\n",
       "    }\n",
       "\n",
       "    .dataframe tbody tr th {\n",
       "        vertical-align: top;\n",
       "    }\n",
       "\n",
       "    .dataframe thead th {\n",
       "        text-align: right;\n",
       "    }\n",
       "</style>\n",
       "<table border=\"1\" class=\"dataframe\">\n",
       "  <thead>\n",
       "    <tr style=\"text-align: right;\">\n",
       "      <th></th>\n",
       "      <th>duration</th>\n",
       "      <th>src_bytes</th>\n",
       "      <th>dst_bytes</th>\n",
       "      <th>land</th>\n",
       "      <th>wrong_fragment</th>\n",
       "      <th>urgent</th>\n",
       "      <th>hot</th>\n",
       "      <th>num_failed_logins</th>\n",
       "      <th>logged_in</th>\n",
       "      <th>num_compromised</th>\n",
       "      <th>...</th>\n",
       "      <th>serror_rate</th>\n",
       "      <th>rerror_rate</th>\n",
       "      <th>same_srv_rate</th>\n",
       "      <th>diff_srv_rate</th>\n",
       "      <th>srv_diff_host_rate</th>\n",
       "      <th>dst_host_count</th>\n",
       "      <th>dst_host_srv_count</th>\n",
       "      <th>dst_host_diff_srv_rate</th>\n",
       "      <th>dst_host_same_src_port_rate</th>\n",
       "      <th>dst_host_srv_diff_host_rate</th>\n",
       "    </tr>\n",
       "  </thead>\n",
       "  <tbody>\n",
       "    <tr>\n",
       "      <th>90308</th>\n",
       "      <td>0</td>\n",
       "      <td>183</td>\n",
       "      <td>2333</td>\n",
       "      <td>0</td>\n",
       "      <td>0</td>\n",
       "      <td>0</td>\n",
       "      <td>0</td>\n",
       "      <td>0</td>\n",
       "      <td>1</td>\n",
       "      <td>0</td>\n",
       "      <td>...</td>\n",
       "      <td>0.0</td>\n",
       "      <td>0.0</td>\n",
       "      <td>1.00</td>\n",
       "      <td>0.00</td>\n",
       "      <td>0.0</td>\n",
       "      <td>5</td>\n",
       "      <td>255</td>\n",
       "      <td>0.00</td>\n",
       "      <td>0.20</td>\n",
       "      <td>0.02</td>\n",
       "    </tr>\n",
       "    <tr>\n",
       "      <th>378975</th>\n",
       "      <td>0</td>\n",
       "      <td>0</td>\n",
       "      <td>0</td>\n",
       "      <td>0</td>\n",
       "      <td>0</td>\n",
       "      <td>0</td>\n",
       "      <td>0</td>\n",
       "      <td>0</td>\n",
       "      <td>0</td>\n",
       "      <td>0</td>\n",
       "      <td>...</td>\n",
       "      <td>1.0</td>\n",
       "      <td>0.0</td>\n",
       "      <td>0.06</td>\n",
       "      <td>0.05</td>\n",
       "      <td>0.0</td>\n",
       "      <td>255</td>\n",
       "      <td>8</td>\n",
       "      <td>0.05</td>\n",
       "      <td>0.00</td>\n",
       "      <td>0.00</td>\n",
       "    </tr>\n",
       "    <tr>\n",
       "      <th>80287</th>\n",
       "      <td>0</td>\n",
       "      <td>359</td>\n",
       "      <td>700</td>\n",
       "      <td>0</td>\n",
       "      <td>0</td>\n",
       "      <td>0</td>\n",
       "      <td>0</td>\n",
       "      <td>0</td>\n",
       "      <td>1</td>\n",
       "      <td>0</td>\n",
       "      <td>...</td>\n",
       "      <td>0.0</td>\n",
       "      <td>0.0</td>\n",
       "      <td>1.00</td>\n",
       "      <td>0.00</td>\n",
       "      <td>0.0</td>\n",
       "      <td>255</td>\n",
       "      <td>255</td>\n",
       "      <td>0.00</td>\n",
       "      <td>0.00</td>\n",
       "      <td>0.00</td>\n",
       "    </tr>\n",
       "    <tr>\n",
       "      <th>481062</th>\n",
       "      <td>0</td>\n",
       "      <td>183</td>\n",
       "      <td>0</td>\n",
       "      <td>0</td>\n",
       "      <td>0</td>\n",
       "      <td>0</td>\n",
       "      <td>0</td>\n",
       "      <td>0</td>\n",
       "      <td>0</td>\n",
       "      <td>0</td>\n",
       "      <td>...</td>\n",
       "      <td>0.0</td>\n",
       "      <td>0.0</td>\n",
       "      <td>0.88</td>\n",
       "      <td>0.25</td>\n",
       "      <td>0.0</td>\n",
       "      <td>255</td>\n",
       "      <td>23</td>\n",
       "      <td>0.01</td>\n",
       "      <td>0.11</td>\n",
       "      <td>0.00</td>\n",
       "    </tr>\n",
       "    <tr>\n",
       "      <th>349283</th>\n",
       "      <td>0</td>\n",
       "      <td>0</td>\n",
       "      <td>0</td>\n",
       "      <td>0</td>\n",
       "      <td>0</td>\n",
       "      <td>0</td>\n",
       "      <td>0</td>\n",
       "      <td>0</td>\n",
       "      <td>0</td>\n",
       "      <td>0</td>\n",
       "      <td>...</td>\n",
       "      <td>0.0</td>\n",
       "      <td>1.0</td>\n",
       "      <td>1.00</td>\n",
       "      <td>0.00</td>\n",
       "      <td>0.0</td>\n",
       "      <td>2</td>\n",
       "      <td>37</td>\n",
       "      <td>0.00</td>\n",
       "      <td>0.50</td>\n",
       "      <td>0.38</td>\n",
       "    </tr>\n",
       "  </tbody>\n",
       "</table>\n",
       "<p>5 rows × 28 columns</p>\n",
       "</div>"
      ],
      "text/plain": [
       "        duration  src_bytes  dst_bytes  land  wrong_fragment  urgent  hot  \\\n",
       "90308          0        183       2333     0               0       0    0   \n",
       "378975         0          0          0     0               0       0    0   \n",
       "80287          0        359        700     0               0       0    0   \n",
       "481062         0        183          0     0               0       0    0   \n",
       "349283         0          0          0     0               0       0    0   \n",
       "\n",
       "        num_failed_logins  logged_in  num_compromised  ...  serror_rate  \\\n",
       "90308                   0          1                0  ...          0.0   \n",
       "378975                  0          0                0  ...          1.0   \n",
       "80287                   0          1                0  ...          0.0   \n",
       "481062                  0          0                0  ...          0.0   \n",
       "349283                  0          0                0  ...          0.0   \n",
       "\n",
       "        rerror_rate  same_srv_rate  diff_srv_rate  srv_diff_host_rate  \\\n",
       "90308           0.0           1.00           0.00                 0.0   \n",
       "378975          0.0           0.06           0.05                 0.0   \n",
       "80287           0.0           1.00           0.00                 0.0   \n",
       "481062          0.0           0.88           0.25                 0.0   \n",
       "349283          1.0           1.00           0.00                 0.0   \n",
       "\n",
       "        dst_host_count  dst_host_srv_count  dst_host_diff_srv_rate  \\\n",
       "90308                5                 255                    0.00   \n",
       "378975             255                   8                    0.05   \n",
       "80287              255                 255                    0.00   \n",
       "481062             255                  23                    0.01   \n",
       "349283               2                  37                    0.00   \n",
       "\n",
       "        dst_host_same_src_port_rate  dst_host_srv_diff_host_rate  \n",
       "90308                          0.20                         0.02  \n",
       "378975                         0.00                         0.00  \n",
       "80287                          0.00                         0.00  \n",
       "481062                         0.11                         0.00  \n",
       "349283                         0.50                         0.38  \n",
       "\n",
       "[5 rows x 28 columns]"
      ]
     },
     "execution_count": 43,
     "metadata": {},
     "output_type": "execute_result"
    }
   ],
   "source": [
    "ids_num=ids.drop(['flag', 'service','protocol_type'],axis=1)\n",
    "ids_num.head()"
   ]
  },
  {
   "cell_type": "code",
   "execution_count": 44,
   "id": "ce81df85",
   "metadata": {},
   "outputs": [],
   "source": [
    "from sklearn.ensemble import IsolationForest\n",
    "\n",
    "isolation_forest = IsolationForest()\n",
    "outlier_pred = isolation_forest.fit_predict(ids_num)\n",
    "\n",
    "ids_clean = ids[outlier_pred == 1]\n",
    "ids_labels_clean = ids_labels[outlier_pred == 1]"
   ]
  },
  {
   "cell_type": "code",
   "execution_count": 45,
   "id": "b3259ee7",
   "metadata": {},
   "outputs": [
    {
     "data": {
      "text/plain": [
       "((86864, 31), (86864,))"
      ]
     },
     "execution_count": 45,
     "metadata": {},
     "output_type": "execute_result"
    }
   ],
   "source": [
    "ids_clean.shape,ids_labels_clean.shape"
   ]
  },
  {
   "cell_type": "code",
   "execution_count": 46,
   "id": "73860560",
   "metadata": {},
   "outputs": [],
   "source": [
    "### TRANSFORMER PIPELINE ###"
   ]
  },
  {
   "cell_type": "code",
   "execution_count": 47,
   "id": "99895dc7",
   "metadata": {},
   "outputs": [
    {
     "data": {
      "text/plain": [
       "array([[-0.10782789, -0.0045491 , -0.00850249, ..., -0.41781426,\n",
       "         0.44001943,  0.01745376],\n",
       "       [-0.10782789, -0.00462958, -0.04887979, ..., -0.07964627,\n",
       "        -0.38545887, -0.31650996],\n",
       "       [-0.10782789, -0.0044717 , -0.03676487, ..., -0.41781426,\n",
       "        -0.38545887, -0.31650996],\n",
       "       ...,\n",
       "       [-0.10782789, -0.00462958, -0.04887979, ...,  0.05562093,\n",
       "        -0.38545887, -0.31650996],\n",
       "       [-0.10782789, -0.0042694 , -0.04311655, ...,  3.64020168,\n",
       "         0.44001943,  0.01745376],\n",
       "       [-0.10782789, -0.00462958, -0.04887979, ...,  0.19088813,\n",
       "        -0.38545887, -0.31650996]])"
      ]
     },
     "execution_count": 47,
     "metadata": {},
     "output_type": "execute_result"
    }
   ],
   "source": [
    "from sklearn.preprocessing import StandardScaler\n",
    "\n",
    "standadizer=StandardScaler()\n",
    "ids_num_tr=standadizer.fit_transform(ids_num)\n",
    "\n",
    "ids_num_tr"
   ]
  },
  {
   "cell_type": "code",
   "execution_count": 48,
   "id": "1d47f9af",
   "metadata": {},
   "outputs": [],
   "source": [
    "from sklearn.compose import ColumnTransformer\n",
    "\n",
    "num_attribs = list(ids_num)\n",
    "cat_attribs = ['flag', 'service','protocol_type']\n",
    "\n",
    "full_pipeline = ColumnTransformer([\n",
    "        (\"num\", StandardScaler(), num_attribs),\n",
    "        (\"cat\", OneHotEncoder(handle_unknown='ignore'), cat_attribs),\n",
    "    ])\n",
    "\n",
    "ids_prepared = full_pipeline.fit_transform(ids_clean)\n",
    "ids_labels=ids_labels_clean.copy()"
   ]
  },
  {
   "cell_type": "code",
   "execution_count": 49,
   "id": "ef4da4dd",
   "metadata": {},
   "outputs": [
    {
     "data": {
      "text/plain": [
       "(86864, 105)"
      ]
     },
     "execution_count": 49,
     "metadata": {},
     "output_type": "execute_result"
    }
   ],
   "source": [
    "ids_prepared.shape"
   ]
  },
  {
   "cell_type": "code",
   "execution_count": 50,
   "id": "44407fe5",
   "metadata": {},
   "outputs": [
    {
     "data": {
      "text/plain": [
       "Counter({1: 52633, 0: 33664, 2: 194, 3: 358, 4: 15})"
      ]
     },
     "execution_count": 50,
     "metadata": {},
     "output_type": "execute_result"
    }
   ],
   "source": [
    "from collections import Counter\n",
    "Counter(ids_labels)"
   ]
  },
  {
   "cell_type": "code",
   "execution_count": 51,
   "id": "78e4792e",
   "metadata": {},
   "outputs": [],
   "source": [
    "ids_bin_labels=(ids_labels==1).astype(int)\n",
    "# 0 - dos\n",
    "# 1 - normal \n",
    "# 2 - r2l\n",
    "# 3 - probe\n",
    "# 4 - u2r"
   ]
  },
  {
   "cell_type": "code",
   "execution_count": 52,
   "id": "af0d2c17",
   "metadata": {},
   "outputs": [],
   "source": [
    "### BINARY CLASSIFICATION"
   ]
  },
  {
   "cell_type": "code",
   "execution_count": 53,
   "id": "1fad4759",
   "metadata": {},
   "outputs": [
    {
     "data": {
      "text/plain": [
       "LogisticRegression(penalty='l1', solver='liblinear')"
      ]
     },
     "execution_count": 53,
     "metadata": {},
     "output_type": "execute_result"
    }
   ],
   "source": [
    "from sklearn.linear_model import LogisticRegression\n",
    "\n",
    "sgd_clf=LogisticRegression(penalty='l1',solver='liblinear')\n",
    "sgd_clf.fit(ids_prepared,ids_bin_labels)"
   ]
  },
  {
   "cell_type": "code",
   "execution_count": 54,
   "id": "678a8138",
   "metadata": {},
   "outputs": [
    {
     "data": {
      "text/plain": [
       "array([[34090,   141],\n",
       "       [   46, 52587]], dtype=int64)"
      ]
     },
     "execution_count": 54,
     "metadata": {},
     "output_type": "execute_result"
    }
   ],
   "source": [
    "from sklearn.metrics import confusion_matrix\n",
    "\n",
    "ids_predictions=sgd_clf.predict(ids_prepared)\n",
    "confusion_matrix(ids_bin_labels,ids_predictions)"
   ]
  },
  {
   "cell_type": "code",
   "execution_count": 55,
   "id": "383a2db7",
   "metadata": {},
   "outputs": [],
   "source": [
    "x_val=strat_val_set.drop(['target','num_root','srv_serror_rate','srv_rerror_rate','dst_host_srv_serror_rate','dst_host_srv_rerror_rate',\n",
    "                          'dst_host_serror_rate','dst_host_rerror_rate','dst_host_same_srv_rate','num_outbound_cmds','is_host_login'],axis=1)\n",
    "y_val=strat_val_set['target'].copy()\n",
    "\n",
    "x_val_prepared=full_pipeline.transform(x_val)\n",
    "validation_prediction=sgd_clf.predict(x_val_prepared)\n",
    "\n",
    "y_val=target_encoder.transform(y_val)\n",
    "y_bin_val=(y_val==1).astype(int)"
   ]
  },
  {
   "cell_type": "code",
   "execution_count": 56,
   "id": "41b0972c",
   "metadata": {},
   "outputs": [
    {
     "name": "stdout",
     "output_type": "stream",
     "text": [
      "0.9864342749205804\n",
      "0.9827113641155387\n",
      "0.9950188571835196\n"
     ]
    },
    {
     "data": {
      "text/plain": [
       "array([[ 8995,   246],\n",
       "       [   70, 13983]], dtype=int64)"
      ]
     },
     "execution_count": 56,
     "metadata": {},
     "output_type": "execute_result"
    }
   ],
   "source": [
    "from sklearn.metrics import accuracy_score,precision_score,recall_score,confusion_matrix\n",
    "\n",
    "print(accuracy_score(y_bin_val,validation_prediction))\n",
    "print(precision_score(y_bin_val,validation_prediction))\n",
    "print(recall_score(y_bin_val,validation_prediction))\n",
    "confusion_matrix(y_bin_val,validation_prediction)"
   ]
  },
  {
   "cell_type": "code",
   "execution_count": 57,
   "id": "78870435",
   "metadata": {},
   "outputs": [],
   "source": [
    "### MODELS ###"
   ]
  },
  {
   "cell_type": "code",
   "execution_count": 58,
   "id": "657789b9",
   "metadata": {},
   "outputs": [
    {
     "data": {
      "text/plain": [
       "LogisticRegression(max_iter=1000, multi_class='multinomial')"
      ]
     },
     "execution_count": 58,
     "metadata": {},
     "output_type": "execute_result"
    }
   ],
   "source": [
    "#SOFTMAX REGRESSION\n",
    "\n",
    "from sklearn.linear_model import LogisticRegression\n",
    "\n",
    "softmax_reg=LogisticRegression(multi_class='multinomial',max_iter=1000)\n",
    "softmax_reg.fit(ids_prepared,ids_labels)"
   ]
  },
  {
   "cell_type": "code",
   "execution_count": 59,
   "id": "0e19ad12",
   "metadata": {},
   "outputs": [
    {
     "name": "stdout",
     "output_type": "stream",
     "text": [
      "Predictions: [1 0 1 1 1]\n"
     ]
    }
   ],
   "source": [
    "some_data = ids.iloc[:5]\n",
    "some_labels = ids_labels[:5]\n",
    "some_data_prepared = full_pipeline.transform(some_data)\n",
    "\n",
    "print(\"Predictions:\", softmax_reg.predict(some_data_prepared))"
   ]
  },
  {
   "cell_type": "code",
   "execution_count": 60,
   "id": "1c979cc0",
   "metadata": {},
   "outputs": [
    {
     "name": "stdout",
     "output_type": "stream",
     "text": [
      "Labels: [1, 0, 1, 1, 0]\n"
     ]
    }
   ],
   "source": [
    "print(\"Labels:\", list(some_labels))"
   ]
  },
  {
   "cell_type": "code",
   "execution_count": 61,
   "id": "34db2a64",
   "metadata": {},
   "outputs": [
    {
     "data": {
      "text/plain": [
       "array([[33651,    13,     0,     0,     0],\n",
       "       [   10, 52602,    12,     8,     1],\n",
       "       [    5,    52,   137,     0,     0],\n",
       "       [    0,    37,     0,   321,     0],\n",
       "       [    0,     6,     0,     2,     7]], dtype=int64)"
      ]
     },
     "execution_count": 61,
     "metadata": {},
     "output_type": "execute_result"
    }
   ],
   "source": [
    "from sklearn.metrics import confusion_matrix\n",
    "\n",
    "ids_predictions=softmax_reg.predict(ids_prepared)\n",
    "confusion_matrix(ids_labels,ids_predictions)"
   ]
  },
  {
   "cell_type": "code",
   "execution_count": 62,
   "id": "d4e8fccc",
   "metadata": {},
   "outputs": [
    {
     "data": {
      "text/plain": [
       "KNeighborsClassifier()"
      ]
     },
     "execution_count": 62,
     "metadata": {},
     "output_type": "execute_result"
    }
   ],
   "source": [
    "#KNN CLASSIFIER\n",
    "\n",
    "from sklearn.neighbors import KNeighborsClassifier\n",
    "\n",
    "neigh_clf = KNeighborsClassifier()\n",
    "neigh_clf.fit(ids_prepared,ids_labels)"
   ]
  },
  {
   "cell_type": "code",
   "execution_count": 63,
   "id": "0cde8913",
   "metadata": {},
   "outputs": [
    {
     "data": {
      "text/plain": [
       "array([[33660,     3,     1,     0,     0],\n",
       "       [    6, 52609,     4,    14,     0],\n",
       "       [    2,    16,   176,     0,     0],\n",
       "       [    0,    17,     0,   341,     0],\n",
       "       [    0,    11,     0,     2,     2]], dtype=int64)"
      ]
     },
     "execution_count": 63,
     "metadata": {},
     "output_type": "execute_result"
    }
   ],
   "source": [
    "from sklearn.metrics import confusion_matrix\n",
    "\n",
    "ids_predictions=neigh_clf.predict(ids_prepared)\n",
    "confusion_matrix(ids_labels,ids_predictions)"
   ]
  },
  {
   "cell_type": "code",
   "execution_count": 64,
   "id": "841041e9",
   "metadata": {},
   "outputs": [],
   "source": [
    "### VERIFY WITH VALIDATION SET ###"
   ]
  },
  {
   "cell_type": "code",
   "execution_count": 65,
   "id": "a03c0be9",
   "metadata": {},
   "outputs": [],
   "source": [
    "x_val=strat_val_set.drop(['target','num_root','srv_serror_rate','srv_rerror_rate','dst_host_srv_serror_rate','dst_host_srv_rerror_rate',\n",
    "                          'dst_host_serror_rate','dst_host_rerror_rate','dst_host_same_srv_rate','num_outbound_cmds','is_host_login'],axis=1)\n",
    "\n",
    "y_val=strat_val_set['target'].copy()\n",
    "\n",
    "x_val_prepared=full_pipeline.transform(x_val)\n",
    "y_val=target_encoder.transform(y_val)"
   ]
  },
  {
   "cell_type": "code",
   "execution_count": 66,
   "id": "2aa282ad",
   "metadata": {},
   "outputs": [],
   "source": [
    "validation_prediction=softmax_reg.predict(x_val_prepared)"
   ]
  },
  {
   "cell_type": "code",
   "execution_count": 67,
   "id": "ee451418",
   "metadata": {},
   "outputs": [
    {
     "name": "stdout",
     "output_type": "stream",
     "text": [
      "0.9800807074783205\n",
      "0.9790324397113145\n",
      "0.9800807074783205\n"
     ]
    },
    {
     "data": {
      "text/plain": [
       "array([[ 8562,   156,    14,     0,     0],\n",
       "       [   19, 13984,    34,    10,     6],\n",
       "       [  106,    29,   200,     6,     0],\n",
       "       [   53,    26,     2,    78,     1],\n",
       "       [    0,     2,     0,     0,     6]], dtype=int64)"
      ]
     },
     "execution_count": 67,
     "metadata": {},
     "output_type": "execute_result"
    }
   ],
   "source": [
    "from sklearn.metrics import accuracy_score,precision_score,recall_score,confusion_matrix\n",
    "\n",
    "print(accuracy_score(y_val,validation_prediction))\n",
    "print(precision_score(y_val,validation_prediction,average='weighted'))\n",
    "print(recall_score(y_val,validation_prediction,average='weighted'))\n",
    "confusion_matrix(y_val,validation_prediction)"
   ]
  },
  {
   "cell_type": "code",
   "execution_count": 68,
   "id": "88a48203",
   "metadata": {},
   "outputs": [],
   "source": [
    "validation_prediction=neigh_clf.predict(x_val_prepared)"
   ]
  },
  {
   "cell_type": "code",
   "execution_count": 69,
   "id": "dd620501",
   "metadata": {},
   "outputs": [
    {
     "name": "stdout",
     "output_type": "stream",
     "text": [
      "0.9738559285652958\n",
      "0.9734532715660829\n",
      "0.9738559285652958\n"
     ]
    },
    {
     "data": {
      "text/plain": [
       "array([[ 8472,   259,     1,     0,     0],\n",
       "       [    6, 14031,    11,     5,     0],\n",
       "       [    6,   240,    95,     0,     0],\n",
       "       [    3,    72,     0,    85,     0],\n",
       "       [    0,     5,     0,     1,     2]], dtype=int64)"
      ]
     },
     "execution_count": 69,
     "metadata": {},
     "output_type": "execute_result"
    }
   ],
   "source": [
    "from sklearn.metrics import accuracy_score,precision_score,recall_score,confusion_matrix\n",
    "\n",
    "print(accuracy_score(y_val,validation_prediction))\n",
    "print(precision_score(y_val,validation_prediction,average='weighted'))\n",
    "print(recall_score(y_val,validation_prediction,average='weighted'))\n",
    "confusion_matrix(y_val,validation_prediction)"
   ]
  },
  {
   "cell_type": "code",
   "execution_count": 70,
   "id": "afca8a46",
   "metadata": {},
   "outputs": [],
   "source": [
    "### GRID SEARCH FOR SOFTMAX REGRESSION TO OPTIMIZE PARAMETERS ###"
   ]
  },
  {
   "cell_type": "code",
   "execution_count": 71,
   "id": "60694944",
   "metadata": {
    "scrolled": true
   },
   "outputs": [
    {
     "name": "stdout",
     "output_type": "stream",
     "text": [
      "Fitting 3 folds for each of 28 candidates, totalling 84 fits\n"
     ]
    },
    {
     "data": {
      "text/plain": [
       "GridSearchCV(cv=3,\n",
       "             estimator=LogisticRegression(max_iter=1000,\n",
       "                                          multi_class='multinomial'),\n",
       "             n_jobs=-1,\n",
       "             param_grid=[{'C': [0.001, 0.01, 0.1, 1, 10, 100, 1000],\n",
       "                          'max_iter': [1000], 'multi_class': ['multinomial'],\n",
       "                          'penalty': ['l2'],\n",
       "                          'solver': ['newton-cg', 'sag', 'saga']},\n",
       "                         {'C': [0.001, 0.01, 0.1, 1, 10, 100, 1000],\n",
       "                          'max_iter': [400], 'multi_class': ['multinomial'],\n",
       "                          'penalty': ['l1'], 'solver': ['saga']}],\n",
       "             verbose=2)"
      ]
     },
     "execution_count": 71,
     "metadata": {},
     "output_type": "execute_result"
    }
   ],
   "source": [
    "from sklearn.model_selection import GridSearchCV\n",
    "from sklearn.linear_model import LogisticRegression\n",
    "from sklearn.metrics import f1_score\n",
    "\n",
    "params_grid=[\n",
    "    {\n",
    "        'penalty' : ['l2'],\n",
    "        'C': [0.001, 0.01, 0.1, 1, 10, 100, 1000],\n",
    "        'multi_class' : ['multinomial'],\n",
    "        'solver' : ['newton-cg', 'sag', 'saga'],\n",
    "        'max_iter' : [1000]\n",
    "    },\n",
    "    {\n",
    "        'penalty' : ['l1'],\n",
    "        'C': [0.001, 0.01, 0.1, 1, 10, 100, 1000],\n",
    "        'multi_class' : ['multinomial'],\n",
    "        'solver' : ['saga'],\n",
    "        'max_iter' : [400]\n",
    "    }\n",
    "]\n",
    "\n",
    "grid_search=GridSearchCV(softmax_reg,params_grid,cv=3,verbose=2,n_jobs=-1)\n",
    "grid_search.fit(ids_prepared,ids_labels)"
   ]
  },
  {
   "cell_type": "code",
   "execution_count": 72,
   "id": "b2fc2a3e",
   "metadata": {},
   "outputs": [
    {
     "data": {
      "text/plain": [
       "({'C': 10,\n",
       "  'max_iter': 1000,\n",
       "  'multi_class': 'multinomial',\n",
       "  'penalty': 'l2',\n",
       "  'solver': 'newton-cg'},\n",
       " 0.9982386274878894)"
      ]
     },
     "execution_count": 72,
     "metadata": {},
     "output_type": "execute_result"
    }
   ],
   "source": [
    "best_params,best_score=grid_search.best_params_,grid_search.best_score_\n",
    "best_params,best_score"
   ]
  },
  {
   "cell_type": "code",
   "execution_count": 100,
   "id": "e6d44af9",
   "metadata": {},
   "outputs": [
    {
     "name": "stdout",
     "output_type": "stream",
     "text": [
      "LogisticRegression(C=10, max_iter=1000, multi_class='multinomial',\n",
      "                   solver='newton-cg')\n"
     ]
    }
   ],
   "source": [
    "### Best model obtained from grid search ###\n",
    "print(grid_search.best_estimator_)"
   ]
  },
  {
   "cell_type": "code",
   "execution_count": 73,
   "id": "8743a903",
   "metadata": {},
   "outputs": [],
   "source": [
    "### RE-VERIFY WITH OPTIMIZED PARAMETERS ###"
   ]
  },
  {
   "cell_type": "code",
   "execution_count": 74,
   "id": "ed3d731b",
   "metadata": {},
   "outputs": [],
   "source": [
    "x_test=strat_test_set.drop(['target','num_root','srv_serror_rate','srv_rerror_rate','dst_host_srv_serror_rate','dst_host_srv_rerror_rate',\n",
    "                          'dst_host_serror_rate','dst_host_rerror_rate','dst_host_same_srv_rate','num_outbound_cmds','is_host_login'],axis=1)\n",
    "\n",
    "y_test=strat_test_set['target'].copy()\n",
    "\n",
    "x_test_prepared=full_pipeline.transform(x_test)\n",
    "y_test=target_encoder.transform(y_test)"
   ]
  },
  {
   "cell_type": "code",
   "execution_count": 75,
   "id": "ceaf2697",
   "metadata": {},
   "outputs": [
    {
     "data": {
      "text/plain": [
       "0.9797284598374719"
      ]
     },
     "execution_count": 75,
     "metadata": {},
     "output_type": "execute_result"
    }
   ],
   "source": [
    "### Accuracy of the model prediction ###\n",
    "test_prediction=grid_search.best_estimator_.predict(x_test_prepared)\n",
    "f1_score(y_test,test_prediction,average='weighted')"
   ]
  },
  {
   "cell_type": "code",
   "execution_count": 86,
   "id": "8e4af5ed",
   "metadata": {},
   "outputs": [
    {
     "name": "stdout",
     "output_type": "stream",
     "text": [
      "[1 0]\n"
     ]
    }
   ],
   "source": [
    "\n",
    "### predict entry point\n",
    "#test_prediction=grid_search.best_estimator_.predict()\n",
    "#print(strat_test_set.iloc[1:3])\n",
    "single_attack = strat_test_set.iloc[1:3]\n",
    "single_attack_X = single_attack.drop(['target','num_root','srv_serror_rate','srv_rerror_rate','dst_host_srv_serror_rate','dst_host_srv_rerror_rate','dst_host_serror_rate','dst_host_rerror_rate','dst_host_same_srv_rate','num_outbound_cmds','is_host_login'],axis=1)\n",
    "single_attack_Y = single_attack['target'].copy()\n",
    "single_attack_X_prepared = full_pipeline.transform(single_attack_X)\n",
    "#print(single_attack_X_prepared)\n",
    "single_attack_Y = target_encoder.transform(single_attack_Y)\n",
    "\n",
    "test_prediction2=grid_search.best_estimator_.predict(single_attack_X_prepared)\n",
    "print(test_prediction2)\n"
   ]
  },
  {
   "cell_type": "code",
   "execution_count": 79,
   "id": "6ec0d357",
   "metadata": {},
   "outputs": [],
   "source": [
    "### SAVING THE MODEL TO FILE ###\n",
    "import pickle"
   ]
  },
  {
   "cell_type": "code",
   "execution_count": 80,
   "id": "ad59018b",
   "metadata": {},
   "outputs": [],
   "source": [
    "with open('model_pickle', 'wb') as f:\n",
    "    pickle.dump(grid_search, f)"
   ]
  },
  {
   "cell_type": "code",
   "execution_count": 241,
   "id": "18c4a209",
   "metadata": {},
   "outputs": [],
   "source": [
    "with open('model_pickle', 'rb') as f:\n",
    "    newGrid = pickle.load(f)"
   ]
  },
  {
   "cell_type": "code",
   "execution_count": 242,
   "id": "b688a9b0",
   "metadata": {},
   "outputs": [
    {
     "name": "stdout",
     "output_type": "stream",
     "text": [
      "[1 0]\n"
     ]
    }
   ],
   "source": [
    "test_prediction3=newGrid.best_estimator_.predict(single_attack_X_prepared)\n",
    "print(test_prediction3)"
   ]
  },
  {
   "cell_type": "code",
   "execution_count": 243,
   "id": "2de78ce2",
   "metadata": {},
   "outputs": [
    {
     "name": "stdout",
     "output_type": "stream",
     "text": [
      "[1]\n",
      "[1]\n"
     ]
    }
   ],
   "source": [
    "### predict SINGLE LOG FILE -entry point\n",
    "single = strat_test_set.iloc[1:2]\n",
    "single_X = single.drop(['target','num_root','srv_serror_rate','srv_rerror_rate','dst_host_srv_serror_rate','dst_host_srv_rerror_rate','dst_host_serror_rate','dst_host_rerror_rate','dst_host_same_srv_rate','num_outbound_cmds','is_host_login'],axis=1)\n",
    "single_Y = single['target'].copy()\n",
    "single_X_prepared = full_pipeline.transform(single_X)\n",
    "##print(single_attack_X_prepared)\n",
    "single_Y = target_encoder.transform(single_Y)\n",
    "print(single_Y)\n",
    "\n",
    "test_prediction4=newGrid.best_estimator_.predict(single_X_prepared)\n",
    "print(test_prediction4)"
   ]
  },
  {
   "cell_type": "code",
   "execution_count": 102,
   "id": "bc9de6e3",
   "metadata": {},
   "outputs": [
    {
     "name": "stdout",
     "output_type": "stream",
     "text": [
      "[[-7.04878363e-01  2.74945220e+00  2.31787473e+00  0.00000000e+00\n",
      "   2.47134250e+00  0.00000000e+00  2.61970541e-01 -1.22135371e-01\n",
      "   5.26716427e-02 -4.51653032e-02 -1.53905150e-01  0.00000000e+00\n",
      "  -7.92091945e-02 -3.86302296e-03 -7.49184009e-02 -3.92679899e-01\n",
      "   1.89437291e+00  2.91219261e+00  2.82019004e+00 -3.14621765e-01\n",
      "  -1.45252578e+00 -6.16058759e-02 -1.31709679e-01  8.37707185e-01\n",
      "   3.47387507e+00  8.22190049e-02 -1.01647839e+00 -2.98648856e-01\n",
      "  -6.57401613e-03  4.39654338e+00  2.44382677e+00 -2.61784335e+00\n",
      "   1.74062718e+00  1.10013385e+00 -1.79811301e+00 -1.87276265e+00\n",
      "  -3.84523543e-02 -3.34735459e+00 -1.24714238e-01 -3.04627452e-05\n",
      "   1.10633164e-01  9.21514805e-01  1.55399136e-01  2.97315051e-01\n",
      "   6.97275544e-02  1.07429758e-01  2.08204545e-02  6.82139656e-02\n",
      "  -2.57410689e+00 -4.54148515e+00  5.64398469e-02 -1.76215472e+00\n",
      "   3.77893667e+00  3.49928915e-01  2.38076527e-01  9.88834737e-01\n",
      "  -1.36892880e+00 -3.05467737e+00  1.21087478e-01  7.45758398e-02\n",
      "   3.31184581e-01  3.57087408e-01  4.02949975e-03  1.16030762e-01\n",
      "   3.67485147e-01  3.41471034e-01  2.52731729e-01  4.01314738e-02\n",
      "   2.47154332e-01  9.51835636e-02  1.35442278e-01  6.47880342e-02\n",
      "   5.68025569e-02  1.04464311e-01  2.05844909e-02  3.62502186e-01\n",
      "   4.35581907e-02 -9.00490964e-06 -3.76394813e-01  7.05850990e-02\n",
      "   1.96485263e-01  2.10527853e-01  1.63157056e+00 -3.49304493e-02\n",
      "   9.10168548e-03  1.39796146e-01  2.14253701e-01 -9.12081670e-01\n",
      "   2.53932895e-01  1.05539823e-01  2.80937814e-02  1.02639296e-01\n",
      "  -4.20492826e-01 -1.01406344e+00  6.13641226e+00 -6.49887171e-01\n",
      "  -1.95768567e-01 -2.93152142e+00  2.44209768e-01  8.73730012e-02\n",
      "   1.34835727e-01  9.63558564e-02  4.99097377e+00 -7.71629979e-01\n",
      "  -4.21931259e+00]\n",
      " [ 1.28413926e+00  2.64957271e+00  2.27484023e+00  0.00000000e+00\n",
      "  -1.32876984e+00  0.00000000e+00 -2.56221631e-01  8.91964973e-02\n",
      "   1.26810925e-01  1.59605750e-01 -1.08722154e-01  0.00000000e+00\n",
      "   1.93368801e-02  7.92987311e-02  1.31566900e-01  4.89784157e-01\n",
      "  -1.78116899e-01  2.10987982e+00 -3.41295451e-01 -3.67749389e-01\n",
      "   9.28972801e-01  2.52602801e-01  5.47653388e-01 -5.99493666e-01\n",
      "   2.65790467e+00  8.42521102e-02 -7.12684795e-01  1.69472823e-01\n",
      "  -1.80189423e-01  1.90991051e+00 -1.19077512e+00 -1.51488600e-02\n",
      "  -2.98098572e+00 -2.23692725e+00  1.90918139e+00  1.89011642e+00\n",
      "   3.84527811e-02  8.56371843e-01  5.86604893e-01  7.13563988e-04\n",
      "  -1.08953998e-01  2.96682395e+00 -1.51735109e-01 -2.90580437e-01\n",
      "  -6.66911986e-02 -9.96340120e-02 -1.22711625e-02 -4.19522819e-02\n",
      "  -3.51110225e-01  3.63802196e+00 -3.51127192e-02  9.23799091e-01\n",
      "  -2.99835113e-01 -3.43107372e-01 -1.46557270e-01  1.22539451e+00\n",
      "  -2.66963424e-01  4.48270381e-01 -1.35429365e-01 -7.26661391e-02\n",
      "   2.95173961e+00 -3.50702401e-01 -4.91185504e+00 -1.14342126e-01\n",
      "  -3.60601640e-01 -3.34404138e-01 -2.47521441e-01 -3.89674931e-02\n",
      "  -1.60091713e-01 -9.27002343e-02 -1.33455635e-01 -6.33992290e-02\n",
      "  -5.56071081e-02 -1.02236252e-01 -3.01540409e-01 -3.49424160e-01\n",
      "  -2.69041355e-02  1.49021665e+00 -6.47078288e-02 -6.92333824e-02\n",
      "   1.44830466e+00 -1.33350209e-01 -2.18056705e+00  3.93805825e-02\n",
      "  -1.79175598e-01 -1.38148698e-01 -1.36358179e-01  1.42199692e+00\n",
      "  -2.45181304e-01 -8.85872530e-02 -4.29792438e-02 -1.17061832e-01\n",
      "  -5.28925084e-01 -1.01025498e+00 -3.36309460e+00 -1.04836198e-01\n",
      "   3.78118802e-01  1.41120796e+00 -1.51741817e-01 -8.50713455e-02\n",
      "  -1.32840890e-01 -9.21184928e-02 -9.10423275e-01 -1.61865480e+00\n",
      "   2.52908465e+00]\n",
      " [-2.03824377e+00 -6.77194471e-01 -1.78436953e+00  0.00000000e+00\n",
      "  -7.03169835e-01  0.00000000e+00 -1.81638357e-01 -1.08107059e-01\n",
      "  -1.25638960e+00 -1.19857683e-04 -4.44931984e-02  0.00000000e+00\n",
      "  -1.12985872e-01 -6.60961590e-03 -1.42133323e-02  1.98563779e-06\n",
      "  -7.37019963e-03  2.59177303e+00 -4.33820414e-01  9.59281867e-01\n",
      "  -1.69230976e+00  2.38697243e-01  5.92041193e-01 -1.13115406e+00\n",
      "   1.44045469e+00  4.36248037e-01  4.97679003e-01  5.25675533e-01\n",
      "   3.88844030e-01 -4.72009688e+00 -3.57873294e+00  2.63302643e+00\n",
      "   2.06133510e+00  1.87969063e+00 -6.45183621e-03 -1.68110926e-05\n",
      "  -1.56946607e-08  1.34235227e+00 -1.68183360e-02 -4.69677390e-06\n",
      "  -1.67839248e-03 -1.89384274e+00 -3.65903943e-03 -6.72098062e-03\n",
      "  -3.03488367e-03 -7.79169780e-03 -8.50228000e-03 -2.61110969e-02\n",
      "   2.93032478e+00  9.65503215e-01 -2.12852989e-02  1.39447214e+00\n",
      "  -1.92823994e+00 -6.80110437e-03 -8.76254239e-02 -4.00011724e-01\n",
      "   7.73513481e-01 -3.18763107e+00  8.57869332e-01 -1.90922498e-03\n",
      "  -1.23173218e+00 -6.38074815e-03 -6.13452132e-01 -1.68829503e-03\n",
      "  -6.87348898e-03 -7.06081159e-03 -5.20753026e-03 -1.16363117e-03\n",
      "  -8.27421931e-02 -2.48211332e-03 -1.98599797e-03 -1.38861208e-03\n",
      "  -1.19537777e-03 -2.22724231e-03  3.13684836e-01 -1.30390302e-02\n",
      "  -1.66156566e-02 -1.12257670e+00 -2.73983063e+00 -1.35149014e-03\n",
      "  -7.90439843e-01 -7.48877652e-02  3.42583724e+00 -2.06612251e-03\n",
      "   5.40923156e-01 -1.64711673e-03 -7.46636533e-02  1.55760739e+00\n",
      "  -8.62274079e-03 -3.02335837e-03  4.86512648e-01  1.54028737e-01\n",
      "   1.11894845e+00 -8.52430110e-01 -2.15333492e+00  1.62380702e+00\n",
      "  -1.75886578e-01  1.55163542e+00 -8.85309133e-02 -2.30123048e-03\n",
      "  -1.99266506e-03 -4.22906125e-03 -1.31342000e+00 -7.21466641e-01\n",
      "   2.03483662e+00]\n",
      " [ 9.55227112e-01 -3.59077420e+00 -3.86180733e+00  0.00000000e+00\n",
      "  -3.00626423e-05  0.00000000e+00 -1.91536280e-01  3.11341480e-01\n",
      "   1.15181009e+00 -8.48320294e-04  1.24880844e-01  0.00000000e+00\n",
      "   9.42419307e-02 -5.91513429e-02  3.43292024e-01  6.03943741e-01\n",
      "  -1.23244253e+00 -6.09237325e+00 -3.34995440e-01  4.94802978e-01\n",
      "   1.24592273e+00  2.52359015e-01  3.95856252e-01  1.99988081e+00\n",
      "  -2.23564370e+00  3.60540460e-02  1.58031648e+00  6.03246149e-01\n",
      "  -2.02031474e-01 -1.44611972e+00  2.33480080e+00 -3.42049207e-05\n",
      "  -7.46316035e-01 -5.97951280e-02 -2.56164718e-03 -1.21661393e-02\n",
      "  -4.13571040e-07  1.34276590e-01 -3.29465392e-01 -6.58425626e-09\n",
      "  -5.48168779e-07 -1.92968267e+00 -4.06841363e-06 -1.13607999e-05\n",
      "  -1.29114873e-06 -3.15810471e-06 -4.62659184e-05 -1.48022129e-04\n",
      "  -3.88633168e-04 -2.61068726e-07 -4.07087426e-05 -1.71269414e-01\n",
      "  -5.52049587e-01 -1.69948629e-05 -3.86667269e-03 -1.19654489e+00\n",
      "  -1.03761004e+00  3.82967443e+00 -8.43448562e-01 -2.67767581e-07\n",
      "  -5.71207694e-01 -2.98764977e-06  7.14373216e+00 -1.80183393e-07\n",
      "  -7.88822780e-06 -4.70440238e-06 -1.96456957e-06 -2.28445347e-07\n",
      "  -4.28680912e-03 -9.18791583e-07 -4.15877316e-07 -1.07899505e-07\n",
      "  -3.15421135e-08 -5.13206717e-07 -2.77583145e-02 -3.67290328e-05\n",
      "  -3.73236650e-05 -1.74609127e-05  4.77051856e-01 -1.24926972e-07\n",
      "  -7.49729232e-01 -2.27315730e-03 -1.76041913e+00 -8.76931796e-08\n",
      "  -3.70503379e-01 -1.80654633e-07 -3.21153008e-03 -9.73683565e-01\n",
      "  -1.28635261e-04 -1.05675902e-03 -4.71597380e-01 -1.39587430e-01\n",
      "  -1.60989296e-01 -1.09533893e-01 -3.17529309e-02 -3.00292947e-03\n",
      "  -5.28208700e-05 -9.99468757e-04 -3.91138845e-03 -2.32682402e-07\n",
      "  -1.51298543e-06 -7.65824219e-06 -7.56124310e-01  3.85241377e+00\n",
      "  -3.09623684e+00]\n",
      " [ 5.03755755e-01 -1.13105623e+00  1.05346189e+00  0.00000000e+00\n",
      "  -4.39372761e-01  0.00000000e+00  3.67425727e-01 -1.70295547e-01\n",
      "  -7.49030663e-02 -1.13472268e-01  1.82239658e-01  0.00000000e+00\n",
      "   7.86162554e-02 -9.67474942e-03 -3.85727191e-01 -7.01049985e-01\n",
      "  -4.76443279e-01 -1.52147222e+00 -1.71007873e+00 -7.71713691e-01\n",
      "   9.69940017e-01 -6.82053183e-01 -1.40384115e+00 -1.10694027e+00\n",
      "  -5.33659073e+00 -6.38773198e-01 -3.48832297e-01 -9.99745649e-01\n",
      "  -4.91177921e-05 -1.40237286e-01 -9.11951158e-03 -1.43582184e-08\n",
      "  -7.46605294e-02 -6.83102100e-01 -1.02054894e-01 -5.17081909e-03\n",
      "   2.50523073e-09  1.01435389e+00 -1.15606927e-01 -6.78397885e-04\n",
      "  -2.26076319e-07 -6.48133355e-02 -9.19059579e-07 -2.27262317e-06\n",
      "  -1.80991865e-07 -8.90312463e-07 -7.46087331e-07 -2.56459229e-06\n",
      "  -4.71903811e-03 -6.20397638e-02 -1.12014072e-06 -3.84847102e-01\n",
      "  -9.98812029e-01 -3.44312014e-06 -2.71596969e-05 -6.17672636e-01\n",
      "   1.89998878e+00  1.96436363e+00 -7.88823288e-05 -2.07947761e-07\n",
      "  -1.47998432e+00 -1.27163861e-06 -1.62245449e+00 -1.61044429e-07\n",
      "  -2.12975313e-06 -1.38039633e-06 -7.92559814e-07 -1.21064763e-07\n",
      "  -3.36171387e-05 -2.97169876e-07 -2.28434689e-07 -8.52390218e-08\n",
      "  -3.94892198e-08 -3.03335695e-07 -4.97060399e-03 -2.26686944e-06\n",
      "  -1.07493779e-06 -3.67613478e-01  2.70388142e+00 -1.01563718e-07\n",
      "  -1.04620848e-01 -1.67216267e-05 -1.11642161e+00 -2.38392306e-03\n",
      "  -3.45864566e-04 -1.50297238e-07 -2.03389620e-05 -1.09383908e+00\n",
      "  -2.14922972e-07 -1.28724522e-02 -2.98057106e-05 -1.87714634e-05\n",
      "  -8.54123998e-03  2.98628242e+00 -5.88229806e-01 -8.66080725e-01\n",
      "  -6.41083599e-03 -3.03224917e-02 -2.56492935e-05 -1.92526702e-07\n",
      "  -6.59738797e-07 -6.44138679e-07 -2.01100619e+00 -7.40662349e-01\n",
      "   2.75162816e+00]]\n"
     ]
    }
   ],
   "source": [
    "print(newGrid.best_estimator_.coef_)"
   ]
  },
  {
   "cell_type": "code",
   "execution_count": 139,
   "id": "0c030557",
   "metadata": {},
   "outputs": [],
   "source": [
    "### load new data ###\n",
    "def load_data2():\n",
    "    \n",
    "    f=open(\"kddcup.names.txt\",'r')\n",
    "    data=f.readlines()[1:]\n",
    "\n",
    "    column_names=[]\n",
    "    for line in data:\n",
    "        column_names.append(line.split(':')[0])\n",
    "\n",
    "    column_names.append('target')\n",
    "    f.close()\n",
    "\n",
    "    f=open(\"training_attack_types2.txt\",\"r\")\n",
    "    data=f.readlines()\n",
    "\n",
    "    attack_type_mapping={'normal':'normal'}\n",
    "    for line in data:\n",
    "        k,v=line.split()\n",
    "        attack_type_mapping[k]=v\n",
    "\n",
    "    f.close()\n",
    "    \n",
    "    ### read first 10000 rows\n",
    "    temp=pd.read_csv('kddcup.data.gz',names=column_names)\n",
    "    attack_type_mapping.keys()\n",
    "    #print(attack_type_mapping)\n",
    "    #for key, value in attack_type_mapping.items() :\n",
    "    #    print (key, value)\n",
    "    temp['target']=temp.target.apply(lambda r: attack_type_mapping[r[:-1]])\n",
    "    \n",
    "    return temp"
   ]
  },
  {
   "cell_type": "code",
   "execution_count": 140,
   "id": "034b741b",
   "metadata": {},
   "outputs": [
    {
     "name": "stdout",
     "output_type": "stream",
     "text": [
      "(4898431, 42)\n",
      "(1074983, 42)\n",
      "normal    812814\n",
      "dos       247267\n",
      "probe      13851\n",
      "r2l          999\n",
      "u2r           52\n",
      "Name: target, dtype: int64\n"
     ]
    }
   ],
   "source": [
    "newSet = load_data2()\n",
    "print(newSet.shape)\n",
    "newSet.drop_duplicates(inplace=True)\n",
    "print(newSet.shape)\n",
    "\n",
    "print(newSet['target'].value_counts())"
   ]
  },
  {
   "cell_type": "code",
   "execution_count": 176,
   "id": "58d1d68e",
   "metadata": {},
   "outputs": [
    {
     "name": "stdout",
     "output_type": "stream",
     "text": [
      "[1 1 1 ... 1 1 1]\n"
     ]
    }
   ],
   "source": [
    "### check which rows gives wrong answer ###\n",
    "# select entries for different targets\n",
    "\n",
    "newSet.shape # (1074983, 42)\n",
    "\n",
    "#prep array\n",
    "single_XX = newSet.drop(['target','num_root','srv_serror_rate','srv_rerror_rate','dst_host_srv_serror_rate','dst_host_srv_rerror_rate','dst_host_serror_rate','dst_host_rerror_rate','dst_host_same_srv_rate','num_outbound_cmds','is_host_login'],axis=1)\n",
    "single_YY = newSet['target'].copy()\n",
    "single_XX_prepared = full_pipeline.transform(single_XX)\n",
    "##print(single_attack_X_prepared)\n",
    "single_YY = target_encoder.transform(single_YY)\n",
    "print(single_YY)\n"
   ]
  },
  {
   "cell_type": "code",
   "execution_count": 220,
   "id": "0e91dcd0",
   "metadata": {},
   "outputs": [
    {
     "name": "stdout",
     "output_type": "stream",
     "text": [
      "11169\n"
     ]
    }
   ],
   "source": [
    "### LOAD list of indexes where predictions were wrong ###\n",
    "with open('indexes_pickle', 'rb') as f:\n",
    "    wrongIndexes = pickle.load(f)\n",
    "print(len(wrongIndexes))"
   ]
  },
  {
   "cell_type": "code",
   "execution_count": 223,
   "id": "11ee3636",
   "metadata": {},
   "outputs": [],
   "source": [
    "### get the set of wrong predictions based on indexes\n",
    "wrongValues = newSet.iloc[wrongIndexes]"
   ]
  },
  {
   "cell_type": "code",
   "execution_count": 225,
   "id": "3a6f6745",
   "metadata": {},
   "outputs": [],
   "source": [
    "### save the test set ###\n",
    "with open('wrongValues_pickle', 'wb') as f:\n",
    "    pickle.dump(wrongValues, f)"
   ]
  },
  {
   "cell_type": "code",
   "execution_count": 224,
   "id": "57250b87",
   "metadata": {},
   "outputs": [
    {
     "name": "stdout",
     "output_type": "stream",
     "text": [
      "[1 1 1 ... 4 4 1]\n",
      "0.0\n",
      "0.0\n",
      "0.0\n"
     ]
    }
   ],
   "source": [
    "### reverify its all wrong predictions\n",
    "wrong_XX = wrongValues.drop(['target','num_root','srv_serror_rate','srv_rerror_rate','dst_host_srv_serror_rate','dst_host_srv_rerror_rate','dst_host_serror_rate','dst_host_rerror_rate','dst_host_same_srv_rate','num_outbound_cmds','is_host_login'],axis=1)\n",
    "wrong_YY = wrongValues['target'].copy()\n",
    "wrong_XX_prepared = full_pipeline.transform(wrong_XX)\n",
    "##print(swrong_XX_prepared)\n",
    "wrong_YY = target_encoder.transform(wrong_YY)\n",
    "print(wrong_YY)\n",
    "\n",
    "test_prediction10=newGrid.best_estimator_.predict(wrong_XX_prepared)\n",
    "\n",
    "from sklearn.metrics import accuracy_score,precision_score,recall_score,confusion_matrix\n",
    "\n",
    "print(accuracy_score(wrong_YY,test_prediction10))\n",
    "print(precision_score(wrong_YY,test_prediction10,average='weighted'))\n",
    "print(recall_score(wrong_YY,test_prediction10,average='weighted'))"
   ]
  },
  {
   "cell_type": "code",
   "execution_count": 231,
   "id": "cc30d82f",
   "metadata": {},
   "outputs": [
    {
     "name": "stdout",
     "output_type": "stream",
     "text": [
      "[1 1 1 ... 4 4 1]\n"
     ]
    }
   ],
   "source": [
    "wrongSet200 = wrongValues.iloc[:200]\n",
    "\n",
    "wrongSet200_XX = wrongSet200.drop(['target','num_root','srv_serror_rate','srv_rerror_rate','dst_host_srv_serror_rate','dst_host_srv_rerror_rate','dst_host_serror_rate','dst_host_rerror_rate','dst_host_same_srv_rate','num_outbound_cmds','is_host_login'],axis=1)\n",
    "wrongSet200_YY = wrongSet200['target'].copy()\n",
    "wrongSet200_XX_prepared = full_pipeline.transform(wrongSet200_XX)\n",
    "##print(wrongSet200_XX_prepared)\n",
    "wrongSet200_YY = target_encoder.transform(wrongSet200_YY)\n",
    "##print(wrong_YY)\n",
    "\n"
   ]
  },
  {
   "cell_type": "code",
   "execution_count": 240,
   "id": "91f81258",
   "metadata": {},
   "outputs": [
    {
     "data": {
      "text/plain": [
       "0.4338025613317203"
      ]
     },
     "execution_count": 240,
     "metadata": {},
     "output_type": "execute_result"
    }
   ],
   "source": [
    "newGrid2 = newGrid\n",
    "#re-fit model with new entries\n",
    "newGrid2.best_estimator_.fit(wrongSet200_XX_prepared, wrongSet200_YY)\n",
    "\n",
    "wrongSet400 = wrongValues.iloc[200:400]\n",
    "\n",
    "wrongSet400_XX = wrongSet400.drop(['target','num_root','srv_serror_rate','srv_rerror_rate','dst_host_srv_serror_rate','dst_host_srv_rerror_rate','dst_host_serror_rate','dst_host_rerror_rate','dst_host_same_srv_rate','num_outbound_cmds','is_host_login'],axis=1)\n",
    "wrongSet400_YY = wrongSet400['target'].copy()\n",
    "wrongSet400_XX_prepared = full_pipeline.transform(wrongSet400_XX)\n",
    "##print(wrongSet200_XX_prepared)\n",
    "wrongSet400_YY = target_encoder.transform(wrongSet400_YY)\n",
    "##print(wrong_YY)\n",
    "\n",
    "test_prediction11 = newGrid2.best_estimator_.predict(wrongSet400_XX_prepared)\n",
    "f1_score(wrongSet400_YY, test_prediction11, average='weighted')\n",
    "#score after changes 1.0\n",
    "\n",
    "#verify previous tests\n",
    "\n",
    "x_test=strat_test_set.drop(['target','num_root','srv_serror_rate','srv_rerror_rate','dst_host_srv_serror_rate','dst_host_srv_rerror_rate',\n",
    "                          'dst_host_serror_rate','dst_host_rerror_rate','dst_host_same_srv_rate','num_outbound_cmds','is_host_login'],axis=1)\n",
    "\n",
    "y_test=strat_test_set['target'].copy()\n",
    "\n",
    "x_test_prepared=full_pipeline.transform(x_test)\n",
    "y_test=target_encoder.transform(y_test)\n",
    "\n",
    "### Accuracy of the model prediction ###\n",
    "test_prediction12=newGrid2.best_estimator_.predict(x_test_prepared)\n",
    "f1_score(y_test,test_prediction12,average='weighted')\n",
    "#0.4338025613317203\n",
    "\n",
    "test_prediction13=newGrid.best_estimator_.predict(x_test_prepared)\n",
    "f1_score(y_test,test_prediction13,average='weighted')\n",
    "\n"
   ]
  },
  {
   "cell_type": "code",
   "execution_count": 239,
   "id": "42c313e6",
   "metadata": {},
   "outputs": [
    {
     "ename": "TypeError",
     "evalue": "fit() missing 1 required positional argument: 'y'",
     "output_type": "error",
     "traceback": [
      "\u001b[1;31m---------------------------------------------------------------------------\u001b[0m",
      "\u001b[1;31mTypeError\u001b[0m                                 Traceback (most recent call last)",
      "Input \u001b[1;32mIn [239]\u001b[0m, in \u001b[0;36m<module>\u001b[1;34m\u001b[0m\n\u001b[0;32m      1\u001b[0m \u001b[38;5;66;03m### load new data to be added ###\u001b[39;00m\n\u001b[0;32m      3\u001b[0m \u001b[38;5;28;01mimport\u001b[39;00m \u001b[38;5;21;01mpandas\u001b[39;00m \u001b[38;5;28;01mas\u001b[39;00m \u001b[38;5;21;01mpd\u001b[39;00m\n\u001b[1;32m----> 5\u001b[0m newGrid2 \u001b[38;5;241m=\u001b[39m \u001b[43mnewGrid\u001b[49m\u001b[38;5;241;43m.\u001b[39;49m\u001b[43mbest_estimator_\u001b[49m\u001b[38;5;241;43m.\u001b[39;49m\u001b[43mfit\u001b[49m\u001b[43m(\u001b[49m\u001b[43mwrongSet200\u001b[49m\u001b[43m)\u001b[49m\n\u001b[0;32m      7\u001b[0m \u001b[38;5;66;03m### reverify after adding new train values ###\u001b[39;00m\n\u001b[0;32m      8\u001b[0m x_test\u001b[38;5;241m=\u001b[39mstrat_test_set\u001b[38;5;241m.\u001b[39mdrop([\u001b[38;5;124m'\u001b[39m\u001b[38;5;124mtarget\u001b[39m\u001b[38;5;124m'\u001b[39m,\u001b[38;5;124m'\u001b[39m\u001b[38;5;124mnum_root\u001b[39m\u001b[38;5;124m'\u001b[39m,\u001b[38;5;124m'\u001b[39m\u001b[38;5;124msrv_serror_rate\u001b[39m\u001b[38;5;124m'\u001b[39m,\u001b[38;5;124m'\u001b[39m\u001b[38;5;124msrv_rerror_rate\u001b[39m\u001b[38;5;124m'\u001b[39m,\u001b[38;5;124m'\u001b[39m\u001b[38;5;124mdst_host_srv_serror_rate\u001b[39m\u001b[38;5;124m'\u001b[39m,\u001b[38;5;124m'\u001b[39m\u001b[38;5;124mdst_host_srv_rerror_rate\u001b[39m\u001b[38;5;124m'\u001b[39m,\n\u001b[0;32m      9\u001b[0m                           \u001b[38;5;124m'\u001b[39m\u001b[38;5;124mdst_host_serror_rate\u001b[39m\u001b[38;5;124m'\u001b[39m,\u001b[38;5;124m'\u001b[39m\u001b[38;5;124mdst_host_rerror_rate\u001b[39m\u001b[38;5;124m'\u001b[39m,\u001b[38;5;124m'\u001b[39m\u001b[38;5;124mdst_host_same_srv_rate\u001b[39m\u001b[38;5;124m'\u001b[39m,\u001b[38;5;124m'\u001b[39m\u001b[38;5;124mnum_outbound_cmds\u001b[39m\u001b[38;5;124m'\u001b[39m,\u001b[38;5;124m'\u001b[39m\u001b[38;5;124mis_host_login\u001b[39m\u001b[38;5;124m'\u001b[39m],axis\u001b[38;5;241m=\u001b[39m\u001b[38;5;241m1\u001b[39m)\n",
      "\u001b[1;31mTypeError\u001b[0m: fit() missing 1 required positional argument: 'y'"
     ]
    }
   ],
   "source": [
    "### load new data to be added ###\n",
    "\n",
    "import pandas as pd\n",
    "\n",
    "newGrid2 = newGrid.best_estimator_.fit(wrongSet200)\n",
    "\n",
    "### reverify after adding new train values ###\n",
    "x_test=strat_test_set.drop(['target','num_root','srv_serror_rate','srv_rerror_rate','dst_host_srv_serror_rate','dst_host_srv_rerror_rate',\n",
    "                          'dst_host_serror_rate','dst_host_rerror_rate','dst_host_same_srv_rate','num_outbound_cmds','is_host_login'],axis=1)\n",
    "\n",
    "y_test=strat_test_set['target'].copy()\n",
    "\n",
    "x_test_prepared=full_pipeline.transform(x_test)\n",
    "y_test=target_encoder.transform(y_test)\n",
    "\n",
    "### Accuracy of the model prediction ###\n",
    "test_prediction5=newGrid.best_estimator_.predict(x_test_prepared)\n",
    "f1_score(y_test,test_prediction5,average='weighted')"
   ]
  },
  {
   "cell_type": "code",
   "execution_count": 244,
   "id": "1e89ec42",
   "metadata": {},
   "outputs": [],
   "source": [
    "with open('full_pipeline_pickle', 'wb') as f:\n",
    "    pickle.dump(full_pipeline, f)\n",
    "with open('target_encoder_pickle', 'wb') as f:\n",
    "    pickle.dump(target_encoder, f)"
   ]
  },
  {
   "cell_type": "code",
   "execution_count": null,
   "id": "6b7d21c6",
   "metadata": {},
   "outputs": [],
   "source": []
  }
 ],
 "metadata": {
  "kernelspec": {
   "display_name": "Python 3 (ipykernel)",
   "language": "python",
   "name": "python3"
  },
  "language_info": {
   "codemirror_mode": {
    "name": "ipython",
    "version": 3
   },
   "file_extension": ".py",
   "mimetype": "text/x-python",
   "name": "python",
   "nbconvert_exporter": "python",
   "pygments_lexer": "ipython3",
   "version": "3.8.12"
  }
 },
 "nbformat": 4,
 "nbformat_minor": 5
}
