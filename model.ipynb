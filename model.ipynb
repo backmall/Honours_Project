{
 "cells": [
  {
   "cell_type": "code",
   "execution_count": 2,
   "id": "301aa2e2",
   "metadata": {},
   "outputs": [],
   "source": [
    "import pandas as pd\n",
    "import os\n",
    "\n",
    "import numpy as np\n",
    "import sklearn\n",
    "\n",
    "%matplotlib inline\n",
    "import matplotlib as mpl\n",
    "import matplotlib.pyplot as plt\n",
    "\n",
    "# Where to save the figures\n",
    "PROJECT_ROOT_DIR = \".\"\n",
    "IMAGES_PATH = os.path.join(PROJECT_ROOT_DIR, \"images\")\n",
    "os.makedirs(IMAGES_PATH, exist_ok=True)\n",
    "\n",
    "def save_fig(fig_id, tight_layout=True, fig_extension=\"png\", resolution=100):\n",
    "    path = os.path.join(IMAGES_PATH, fig_id + \".\" + fig_extension)\n",
    "    print(\"Saving figure\", fig_id)\n",
    "    if tight_layout:\n",
    "        plt.tight_layout()\n",
    "    plt.savefig(path, format=fig_extension, dpi=resolution)"
   ]
  },
  {
   "cell_type": "code",
   "execution_count": null,
   "id": "eea55b1d",
   "metadata": {},
   "outputs": [],
   "source": [
    "### LOAD THE DATA ###"
   ]
  },
  {
   "cell_type": "code",
   "execution_count": 3,
   "id": "8210b5ca",
   "metadata": {},
   "outputs": [],
   "source": [
    "import pandas as pd\n",
    "\n",
    "def load_data():\n",
    "    \n",
    "    f=open(\"kddcup.names.txt\",'r')\n",
    "    data=f.readlines()[1:]\n",
    "\n",
    "    column_names=[]\n",
    "    for line in data:\n",
    "        column_names.append(line.split(':')[0])\n",
    "\n",
    "    column_names.append('target')\n",
    "    f.close()\n",
    "\n",
    "    f=open(\"training_attack_types2.txt\",\"r\")\n",
    "    data=f.readlines()\n",
    "\n",
    "    attack_type_mapping={'normal':'normal'}\n",
    "    for line in data:\n",
    "        k,v=line.split()\n",
    "        attack_type_mapping[k]=v\n",
    "\n",
    "    f.close()\n",
    "\n",
    "    temp=pd.read_csv('kddcup.data_10_percent.gz',names=column_names)\n",
    "    attack_type_mapping.keys()\n",
    "    print(attack_type_mapping)\n",
    "    for key, value in attack_type_mapping.items() :\n",
    "        print (key, value)\n",
    "    temp['target']=temp.target.apply(lambda r: attack_type_mapping[r[:-1]])\n",
    "    \n",
    "    return temp"
   ]
  },
  {
   "cell_type": "code",
   "execution_count": null,
   "id": "b58dc96e",
   "metadata": {},
   "outputs": [],
   "source": [
    "### GENERAL STRUCTURE OF THE DATA ###"
   ]
  },
  {
   "cell_type": "code",
   "execution_count": 4,
   "id": "7ec5a834",
   "metadata": {},
   "outputs": [
    {
     "name": "stdout",
     "output_type": "stream",
     "text": [
      "{'normal': 'normal', 'back': 'dos', 'buffer_overflow': 'u2r', 'ftp_write': 'r2l', 'guess_passwd': 'r2l', 'imap': 'r2l', 'ipsweep': 'probe', 'land': 'dos', 'loadmodule': 'u2r', 'multihop': 'r2l', 'neptune': 'dos', 'nmap': 'probe', 'perl': 'u2r', 'phf': 'r2l', 'pod': 'dos', 'portsweep': 'probe', 'rootkit': 'u2r', 'satan': 'probe', 'smurf': 'dos', 'spy': 'r2l', 'teardrop': 'dos', 'warezclient': 'r2l', 'warezmaster': 'r2l'}\n",
      "normal normal\n",
      "back dos\n",
      "buffer_overflow u2r\n",
      "ftp_write r2l\n",
      "guess_passwd r2l\n",
      "imap r2l\n",
      "ipsweep probe\n",
      "land dos\n",
      "loadmodule u2r\n",
      "multihop r2l\n",
      "neptune dos\n",
      "nmap probe\n",
      "perl u2r\n",
      "phf r2l\n",
      "pod dos\n",
      "portsweep probe\n",
      "rootkit u2r\n",
      "satan probe\n",
      "smurf dos\n",
      "spy r2l\n",
      "teardrop dos\n",
      "warezclient r2l\n",
      "warezmaster r2l\n"
     ]
    },
    {
     "data": {
      "text/html": [
       "<div>\n",
       "<style scoped>\n",
       "    .dataframe tbody tr th:only-of-type {\n",
       "        vertical-align: middle;\n",
       "    }\n",
       "\n",
       "    .dataframe tbody tr th {\n",
       "        vertical-align: top;\n",
       "    }\n",
       "\n",
       "    .dataframe thead th {\n",
       "        text-align: right;\n",
       "    }\n",
       "</style>\n",
       "<table border=\"1\" class=\"dataframe\">\n",
       "  <thead>\n",
       "    <tr style=\"text-align: right;\">\n",
       "      <th></th>\n",
       "      <th>duration</th>\n",
       "      <th>protocol_type</th>\n",
       "      <th>service</th>\n",
       "      <th>flag</th>\n",
       "      <th>src_bytes</th>\n",
       "      <th>dst_bytes</th>\n",
       "      <th>land</th>\n",
       "      <th>wrong_fragment</th>\n",
       "      <th>urgent</th>\n",
       "      <th>hot</th>\n",
       "      <th>...</th>\n",
       "      <th>dst_host_srv_count</th>\n",
       "      <th>dst_host_same_srv_rate</th>\n",
       "      <th>dst_host_diff_srv_rate</th>\n",
       "      <th>dst_host_same_src_port_rate</th>\n",
       "      <th>dst_host_srv_diff_host_rate</th>\n",
       "      <th>dst_host_serror_rate</th>\n",
       "      <th>dst_host_srv_serror_rate</th>\n",
       "      <th>dst_host_rerror_rate</th>\n",
       "      <th>dst_host_srv_rerror_rate</th>\n",
       "      <th>target</th>\n",
       "    </tr>\n",
       "  </thead>\n",
       "  <tbody>\n",
       "    <tr>\n",
       "      <th>0</th>\n",
       "      <td>0</td>\n",
       "      <td>tcp</td>\n",
       "      <td>http</td>\n",
       "      <td>SF</td>\n",
       "      <td>181</td>\n",
       "      <td>5450</td>\n",
       "      <td>0</td>\n",
       "      <td>0</td>\n",
       "      <td>0</td>\n",
       "      <td>0</td>\n",
       "      <td>...</td>\n",
       "      <td>9</td>\n",
       "      <td>1.0</td>\n",
       "      <td>0.0</td>\n",
       "      <td>0.11</td>\n",
       "      <td>0.0</td>\n",
       "      <td>0.0</td>\n",
       "      <td>0.0</td>\n",
       "      <td>0.0</td>\n",
       "      <td>0.0</td>\n",
       "      <td>normal</td>\n",
       "    </tr>\n",
       "    <tr>\n",
       "      <th>1</th>\n",
       "      <td>0</td>\n",
       "      <td>tcp</td>\n",
       "      <td>http</td>\n",
       "      <td>SF</td>\n",
       "      <td>239</td>\n",
       "      <td>486</td>\n",
       "      <td>0</td>\n",
       "      <td>0</td>\n",
       "      <td>0</td>\n",
       "      <td>0</td>\n",
       "      <td>...</td>\n",
       "      <td>19</td>\n",
       "      <td>1.0</td>\n",
       "      <td>0.0</td>\n",
       "      <td>0.05</td>\n",
       "      <td>0.0</td>\n",
       "      <td>0.0</td>\n",
       "      <td>0.0</td>\n",
       "      <td>0.0</td>\n",
       "      <td>0.0</td>\n",
       "      <td>normal</td>\n",
       "    </tr>\n",
       "    <tr>\n",
       "      <th>2</th>\n",
       "      <td>0</td>\n",
       "      <td>tcp</td>\n",
       "      <td>http</td>\n",
       "      <td>SF</td>\n",
       "      <td>235</td>\n",
       "      <td>1337</td>\n",
       "      <td>0</td>\n",
       "      <td>0</td>\n",
       "      <td>0</td>\n",
       "      <td>0</td>\n",
       "      <td>...</td>\n",
       "      <td>29</td>\n",
       "      <td>1.0</td>\n",
       "      <td>0.0</td>\n",
       "      <td>0.03</td>\n",
       "      <td>0.0</td>\n",
       "      <td>0.0</td>\n",
       "      <td>0.0</td>\n",
       "      <td>0.0</td>\n",
       "      <td>0.0</td>\n",
       "      <td>normal</td>\n",
       "    </tr>\n",
       "    <tr>\n",
       "      <th>3</th>\n",
       "      <td>0</td>\n",
       "      <td>tcp</td>\n",
       "      <td>http</td>\n",
       "      <td>SF</td>\n",
       "      <td>219</td>\n",
       "      <td>1337</td>\n",
       "      <td>0</td>\n",
       "      <td>0</td>\n",
       "      <td>0</td>\n",
       "      <td>0</td>\n",
       "      <td>...</td>\n",
       "      <td>39</td>\n",
       "      <td>1.0</td>\n",
       "      <td>0.0</td>\n",
       "      <td>0.03</td>\n",
       "      <td>0.0</td>\n",
       "      <td>0.0</td>\n",
       "      <td>0.0</td>\n",
       "      <td>0.0</td>\n",
       "      <td>0.0</td>\n",
       "      <td>normal</td>\n",
       "    </tr>\n",
       "    <tr>\n",
       "      <th>4</th>\n",
       "      <td>0</td>\n",
       "      <td>tcp</td>\n",
       "      <td>http</td>\n",
       "      <td>SF</td>\n",
       "      <td>217</td>\n",
       "      <td>2032</td>\n",
       "      <td>0</td>\n",
       "      <td>0</td>\n",
       "      <td>0</td>\n",
       "      <td>0</td>\n",
       "      <td>...</td>\n",
       "      <td>49</td>\n",
       "      <td>1.0</td>\n",
       "      <td>0.0</td>\n",
       "      <td>0.02</td>\n",
       "      <td>0.0</td>\n",
       "      <td>0.0</td>\n",
       "      <td>0.0</td>\n",
       "      <td>0.0</td>\n",
       "      <td>0.0</td>\n",
       "      <td>normal</td>\n",
       "    </tr>\n",
       "  </tbody>\n",
       "</table>\n",
       "<p>5 rows × 42 columns</p>\n",
       "</div>"
      ],
      "text/plain": [
       "   duration protocol_type service flag  src_bytes  dst_bytes  land  \\\n",
       "0         0           tcp    http   SF        181       5450     0   \n",
       "1         0           tcp    http   SF        239        486     0   \n",
       "2         0           tcp    http   SF        235       1337     0   \n",
       "3         0           tcp    http   SF        219       1337     0   \n",
       "4         0           tcp    http   SF        217       2032     0   \n",
       "\n",
       "   wrong_fragment  urgent  hot  ...  dst_host_srv_count  \\\n",
       "0               0       0    0  ...                   9   \n",
       "1               0       0    0  ...                  19   \n",
       "2               0       0    0  ...                  29   \n",
       "3               0       0    0  ...                  39   \n",
       "4               0       0    0  ...                  49   \n",
       "\n",
       "   dst_host_same_srv_rate  dst_host_diff_srv_rate  \\\n",
       "0                     1.0                     0.0   \n",
       "1                     1.0                     0.0   \n",
       "2                     1.0                     0.0   \n",
       "3                     1.0                     0.0   \n",
       "4                     1.0                     0.0   \n",
       "\n",
       "   dst_host_same_src_port_rate  dst_host_srv_diff_host_rate  \\\n",
       "0                         0.11                          0.0   \n",
       "1                         0.05                          0.0   \n",
       "2                         0.03                          0.0   \n",
       "3                         0.03                          0.0   \n",
       "4                         0.02                          0.0   \n",
       "\n",
       "   dst_host_serror_rate  dst_host_srv_serror_rate  dst_host_rerror_rate  \\\n",
       "0                   0.0                       0.0                   0.0   \n",
       "1                   0.0                       0.0                   0.0   \n",
       "2                   0.0                       0.0                   0.0   \n",
       "3                   0.0                       0.0                   0.0   \n",
       "4                   0.0                       0.0                   0.0   \n",
       "\n",
       "   dst_host_srv_rerror_rate  target  \n",
       "0                       0.0  normal  \n",
       "1                       0.0  normal  \n",
       "2                       0.0  normal  \n",
       "3                       0.0  normal  \n",
       "4                       0.0  normal  \n",
       "\n",
       "[5 rows x 42 columns]"
      ]
     },
     "execution_count": 4,
     "metadata": {},
     "output_type": "execute_result"
    }
   ],
   "source": [
    "ids=load_data()\n",
    "ids.head()"
   ]
  },
  {
   "cell_type": "code",
   "execution_count": 5,
   "id": "196279ff",
   "metadata": {},
   "outputs": [
    {
     "data": {
      "text/plain": [
       "(494021, 42)"
      ]
     },
     "execution_count": 5,
     "metadata": {},
     "output_type": "execute_result"
    }
   ],
   "source": [
    "ids.shape"
   ]
  },
  {
   "cell_type": "code",
   "execution_count": 6,
   "id": "a6894da2",
   "metadata": {},
   "outputs": [],
   "source": [
    "ids.drop_duplicates(inplace=True)"
   ]
  },
  {
   "cell_type": "code",
   "execution_count": 7,
   "id": "472953d6",
   "metadata": {},
   "outputs": [
    {
     "data": {
      "text/plain": [
       "(145585, 42)"
      ]
     },
     "execution_count": 7,
     "metadata": {},
     "output_type": "execute_result"
    }
   ],
   "source": [
    "ids.shape"
   ]
  },
  {
   "cell_type": "code",
   "execution_count": 8,
   "id": "778c84a7",
   "metadata": {},
   "outputs": [
    {
     "name": "stdout",
     "output_type": "stream",
     "text": [
      "<class 'pandas.core.frame.DataFrame'>\n",
      "Int64Index: 145585 entries, 0 to 494020\n",
      "Data columns (total 42 columns):\n",
      " #   Column                       Non-Null Count   Dtype  \n",
      "---  ------                       --------------   -----  \n",
      " 0   duration                     145585 non-null  int64  \n",
      " 1   protocol_type                145585 non-null  object \n",
      " 2   service                      145585 non-null  object \n",
      " 3   flag                         145585 non-null  object \n",
      " 4   src_bytes                    145585 non-null  int64  \n",
      " 5   dst_bytes                    145585 non-null  int64  \n",
      " 6   land                         145585 non-null  int64  \n",
      " 7   wrong_fragment               145585 non-null  int64  \n",
      " 8   urgent                       145585 non-null  int64  \n",
      " 9   hot                          145585 non-null  int64  \n",
      " 10  num_failed_logins            145585 non-null  int64  \n",
      " 11  logged_in                    145585 non-null  int64  \n",
      " 12  num_compromised              145585 non-null  int64  \n",
      " 13  root_shell                   145585 non-null  int64  \n",
      " 14  su_attempted                 145585 non-null  int64  \n",
      " 15  num_root                     145585 non-null  int64  \n",
      " 16  num_file_creations           145585 non-null  int64  \n",
      " 17  num_shells                   145585 non-null  int64  \n",
      " 18  num_access_files             145585 non-null  int64  \n",
      " 19  num_outbound_cmds            145585 non-null  int64  \n",
      " 20  is_host_login                145585 non-null  int64  \n",
      " 21  is_guest_login               145585 non-null  int64  \n",
      " 22  count                        145585 non-null  int64  \n",
      " 23  srv_count                    145585 non-null  int64  \n",
      " 24  serror_rate                  145585 non-null  float64\n",
      " 25  srv_serror_rate              145585 non-null  float64\n",
      " 26  rerror_rate                  145585 non-null  float64\n",
      " 27  srv_rerror_rate              145585 non-null  float64\n",
      " 28  same_srv_rate                145585 non-null  float64\n",
      " 29  diff_srv_rate                145585 non-null  float64\n",
      " 30  srv_diff_host_rate           145585 non-null  float64\n",
      " 31  dst_host_count               145585 non-null  int64  \n",
      " 32  dst_host_srv_count           145585 non-null  int64  \n",
      " 33  dst_host_same_srv_rate       145585 non-null  float64\n",
      " 34  dst_host_diff_srv_rate       145585 non-null  float64\n",
      " 35  dst_host_same_src_port_rate  145585 non-null  float64\n",
      " 36  dst_host_srv_diff_host_rate  145585 non-null  float64\n",
      " 37  dst_host_serror_rate         145585 non-null  float64\n",
      " 38  dst_host_srv_serror_rate     145585 non-null  float64\n",
      " 39  dst_host_rerror_rate         145585 non-null  float64\n",
      " 40  dst_host_srv_rerror_rate     145585 non-null  float64\n",
      " 41  target                       145585 non-null  object \n",
      "dtypes: float64(15), int64(23), object(4)\n",
      "memory usage: 47.8+ MB\n"
     ]
    }
   ],
   "source": [
    "ids.info()"
   ]
  },
  {
   "cell_type": "code",
   "execution_count": 9,
   "id": "f19e11e7",
   "metadata": {},
   "outputs": [
    {
     "data": {
      "text/html": [
       "<div>\n",
       "<style scoped>\n",
       "    .dataframe tbody tr th:only-of-type {\n",
       "        vertical-align: middle;\n",
       "    }\n",
       "\n",
       "    .dataframe tbody tr th {\n",
       "        vertical-align: top;\n",
       "    }\n",
       "\n",
       "    .dataframe thead th {\n",
       "        text-align: right;\n",
       "    }\n",
       "</style>\n",
       "<table border=\"1\" class=\"dataframe\">\n",
       "  <thead>\n",
       "    <tr style=\"text-align: right;\">\n",
       "      <th></th>\n",
       "      <th>duration</th>\n",
       "      <th>src_bytes</th>\n",
       "      <th>dst_bytes</th>\n",
       "      <th>land</th>\n",
       "      <th>wrong_fragment</th>\n",
       "      <th>urgent</th>\n",
       "      <th>hot</th>\n",
       "      <th>num_failed_logins</th>\n",
       "      <th>logged_in</th>\n",
       "      <th>num_compromised</th>\n",
       "      <th>...</th>\n",
       "      <th>dst_host_count</th>\n",
       "      <th>dst_host_srv_count</th>\n",
       "      <th>dst_host_same_srv_rate</th>\n",
       "      <th>dst_host_diff_srv_rate</th>\n",
       "      <th>dst_host_same_src_port_rate</th>\n",
       "      <th>dst_host_srv_diff_host_rate</th>\n",
       "      <th>dst_host_serror_rate</th>\n",
       "      <th>dst_host_srv_serror_rate</th>\n",
       "      <th>dst_host_rerror_rate</th>\n",
       "      <th>dst_host_srv_rerror_rate</th>\n",
       "    </tr>\n",
       "  </thead>\n",
       "  <tbody>\n",
       "    <tr>\n",
       "      <th>count</th>\n",
       "      <td>145585.000000</td>\n",
       "      <td>1.455850e+05</td>\n",
       "      <td>1.455850e+05</td>\n",
       "      <td>145585.000000</td>\n",
       "      <td>145585.000000</td>\n",
       "      <td>145585.000000</td>\n",
       "      <td>145585.000000</td>\n",
       "      <td>145585.000000</td>\n",
       "      <td>145585.000000</td>\n",
       "      <td>145585.000000</td>\n",
       "      <td>...</td>\n",
       "      <td>145585.000000</td>\n",
       "      <td>145585.000000</td>\n",
       "      <td>145585.000000</td>\n",
       "      <td>145585.000000</td>\n",
       "      <td>145585.000000</td>\n",
       "      <td>145585.000000</td>\n",
       "      <td>145585.000000</td>\n",
       "      <td>145585.000000</td>\n",
       "      <td>145585.000000</td>\n",
       "      <td>145585.000000</td>\n",
       "    </tr>\n",
       "    <tr>\n",
       "      <th>mean</th>\n",
       "      <td>132.026088</td>\n",
       "      <td>7.995754e+03</td>\n",
       "      <td>2.859800e+03</td>\n",
       "      <td>0.000137</td>\n",
       "      <td>0.020201</td>\n",
       "      <td>0.000048</td>\n",
       "      <td>0.100175</td>\n",
       "      <td>0.000515</td>\n",
       "      <td>0.491493</td>\n",
       "      <td>0.026177</td>\n",
       "      <td>...</td>\n",
       "      <td>181.469416</td>\n",
       "      <td>129.935563</td>\n",
       "      <td>0.553219</td>\n",
       "      <td>0.061389</td>\n",
       "      <td>0.092819</td>\n",
       "      <td>0.019048</td>\n",
       "      <td>0.291599</td>\n",
       "      <td>0.290980</td>\n",
       "      <td>0.110464</td>\n",
       "      <td>0.107676</td>\n",
       "    </tr>\n",
       "    <tr>\n",
       "      <th>std</th>\n",
       "      <td>1224.161209</td>\n",
       "      <td>1.820390e+06</td>\n",
       "      <td>6.081000e+04</td>\n",
       "      <td>0.011720</td>\n",
       "      <td>0.239369</td>\n",
       "      <td>0.010150</td>\n",
       "      <td>1.426803</td>\n",
       "      <td>0.028586</td>\n",
       "      <td>0.499929</td>\n",
       "      <td>3.311384</td>\n",
       "      <td>...</td>\n",
       "      <td>99.097409</td>\n",
       "      <td>114.714725</td>\n",
       "      <td>0.456236</td>\n",
       "      <td>0.147021</td>\n",
       "      <td>0.241112</td>\n",
       "      <td>0.060410</td>\n",
       "      <td>0.452493</td>\n",
       "      <td>0.453448</td>\n",
       "      <td>0.306098</td>\n",
       "      <td>0.304221</td>\n",
       "    </tr>\n",
       "    <tr>\n",
       "      <th>min</th>\n",
       "      <td>0.000000</td>\n",
       "      <td>0.000000e+00</td>\n",
       "      <td>0.000000e+00</td>\n",
       "      <td>0.000000</td>\n",
       "      <td>0.000000</td>\n",
       "      <td>0.000000</td>\n",
       "      <td>0.000000</td>\n",
       "      <td>0.000000</td>\n",
       "      <td>0.000000</td>\n",
       "      <td>0.000000</td>\n",
       "      <td>...</td>\n",
       "      <td>0.000000</td>\n",
       "      <td>0.000000</td>\n",
       "      <td>0.000000</td>\n",
       "      <td>0.000000</td>\n",
       "      <td>0.000000</td>\n",
       "      <td>0.000000</td>\n",
       "      <td>0.000000</td>\n",
       "      <td>0.000000</td>\n",
       "      <td>0.000000</td>\n",
       "      <td>0.000000</td>\n",
       "    </tr>\n",
       "    <tr>\n",
       "      <th>25%</th>\n",
       "      <td>0.000000</td>\n",
       "      <td>0.000000e+00</td>\n",
       "      <td>0.000000e+00</td>\n",
       "      <td>0.000000</td>\n",
       "      <td>0.000000</td>\n",
       "      <td>0.000000</td>\n",
       "      <td>0.000000</td>\n",
       "      <td>0.000000</td>\n",
       "      <td>0.000000</td>\n",
       "      <td>0.000000</td>\n",
       "      <td>...</td>\n",
       "      <td>78.000000</td>\n",
       "      <td>12.000000</td>\n",
       "      <td>0.050000</td>\n",
       "      <td>0.000000</td>\n",
       "      <td>0.000000</td>\n",
       "      <td>0.000000</td>\n",
       "      <td>0.000000</td>\n",
       "      <td>0.000000</td>\n",
       "      <td>0.000000</td>\n",
       "      <td>0.000000</td>\n",
       "    </tr>\n",
       "    <tr>\n",
       "      <th>50%</th>\n",
       "      <td>0.000000</td>\n",
       "      <td>1.470000e+02</td>\n",
       "      <td>1.050000e+02</td>\n",
       "      <td>0.000000</td>\n",
       "      <td>0.000000</td>\n",
       "      <td>0.000000</td>\n",
       "      <td>0.000000</td>\n",
       "      <td>0.000000</td>\n",
       "      <td>0.000000</td>\n",
       "      <td>0.000000</td>\n",
       "      <td>...</td>\n",
       "      <td>255.000000</td>\n",
       "      <td>117.000000</td>\n",
       "      <td>0.770000</td>\n",
       "      <td>0.020000</td>\n",
       "      <td>0.000000</td>\n",
       "      <td>0.000000</td>\n",
       "      <td>0.000000</td>\n",
       "      <td>0.000000</td>\n",
       "      <td>0.000000</td>\n",
       "      <td>0.000000</td>\n",
       "    </tr>\n",
       "    <tr>\n",
       "      <th>75%</th>\n",
       "      <td>0.000000</td>\n",
       "      <td>2.880000e+02</td>\n",
       "      <td>1.165000e+03</td>\n",
       "      <td>0.000000</td>\n",
       "      <td>0.000000</td>\n",
       "      <td>0.000000</td>\n",
       "      <td>0.000000</td>\n",
       "      <td>0.000000</td>\n",
       "      <td>1.000000</td>\n",
       "      <td>0.000000</td>\n",
       "      <td>...</td>\n",
       "      <td>255.000000</td>\n",
       "      <td>255.000000</td>\n",
       "      <td>1.000000</td>\n",
       "      <td>0.070000</td>\n",
       "      <td>0.030000</td>\n",
       "      <td>0.020000</td>\n",
       "      <td>1.000000</td>\n",
       "      <td>1.000000</td>\n",
       "      <td>0.000000</td>\n",
       "      <td>0.000000</td>\n",
       "    </tr>\n",
       "    <tr>\n",
       "      <th>max</th>\n",
       "      <td>58329.000000</td>\n",
       "      <td>6.933756e+08</td>\n",
       "      <td>5.155468e+06</td>\n",
       "      <td>1.000000</td>\n",
       "      <td>3.000000</td>\n",
       "      <td>3.000000</td>\n",
       "      <td>30.000000</td>\n",
       "      <td>5.000000</td>\n",
       "      <td>1.000000</td>\n",
       "      <td>884.000000</td>\n",
       "      <td>...</td>\n",
       "      <td>255.000000</td>\n",
       "      <td>255.000000</td>\n",
       "      <td>1.000000</td>\n",
       "      <td>1.000000</td>\n",
       "      <td>1.000000</td>\n",
       "      <td>1.000000</td>\n",
       "      <td>1.000000</td>\n",
       "      <td>1.000000</td>\n",
       "      <td>1.000000</td>\n",
       "      <td>1.000000</td>\n",
       "    </tr>\n",
       "  </tbody>\n",
       "</table>\n",
       "<p>8 rows × 38 columns</p>\n",
       "</div>"
      ],
      "text/plain": [
       "            duration     src_bytes     dst_bytes           land  \\\n",
       "count  145585.000000  1.455850e+05  1.455850e+05  145585.000000   \n",
       "mean      132.026088  7.995754e+03  2.859800e+03       0.000137   \n",
       "std      1224.161209  1.820390e+06  6.081000e+04       0.011720   \n",
       "min         0.000000  0.000000e+00  0.000000e+00       0.000000   \n",
       "25%         0.000000  0.000000e+00  0.000000e+00       0.000000   \n",
       "50%         0.000000  1.470000e+02  1.050000e+02       0.000000   \n",
       "75%         0.000000  2.880000e+02  1.165000e+03       0.000000   \n",
       "max     58329.000000  6.933756e+08  5.155468e+06       1.000000   \n",
       "\n",
       "       wrong_fragment         urgent            hot  num_failed_logins  \\\n",
       "count   145585.000000  145585.000000  145585.000000      145585.000000   \n",
       "mean         0.020201       0.000048       0.100175           0.000515   \n",
       "std          0.239369       0.010150       1.426803           0.028586   \n",
       "min          0.000000       0.000000       0.000000           0.000000   \n",
       "25%          0.000000       0.000000       0.000000           0.000000   \n",
       "50%          0.000000       0.000000       0.000000           0.000000   \n",
       "75%          0.000000       0.000000       0.000000           0.000000   \n",
       "max          3.000000       3.000000      30.000000           5.000000   \n",
       "\n",
       "           logged_in  num_compromised  ...  dst_host_count  \\\n",
       "count  145585.000000    145585.000000  ...   145585.000000   \n",
       "mean        0.491493         0.026177  ...      181.469416   \n",
       "std         0.499929         3.311384  ...       99.097409   \n",
       "min         0.000000         0.000000  ...        0.000000   \n",
       "25%         0.000000         0.000000  ...       78.000000   \n",
       "50%         0.000000         0.000000  ...      255.000000   \n",
       "75%         1.000000         0.000000  ...      255.000000   \n",
       "max         1.000000       884.000000  ...      255.000000   \n",
       "\n",
       "       dst_host_srv_count  dst_host_same_srv_rate  dst_host_diff_srv_rate  \\\n",
       "count       145585.000000           145585.000000           145585.000000   \n",
       "mean           129.935563                0.553219                0.061389   \n",
       "std            114.714725                0.456236                0.147021   \n",
       "min              0.000000                0.000000                0.000000   \n",
       "25%             12.000000                0.050000                0.000000   \n",
       "50%            117.000000                0.770000                0.020000   \n",
       "75%            255.000000                1.000000                0.070000   \n",
       "max            255.000000                1.000000                1.000000   \n",
       "\n",
       "       dst_host_same_src_port_rate  dst_host_srv_diff_host_rate  \\\n",
       "count                145585.000000                145585.000000   \n",
       "mean                      0.092819                     0.019048   \n",
       "std                       0.241112                     0.060410   \n",
       "min                       0.000000                     0.000000   \n",
       "25%                       0.000000                     0.000000   \n",
       "50%                       0.000000                     0.000000   \n",
       "75%                       0.030000                     0.020000   \n",
       "max                       1.000000                     1.000000   \n",
       "\n",
       "       dst_host_serror_rate  dst_host_srv_serror_rate  dst_host_rerror_rate  \\\n",
       "count         145585.000000             145585.000000         145585.000000   \n",
       "mean               0.291599                  0.290980              0.110464   \n",
       "std                0.452493                  0.453448              0.306098   \n",
       "min                0.000000                  0.000000              0.000000   \n",
       "25%                0.000000                  0.000000              0.000000   \n",
       "50%                0.000000                  0.000000              0.000000   \n",
       "75%                1.000000                  1.000000              0.000000   \n",
       "max                1.000000                  1.000000              1.000000   \n",
       "\n",
       "       dst_host_srv_rerror_rate  \n",
       "count             145585.000000  \n",
       "mean                   0.107676  \n",
       "std                    0.304221  \n",
       "min                    0.000000  \n",
       "25%                    0.000000  \n",
       "50%                    0.000000  \n",
       "75%                    0.000000  \n",
       "max                    1.000000  \n",
       "\n",
       "[8 rows x 38 columns]"
      ]
     },
     "execution_count": 9,
     "metadata": {},
     "output_type": "execute_result"
    }
   ],
   "source": [
    "ids.describe()"
   ]
  },
  {
   "cell_type": "code",
   "execution_count": 10,
   "id": "973eb6a3",
   "metadata": {},
   "outputs": [
    {
     "name": "stdout",
     "output_type": "stream",
     "text": [
      "Saving figure attribute_histogram_plots\n"
     ]
    },
    {
     "data": {
      "image/png": "[encoded data removed]",
      "text/plain": [
       "<Figure size 1440x1080 with 42 Axes>"
      ]
     },
     "metadata": {
      "needs_background": "light"
     },
     "output_type": "display_data"
    }
   ],
   "source": [
    "%matplotlib inline\n",
    "import matplotlib.pyplot as plt\n",
    "\n",
    "ids.hist(bins=50, figsize=(20,15))\n",
    "save_fig(\"attribute_histogram_plots\")\n",
    "plt.show()"
   ]
  },
  {
   "cell_type": "code",
   "execution_count": 11,
   "id": "73f77605",
   "metadata": {},
   "outputs": [
    {
     "name": "stdout",
     "output_type": "stream",
     "text": [
      "Saving figure Categorical Column visualization\n"
     ]
    },
    {
     "data": {
      "image/png": "[encoded data removed]",
      "text/plain": [
       "<Figure size 1584x1440 with 4 Axes>"
      ]
     },
     "metadata": {
      "needs_background": "light"
     },
     "output_type": "display_data"
    }
   ],
   "source": [
    "categorical_features = ['flag', 'service', 'target', 'protocol_type']\n",
    "def plot_dist(col, ax):\n",
    "    ids[col].value_counts().plot(kind='bar', facecolor='y', ax=ax)\n",
    "    ax.set_xlabel('{}'.format(col), fontsize=18)\n",
    "    ax.set_title(\"{} type on dataset\".format(col), fontsize= 18)\n",
    "    plt.xticks(rotation=45)\n",
    "    return ax\n",
    "\n",
    "f, ax = plt.subplots(2,2, figsize = (22,20))\n",
    "f.tight_layout(h_pad=15, w_pad=10, rect=[0, 0.08, 1, 0.93])\n",
    "\n",
    "k = 0\n",
    "for i in range(2):\n",
    "    for j in range(2):\n",
    "        plot_dist(categorical_features[k], ax[i][j])\n",
    "        k += 1\n",
    "\n",
    "save_fig('Categorical Column visualization')\n",
    "plt.show()"
   ]
  },
  {
   "cell_type": "code",
   "execution_count": null,
   "id": "cdc4d160",
   "metadata": {},
   "outputs": [],
   "source": [
    "### Attacks after grouping them to attack categories ###\n",
    "\n",
    "## normal - no attack\n",
    "## dos - denial of service attack\n",
    "## probe - probing attack\n",
    "## r2l - remote to user attack\n",
    "## u2r - user to root attack"
   ]
  },
  {
   "cell_type": "code",
   "execution_count": 12,
   "id": "76a8a6e5",
   "metadata": {},
   "outputs": [
    {
     "data": {
      "text/plain": [
       "normal    87832\n",
       "dos       54572\n",
       "probe      2130\n",
       "r2l         999\n",
       "u2r          52\n",
       "Name: target, dtype: int64"
      ]
     },
     "execution_count": 12,
     "metadata": {},
     "output_type": "execute_result"
    }
   ],
   "source": [
    "ids['target'].value_counts()"
   ]
  },
  {
   "cell_type": "code",
   "execution_count": 13,
   "id": "09649b5c",
   "metadata": {
    "scrolled": true
   },
   "outputs": [
    {
     "data": {
      "text/plain": [
       "<AxesSubplot:>"
      ]
     },
     "execution_count": 13,
     "metadata": {},
     "output_type": "execute_result"
    },
    {
     "data": {
      "image/png": "[encoded data removed]",
      "text/plain": [
       "<Figure size 432x288 with 1 Axes>"
      ]
     },
     "metadata": {
      "needs_background": "light"
     },
     "output_type": "display_data"
    }
   ],
   "source": [
    "ids['target'].hist()"
   ]
  },
  {
   "cell_type": "code",
   "execution_count": null,
   "id": "ee89de9b",
   "metadata": {},
   "outputs": [],
   "source": [
    "### SPLITTING DATASET TO TEST AND VALIDATION SETS ###"
   ]
  },
  {
   "cell_type": "code",
   "execution_count": 14,
   "id": "95abfe78",
   "metadata": {},
   "outputs": [],
   "source": [
    "from sklearn.model_selection import train_test_split\n",
    "\n",
    "train_set,strat_test_set = train_test_split(ids,test_size=0.2,random_state=42,stratify=ids['target'])\n",
    "strat_train_set,strat_val_set=train_test_split(train_set,test_size=0.2,random_state=42,stratify=train_set['target'])"
   ]
  },
  {
   "cell_type": "code",
   "execution_count": 15,
   "id": "2cfc0576",
   "metadata": {},
   "outputs": [
    {
     "data": {
      "text/plain": [
       "normal    0.603290\n",
       "dos       0.374867\n",
       "probe     0.014631\n",
       "r2l       0.006869\n",
       "u2r       0.000343\n",
       "Name: target, dtype: float64"
      ]
     },
     "execution_count": 15,
     "metadata": {},
     "output_type": "execute_result"
    }
   ],
   "source": [
    "strat_test_set[\"target\"].value_counts() / len(strat_test_set)"
   ]
  },
  {
   "cell_type": "code",
   "execution_count": 16,
   "id": "96032d53",
   "metadata": {},
   "outputs": [
    {
     "data": {
      "text/plain": [
       "normal    0.603304\n",
       "dos       0.374846\n",
       "probe     0.014631\n",
       "r2l       0.006862\n",
       "u2r       0.000357\n",
       "Name: target, dtype: float64"
      ]
     },
     "execution_count": 16,
     "metadata": {},
     "output_type": "execute_result"
    }
   ],
   "source": [
    "ids['target'].value_counts() / len(ids)"
   ]
  },
  {
   "cell_type": "code",
   "execution_count": null,
   "id": "320f6b68",
   "metadata": {},
   "outputs": [],
   "source": [
    "### DATA ANALYSIS AND VISUALISATION ###"
   ]
  },
  {
   "cell_type": "code",
   "execution_count": 78,
   "id": "a76cae7d",
   "metadata": {},
   "outputs": [],
   "source": [
    "ids = strat_train_set.copy()"
   ]
  },
  {
   "cell_type": "code",
   "execution_count": 79,
   "id": "15fa262c",
   "metadata": {},
   "outputs": [
    {
     "name": "stdout",
     "output_type": "stream",
     "text": [
      "Saving figure Protocol type per attack\n"
     ]
    },
    {
     "data": {
      "image/png": "[encoded data removed]",
      "text/plain": [
       "<Figure size 432x288 with 1 Axes>"
      ]
     },
     "metadata": {
      "needs_background": "light"
     },
     "output_type": "display_data"
    }
   ],
   "source": [
    "import seaborn as sns\n",
    "\n",
    "sns.countplot(x = 'protocol_type',hue = \"target\",data = ids).set(title='Protocol type per attack')\n",
    "save_fig(\"Protocol type per attack\")\n",
    "plt.show()"
   ]
  },
  {
   "cell_type": "code",
   "execution_count": 80,
   "id": "d886579a",
   "metadata": {},
   "outputs": [
    {
     "name": "stdout",
     "output_type": "stream",
     "text": [
      "Saving figure Guest login per attack\n"
     ]
    },
    {
     "data": {
      "image/png": "[encoded data removed]",
      "text/plain": [
       "<Figure size 432x288 with 1 Axes>"
      ]
     },
     "metadata": {
      "needs_background": "light"
     },
     "output_type": "display_data"
    }
   ],
   "source": [
    "import seaborn as sns\n",
    "\n",
    "sns.countplot(x = 'is_guest_login',hue = \"target\",data = ids).set(title='Guest login per attack')\n",
    "save_fig(\"Guest login per attack\")\n",
    "plt.show()"
   ]
  },
  {
   "cell_type": "code",
   "execution_count": 81,
   "id": "d4a73d14",
   "metadata": {},
   "outputs": [
    {
     "name": "stdout",
     "output_type": "stream",
     "text": [
      "Saving figure Land status per attack\n"
     ]
    },
    {
     "data": {
      "image/png": "[encoded data removed]",
      "text/plain": [
       "<Figure size 432x288 with 1 Axes>"
      ]
     },
     "metadata": {
      "needs_background": "light"
     },
     "output_type": "display_data"
    }
   ],
   "source": [
    "import seaborn as sns\n",
    "\n",
    "sns.countplot(x = 'land',hue = \"target\",data = ids).set(title='Land status per attack')\n",
    "save_fig(\"Land status per attack\")\n",
    "plt.show()"
   ]
  },
  {
   "cell_type": "code",
   "execution_count": 82,
   "id": "79a9d56e",
   "metadata": {},
   "outputs": [],
   "source": [
    "### CORRELATION MATRIX ###"
   ]
  },
  {
   "cell_type": "code",
   "execution_count": 83,
   "id": "ede426bf",
   "metadata": {},
   "outputs": [
    {
     "name": "stdout",
     "output_type": "stream",
     "text": [
      "Saving figure Correlation MATRIX\n"
     ]
    },
    {
     "data": {
      "image/png": "[encoded data removed]",
      "text/plain": [
       "<Figure size 1440x1440 with 2 Axes>"
      ]
     },
     "metadata": {
      "needs_background": "light"
     },
     "output_type": "display_data"
    }
   ],
   "source": [
    "%matplotlib inline\n",
    "import seaborn as sns\n",
    "import matplotlib.pyplot as plt\n",
    "\n",
    "f, ax = plt.subplots(figsize =(20,20)) \n",
    "\n",
    "corr_matrix=ids.drop(['num_outbound_cmds','is_host_login'],axis=1).corr()\n",
    "sns.heatmap(corr_matrix,ax = ax, linewidths = 0.2)\n",
    "\n",
    "save_fig('Correlation MATRIX')\n",
    "plt.show()"
   ]
  },
  {
   "cell_type": "code",
   "execution_count": 84,
   "id": "21e8eed5",
   "metadata": {},
   "outputs": [],
   "source": [
    "# ids['num_root'].corr(ids['num_compromised'])\n",
    "# This variable is highly correlated with num_compromised and should be ignored.\n",
    "# (Correlation = 0.9963131797054336)\n",
    "ids.drop('num_root',axis = 1,inplace = True)\n",
    "\n",
    "# ids['srv_serror_rate'].corr(ids['serror_rate'])\n",
    "# This variable is highly correlated with serror_rate and should be ignored.\n",
    "# (Correlation = 0.9945252278234321)\n",
    "ids.drop('srv_serror_rate',axis = 1,inplace = True)\n",
    "\n",
    "# ids['srv_rerror_rate'].corr(ids['rerror_rate'])\n",
    "# This variable is highly correlated with rerror_rate and should be ignored.\n",
    "# (Correlation = 0.9947309539817937)\n",
    "ids.drop('srv_rerror_rate',axis = 1, inplace=True)\n",
    "\n",
    "# ids['dst_host_srv_serror_rate'].corr(ids['srv_serror_rate'])\n",
    "# This variable is highly correlated with srv_serror_rate and should be ignored.\n",
    "# (Correlation = 0.9993041091850098)\n",
    "ids.drop('dst_host_srv_serror_rate',axis = 1, inplace=True)\n",
    "\n",
    "# ids['dst_host_serror_rate'].corr(ids['rerror_rate'])\n",
    "# This variable is highly correlated with rerror_rate and should be ignored.\n",
    "# (Correlation = 0.9869947924956001)\n",
    "ids.drop('dst_host_serror_rate',axis = 1, inplace=True)\n",
    "\n",
    "# ids['dst_host_rerror_rate'].corr(ids['srv_rerror_rate'])\n",
    "# This variable is highly correlated with srv_rerror_rate and should be ignored.\n",
    "# (Correlation = 0.9821663427308375)\n",
    "ids.drop('dst_host_rerror_rate',axis = 1, inplace=True)\n",
    "\n",
    "# ids['dst_host_srv_rerror_rate'].corr(ids['rerror_rate'])\n",
    "# This variable is highly correlated with rerror_rate and should be ignored.\n",
    "# (Correlation = 0.9851995540751249)\n",
    "ids.drop('dst_host_srv_rerror_rate',axis = 1, inplace=True)\n",
    "\n",
    "# ids['dst_host_same_srv_rate'].corr(ids['dst_host_srv_count'])\n",
    "# This variable is highly correlated with dst_host_srv_count and should be ignored.\n",
    "# (Correlation = 0.9736854572953938)\n",
    "ids.drop('dst_host_same_srv_rate',axis = 1, inplace=True)\n",
    "\n",
    "# This variable has all instances the same and should be ignored.\n",
    "ids.drop(['num_outbound_cmds','is_host_login'],axis=1,inplace=True)"
   ]
  },
  {
   "cell_type": "code",
   "execution_count": 85,
   "id": "d9205f98",
   "metadata": {},
   "outputs": [
    {
     "data": {
      "text/html": [
       "<div>\n",
       "<style scoped>\n",
       "    .dataframe tbody tr th:only-of-type {\n",
       "        vertical-align: middle;\n",
       "    }\n",
       "\n",
       "    .dataframe tbody tr th {\n",
       "        vertical-align: top;\n",
       "    }\n",
       "\n",
       "    .dataframe thead th {\n",
       "        text-align: right;\n",
       "    }\n",
       "</style>\n",
       "<table border=\"1\" class=\"dataframe\">\n",
       "  <thead>\n",
       "    <tr style=\"text-align: right;\">\n",
       "      <th></th>\n",
       "      <th>duration</th>\n",
       "      <th>protocol_type</th>\n",
       "      <th>service</th>\n",
       "      <th>flag</th>\n",
       "      <th>src_bytes</th>\n",
       "      <th>dst_bytes</th>\n",
       "      <th>land</th>\n",
       "      <th>wrong_fragment</th>\n",
       "      <th>urgent</th>\n",
       "      <th>hot</th>\n",
       "      <th>...</th>\n",
       "      <th>rerror_rate</th>\n",
       "      <th>same_srv_rate</th>\n",
       "      <th>diff_srv_rate</th>\n",
       "      <th>srv_diff_host_rate</th>\n",
       "      <th>dst_host_count</th>\n",
       "      <th>dst_host_srv_count</th>\n",
       "      <th>dst_host_diff_srv_rate</th>\n",
       "      <th>dst_host_same_src_port_rate</th>\n",
       "      <th>dst_host_srv_diff_host_rate</th>\n",
       "      <th>target</th>\n",
       "    </tr>\n",
       "  </thead>\n",
       "  <tbody>\n",
       "    <tr>\n",
       "      <th>90308</th>\n",
       "      <td>0</td>\n",
       "      <td>tcp</td>\n",
       "      <td>http</td>\n",
       "      <td>SF</td>\n",
       "      <td>183</td>\n",
       "      <td>2333</td>\n",
       "      <td>0</td>\n",
       "      <td>0</td>\n",
       "      <td>0</td>\n",
       "      <td>0</td>\n",
       "      <td>...</td>\n",
       "      <td>0.0</td>\n",
       "      <td>1.00</td>\n",
       "      <td>0.00</td>\n",
       "      <td>0.0</td>\n",
       "      <td>5</td>\n",
       "      <td>255</td>\n",
       "      <td>0.00</td>\n",
       "      <td>0.20</td>\n",
       "      <td>0.02</td>\n",
       "      <td>normal</td>\n",
       "    </tr>\n",
       "    <tr>\n",
       "      <th>378975</th>\n",
       "      <td>0</td>\n",
       "      <td>tcp</td>\n",
       "      <td>private</td>\n",
       "      <td>S0</td>\n",
       "      <td>0</td>\n",
       "      <td>0</td>\n",
       "      <td>0</td>\n",
       "      <td>0</td>\n",
       "      <td>0</td>\n",
       "      <td>0</td>\n",
       "      <td>...</td>\n",
       "      <td>0.0</td>\n",
       "      <td>0.06</td>\n",
       "      <td>0.05</td>\n",
       "      <td>0.0</td>\n",
       "      <td>255</td>\n",
       "      <td>8</td>\n",
       "      <td>0.05</td>\n",
       "      <td>0.00</td>\n",
       "      <td>0.00</td>\n",
       "      <td>dos</td>\n",
       "    </tr>\n",
       "    <tr>\n",
       "      <th>80287</th>\n",
       "      <td>0</td>\n",
       "      <td>tcp</td>\n",
       "      <td>http</td>\n",
       "      <td>SF</td>\n",
       "      <td>359</td>\n",
       "      <td>700</td>\n",
       "      <td>0</td>\n",
       "      <td>0</td>\n",
       "      <td>0</td>\n",
       "      <td>0</td>\n",
       "      <td>...</td>\n",
       "      <td>0.0</td>\n",
       "      <td>1.00</td>\n",
       "      <td>0.00</td>\n",
       "      <td>0.0</td>\n",
       "      <td>255</td>\n",
       "      <td>255</td>\n",
       "      <td>0.00</td>\n",
       "      <td>0.00</td>\n",
       "      <td>0.00</td>\n",
       "      <td>normal</td>\n",
       "    </tr>\n",
       "    <tr>\n",
       "      <th>481062</th>\n",
       "      <td>0</td>\n",
       "      <td>icmp</td>\n",
       "      <td>urp_i</td>\n",
       "      <td>SF</td>\n",
       "      <td>183</td>\n",
       "      <td>0</td>\n",
       "      <td>0</td>\n",
       "      <td>0</td>\n",
       "      <td>0</td>\n",
       "      <td>0</td>\n",
       "      <td>...</td>\n",
       "      <td>0.0</td>\n",
       "      <td>0.88</td>\n",
       "      <td>0.25</td>\n",
       "      <td>0.0</td>\n",
       "      <td>255</td>\n",
       "      <td>23</td>\n",
       "      <td>0.01</td>\n",
       "      <td>0.11</td>\n",
       "      <td>0.00</td>\n",
       "      <td>normal</td>\n",
       "    </tr>\n",
       "    <tr>\n",
       "      <th>349283</th>\n",
       "      <td>0</td>\n",
       "      <td>tcp</td>\n",
       "      <td>http</td>\n",
       "      <td>REJ</td>\n",
       "      <td>0</td>\n",
       "      <td>0</td>\n",
       "      <td>0</td>\n",
       "      <td>0</td>\n",
       "      <td>0</td>\n",
       "      <td>0</td>\n",
       "      <td>...</td>\n",
       "      <td>1.0</td>\n",
       "      <td>1.00</td>\n",
       "      <td>0.00</td>\n",
       "      <td>0.0</td>\n",
       "      <td>2</td>\n",
       "      <td>37</td>\n",
       "      <td>0.00</td>\n",
       "      <td>0.50</td>\n",
       "      <td>0.38</td>\n",
       "      <td>normal</td>\n",
       "    </tr>\n",
       "  </tbody>\n",
       "</table>\n",
       "<p>5 rows × 32 columns</p>\n",
       "</div>"
      ],
      "text/plain": [
       "        duration protocol_type  service flag  src_bytes  dst_bytes  land  \\\n",
       "90308          0           tcp     http   SF        183       2333     0   \n",
       "378975         0           tcp  private   S0          0          0     0   \n",
       "80287          0           tcp     http   SF        359        700     0   \n",
       "481062         0          icmp    urp_i   SF        183          0     0   \n",
       "349283         0           tcp     http  REJ          0          0     0   \n",
       "\n",
       "        wrong_fragment  urgent  hot  ...  rerror_rate  same_srv_rate  \\\n",
       "90308                0       0    0  ...          0.0           1.00   \n",
       "378975               0       0    0  ...          0.0           0.06   \n",
       "80287                0       0    0  ...          0.0           1.00   \n",
       "481062               0       0    0  ...          0.0           0.88   \n",
       "349283               0       0    0  ...          1.0           1.00   \n",
       "\n",
       "        diff_srv_rate  srv_diff_host_rate  dst_host_count  dst_host_srv_count  \\\n",
       "90308            0.00                 0.0               5                 255   \n",
       "378975           0.05                 0.0             255                   8   \n",
       "80287            0.00                 0.0             255                 255   \n",
       "481062           0.25                 0.0             255                  23   \n",
       "349283           0.00                 0.0               2                  37   \n",
       "\n",
       "        dst_host_diff_srv_rate  dst_host_same_src_port_rate  \\\n",
       "90308                     0.00                         0.20   \n",
       "378975                    0.05                         0.00   \n",
       "80287                     0.00                         0.00   \n",
       "481062                    0.01                         0.11   \n",
       "349283                    0.00                         0.50   \n",
       "\n",
       "        dst_host_srv_diff_host_rate  target  \n",
       "90308                          0.02  normal  \n",
       "378975                         0.00     dos  \n",
       "80287                          0.00  normal  \n",
       "481062                         0.00  normal  \n",
       "349283                         0.38  normal  \n",
       "\n",
       "[5 rows x 32 columns]"
      ]
     },
     "execution_count": 85,
     "metadata": {},
     "output_type": "execute_result"
    }
   ],
   "source": [
    "ids.head()"
   ]
  },
  {
   "cell_type": "code",
   "execution_count": null,
   "id": "1717c67e",
   "metadata": {},
   "outputs": [],
   "source": [
    "### DATA PRE-PROCESSING BASED ON PREVIOUS RESULTS ###"
   ]
  },
  {
   "cell_type": "code",
   "execution_count": 24,
   "id": "0e588fc6",
   "metadata": {},
   "outputs": [],
   "source": [
    "ids=strat_train_set.drop(['target','num_root','srv_serror_rate','srv_rerror_rate','dst_host_srv_serror_rate','dst_host_srv_rerror_rate',\n",
    "                          'dst_host_serror_rate','dst_host_rerror_rate','dst_host_same_srv_rate','num_outbound_cmds','is_host_login'],axis=1)\n",
    "ids_labels=strat_train_set['target'].copy()"
   ]
  },
  {
   "cell_type": "code",
   "execution_count": 25,
   "id": "ed165aaf",
   "metadata": {},
   "outputs": [],
   "source": [
    "from sklearn.preprocessing import LabelEncoder\n",
    "\n",
    "target_encoder=LabelEncoder()\n",
    "target_encoder.fit(ids_labels)\n",
    "ids_labels=target_encoder.transform(ids_labels)"
   ]
  },
  {
   "cell_type": "code",
   "execution_count": null,
   "id": "80d99d4d",
   "metadata": {},
   "outputs": [],
   "source": [
    "### Missing values handling"
   ]
  },
  {
   "cell_type": "code",
   "execution_count": 26,
   "id": "ecca6eff",
   "metadata": {},
   "outputs": [
    {
     "data": {
      "image/png": "[encoded data removed]",
      "text/plain": [
       "<Figure size 720x360 with 1 Axes>"
      ]
     },
     "metadata": {
      "needs_background": "light"
     },
     "output_type": "display_data"
    }
   ],
   "source": [
    "import seaborn as sns\n",
    "\n",
    "%matplotlib inline\n",
    "plt.figure(figsize=(10,5))\n",
    "sns.heatmap(ids.isnull(),yticklabels=False,cbar=False)\n",
    "\n",
    "plt.show()"
   ]
  },
  {
   "cell_type": "code",
   "execution_count": null,
   "id": "582dfa68",
   "metadata": {},
   "outputs": [],
   "source": [
    "### ENCODING NON-NUMBER VALUES AND CATEGORIES ###"
   ]
  },
  {
   "cell_type": "code",
   "execution_count": 27,
   "id": "51cf111a",
   "metadata": {},
   "outputs": [
    {
     "data": {
      "text/html": [
       "<div>\n",
       "<style scoped>\n",
       "    .dataframe tbody tr th:only-of-type {\n",
       "        vertical-align: middle;\n",
       "    }\n",
       "\n",
       "    .dataframe tbody tr th {\n",
       "        vertical-align: top;\n",
       "    }\n",
       "\n",
       "    .dataframe thead th {\n",
       "        text-align: right;\n",
       "    }\n",
       "</style>\n",
       "<table border=\"1\" class=\"dataframe\">\n",
       "  <thead>\n",
       "    <tr style=\"text-align: right;\">\n",
       "      <th></th>\n",
       "      <th>flag</th>\n",
       "      <th>service</th>\n",
       "      <th>protocol_type</th>\n",
       "    </tr>\n",
       "  </thead>\n",
       "  <tbody>\n",
       "    <tr>\n",
       "      <th>90308</th>\n",
       "      <td>SF</td>\n",
       "      <td>http</td>\n",
       "      <td>tcp</td>\n",
       "    </tr>\n",
       "    <tr>\n",
       "      <th>378975</th>\n",
       "      <td>S0</td>\n",
       "      <td>private</td>\n",
       "      <td>tcp</td>\n",
       "    </tr>\n",
       "    <tr>\n",
       "      <th>80287</th>\n",
       "      <td>SF</td>\n",
       "      <td>http</td>\n",
       "      <td>tcp</td>\n",
       "    </tr>\n",
       "    <tr>\n",
       "      <th>481062</th>\n",
       "      <td>SF</td>\n",
       "      <td>urp_i</td>\n",
       "      <td>icmp</td>\n",
       "    </tr>\n",
       "    <tr>\n",
       "      <th>349283</th>\n",
       "      <td>REJ</td>\n",
       "      <td>http</td>\n",
       "      <td>tcp</td>\n",
       "    </tr>\n",
       "    <tr>\n",
       "      <th>357370</th>\n",
       "      <td>S0</td>\n",
       "      <td>private</td>\n",
       "      <td>tcp</td>\n",
       "    </tr>\n",
       "    <tr>\n",
       "      <th>23902</th>\n",
       "      <td>SF</td>\n",
       "      <td>http</td>\n",
       "      <td>tcp</td>\n",
       "    </tr>\n",
       "    <tr>\n",
       "      <th>78495</th>\n",
       "      <td>SF</td>\n",
       "      <td>http</td>\n",
       "      <td>tcp</td>\n",
       "    </tr>\n",
       "    <tr>\n",
       "      <th>460364</th>\n",
       "      <td>REJ</td>\n",
       "      <td>ssh</td>\n",
       "      <td>tcp</td>\n",
       "    </tr>\n",
       "    <tr>\n",
       "      <th>383565</th>\n",
       "      <td>S0</td>\n",
       "      <td>private</td>\n",
       "      <td>tcp</td>\n",
       "    </tr>\n",
       "  </tbody>\n",
       "</table>\n",
       "</div>"
      ],
      "text/plain": [
       "       flag  service protocol_type\n",
       "90308    SF     http           tcp\n",
       "378975   S0  private           tcp\n",
       "80287    SF     http           tcp\n",
       "481062   SF    urp_i          icmp\n",
       "349283  REJ     http           tcp\n",
       "357370   S0  private           tcp\n",
       "23902    SF     http           tcp\n",
       "78495    SF     http           tcp\n",
       "460364  REJ      ssh           tcp\n",
       "383565   S0  private           tcp"
      ]
     },
     "execution_count": 27,
     "metadata": {},
     "output_type": "execute_result"
    }
   ],
   "source": [
    "ids_cat=ids[['flag', 'service', 'protocol_type']]\n",
    "ids_cat.head(10)"
   ]
  },
  {
   "cell_type": "code",
   "execution_count": 28,
   "id": "4d888a47",
   "metadata": {},
   "outputs": [
    {
     "data": {
      "text/plain": [
       "<93174x79 sparse matrix of type '<class 'numpy.float64'>'\n",
       "\twith 279522 stored elements in Compressed Sparse Row format>"
      ]
     },
     "execution_count": 28,
     "metadata": {},
     "output_type": "execute_result"
    }
   ],
   "source": [
    "from sklearn.preprocessing import OneHotEncoder\n",
    "\n",
    "cat_encoder = OneHotEncoder()\n",
    "ids_cat_1hot = cat_encoder.fit_transform(ids_cat)\n",
    "ids_cat_1hot"
   ]
  },
  {
   "cell_type": "code",
   "execution_count": 29,
   "id": "c7f5fa47",
   "metadata": {},
   "outputs": [
    {
     "data": {
      "text/plain": [
       "array([[0., 0., 0., ..., 0., 1., 0.],\n",
       "       [0., 0., 0., ..., 0., 1., 0.],\n",
       "       [0., 0., 0., ..., 0., 1., 0.],\n",
       "       ...,\n",
       "       [0., 0., 0., ..., 0., 1., 0.],\n",
       "       [0., 0., 0., ..., 0., 1., 0.],\n",
       "       [0., 0., 0., ..., 0., 1., 0.]])"
      ]
     },
     "execution_count": 29,
     "metadata": {},
     "output_type": "execute_result"
    }
   ],
   "source": [
    "ids_cat_1hot.toarray()"
   ]
  },
  {
   "cell_type": "code",
   "execution_count": 30,
   "id": "ceae582a",
   "metadata": {},
   "outputs": [
    {
     "data": {
      "text/plain": [
       "(93174, 79)"
      ]
     },
     "execution_count": 30,
     "metadata": {},
     "output_type": "execute_result"
    }
   ],
   "source": [
    "ids_cat_1hot.shape"
   ]
  },
  {
   "cell_type": "code",
   "execution_count": 31,
   "id": "98ef9d83",
   "metadata": {},
   "outputs": [
    {
     "data": {
      "text/plain": [
       "[array(['OTH', 'REJ', 'RSTO', 'RSTOS0', 'RSTR', 'S0', 'S1', 'S2', 'S3',\n",
       "        'SF', 'SH'], dtype=object),\n",
       " array(['IRC', 'X11', 'Z39_50', 'auth', 'bgp', 'courier', 'csnet_ns',\n",
       "        'ctf', 'daytime', 'discard', 'domain', 'domain_u', 'echo', 'eco_i',\n",
       "        'ecr_i', 'efs', 'exec', 'finger', 'ftp', 'ftp_data', 'gopher',\n",
       "        'hostnames', 'http', 'http_443', 'imap4', 'iso_tsap', 'klogin',\n",
       "        'kshell', 'ldap', 'link', 'login', 'mtp', 'name', 'netbios_dgm',\n",
       "        'netbios_ns', 'netbios_ssn', 'netstat', 'nnsp', 'nntp', 'ntp_u',\n",
       "        'other', 'pm_dump', 'pop_2', 'pop_3', 'printer', 'private',\n",
       "        'red_i', 'remote_job', 'rje', 'shell', 'smtp', 'sql_net', 'ssh',\n",
       "        'sunrpc', 'supdup', 'systat', 'telnet', 'tim_i', 'time', 'urh_i',\n",
       "        'urp_i', 'uucp', 'uucp_path', 'vmnet', 'whois'], dtype=object),\n",
       " array(['icmp', 'tcp', 'udp'], dtype=object)]"
      ]
     },
     "execution_count": 31,
     "metadata": {},
     "output_type": "execute_result"
    }
   ],
   "source": [
    "cat_encoder.categories_"
   ]
  },
  {
   "cell_type": "code",
   "execution_count": null,
   "id": "78a26a64",
   "metadata": {},
   "outputs": [],
   "source": [
    "### DETECT ANY OUTLIERS IN THE DATASET ###"
   ]
  },
  {
   "cell_type": "code",
   "execution_count": 32,
   "id": "7ea01986",
   "metadata": {},
   "outputs": [
    {
     "data": {
      "text/html": [
       "<div>\n",
       "<style scoped>\n",
       "    .dataframe tbody tr th:only-of-type {\n",
       "        vertical-align: middle;\n",
       "    }\n",
       "\n",
       "    .dataframe tbody tr th {\n",
       "        vertical-align: top;\n",
       "    }\n",
       "\n",
       "    .dataframe thead th {\n",
       "        text-align: right;\n",
       "    }\n",
       "</style>\n",
       "<table border=\"1\" class=\"dataframe\">\n",
       "  <thead>\n",
       "    <tr style=\"text-align: right;\">\n",
       "      <th></th>\n",
       "      <th>duration</th>\n",
       "      <th>src_bytes</th>\n",
       "      <th>dst_bytes</th>\n",
       "      <th>land</th>\n",
       "      <th>wrong_fragment</th>\n",
       "      <th>urgent</th>\n",
       "      <th>hot</th>\n",
       "      <th>num_failed_logins</th>\n",
       "      <th>logged_in</th>\n",
       "      <th>num_compromised</th>\n",
       "      <th>...</th>\n",
       "      <th>serror_rate</th>\n",
       "      <th>rerror_rate</th>\n",
       "      <th>same_srv_rate</th>\n",
       "      <th>diff_srv_rate</th>\n",
       "      <th>srv_diff_host_rate</th>\n",
       "      <th>dst_host_count</th>\n",
       "      <th>dst_host_srv_count</th>\n",
       "      <th>dst_host_diff_srv_rate</th>\n",
       "      <th>dst_host_same_src_port_rate</th>\n",
       "      <th>dst_host_srv_diff_host_rate</th>\n",
       "    </tr>\n",
       "  </thead>\n",
       "  <tbody>\n",
       "    <tr>\n",
       "      <th>90308</th>\n",
       "      <td>0</td>\n",
       "      <td>183</td>\n",
       "      <td>2333</td>\n",
       "      <td>0</td>\n",
       "      <td>0</td>\n",
       "      <td>0</td>\n",
       "      <td>0</td>\n",
       "      <td>0</td>\n",
       "      <td>1</td>\n",
       "      <td>0</td>\n",
       "      <td>...</td>\n",
       "      <td>0.0</td>\n",
       "      <td>0.0</td>\n",
       "      <td>1.00</td>\n",
       "      <td>0.00</td>\n",
       "      <td>0.0</td>\n",
       "      <td>5</td>\n",
       "      <td>255</td>\n",
       "      <td>0.00</td>\n",
       "      <td>0.20</td>\n",
       "      <td>0.02</td>\n",
       "    </tr>\n",
       "    <tr>\n",
       "      <th>378975</th>\n",
       "      <td>0</td>\n",
       "      <td>0</td>\n",
       "      <td>0</td>\n",
       "      <td>0</td>\n",
       "      <td>0</td>\n",
       "      <td>0</td>\n",
       "      <td>0</td>\n",
       "      <td>0</td>\n",
       "      <td>0</td>\n",
       "      <td>0</td>\n",
       "      <td>...</td>\n",
       "      <td>1.0</td>\n",
       "      <td>0.0</td>\n",
       "      <td>0.06</td>\n",
       "      <td>0.05</td>\n",
       "      <td>0.0</td>\n",
       "      <td>255</td>\n",
       "      <td>8</td>\n",
       "      <td>0.05</td>\n",
       "      <td>0.00</td>\n",
       "      <td>0.00</td>\n",
       "    </tr>\n",
       "    <tr>\n",
       "      <th>80287</th>\n",
       "      <td>0</td>\n",
       "      <td>359</td>\n",
       "      <td>700</td>\n",
       "      <td>0</td>\n",
       "      <td>0</td>\n",
       "      <td>0</td>\n",
       "      <td>0</td>\n",
       "      <td>0</td>\n",
       "      <td>1</td>\n",
       "      <td>0</td>\n",
       "      <td>...</td>\n",
       "      <td>0.0</td>\n",
       "      <td>0.0</td>\n",
       "      <td>1.00</td>\n",
       "      <td>0.00</td>\n",
       "      <td>0.0</td>\n",
       "      <td>255</td>\n",
       "      <td>255</td>\n",
       "      <td>0.00</td>\n",
       "      <td>0.00</td>\n",
       "      <td>0.00</td>\n",
       "    </tr>\n",
       "    <tr>\n",
       "      <th>481062</th>\n",
       "      <td>0</td>\n",
       "      <td>183</td>\n",
       "      <td>0</td>\n",
       "      <td>0</td>\n",
       "      <td>0</td>\n",
       "      <td>0</td>\n",
       "      <td>0</td>\n",
       "      <td>0</td>\n",
       "      <td>0</td>\n",
       "      <td>0</td>\n",
       "      <td>...</td>\n",
       "      <td>0.0</td>\n",
       "      <td>0.0</td>\n",
       "      <td>0.88</td>\n",
       "      <td>0.25</td>\n",
       "      <td>0.0</td>\n",
       "      <td>255</td>\n",
       "      <td>23</td>\n",
       "      <td>0.01</td>\n",
       "      <td>0.11</td>\n",
       "      <td>0.00</td>\n",
       "    </tr>\n",
       "    <tr>\n",
       "      <th>349283</th>\n",
       "      <td>0</td>\n",
       "      <td>0</td>\n",
       "      <td>0</td>\n",
       "      <td>0</td>\n",
       "      <td>0</td>\n",
       "      <td>0</td>\n",
       "      <td>0</td>\n",
       "      <td>0</td>\n",
       "      <td>0</td>\n",
       "      <td>0</td>\n",
       "      <td>...</td>\n",
       "      <td>0.0</td>\n",
       "      <td>1.0</td>\n",
       "      <td>1.00</td>\n",
       "      <td>0.00</td>\n",
       "      <td>0.0</td>\n",
       "      <td>2</td>\n",
       "      <td>37</td>\n",
       "      <td>0.00</td>\n",
       "      <td>0.50</td>\n",
       "      <td>0.38</td>\n",
       "    </tr>\n",
       "  </tbody>\n",
       "</table>\n",
       "<p>5 rows × 28 columns</p>\n",
       "</div>"
      ],
      "text/plain": [
       "        duration  src_bytes  dst_bytes  land  wrong_fragment  urgent  hot  \\\n",
       "90308          0        183       2333     0               0       0    0   \n",
       "378975         0          0          0     0               0       0    0   \n",
       "80287          0        359        700     0               0       0    0   \n",
       "481062         0        183          0     0               0       0    0   \n",
       "349283         0          0          0     0               0       0    0   \n",
       "\n",
       "        num_failed_logins  logged_in  num_compromised  ...  serror_rate  \\\n",
       "90308                   0          1                0  ...          0.0   \n",
       "378975                  0          0                0  ...          1.0   \n",
       "80287                   0          1                0  ...          0.0   \n",
       "481062                  0          0                0  ...          0.0   \n",
       "349283                  0          0                0  ...          0.0   \n",
       "\n",
       "        rerror_rate  same_srv_rate  diff_srv_rate  srv_diff_host_rate  \\\n",
       "90308           0.0           1.00           0.00                 0.0   \n",
       "378975          0.0           0.06           0.05                 0.0   \n",
       "80287           0.0           1.00           0.00                 0.0   \n",
       "481062          0.0           0.88           0.25                 0.0   \n",
       "349283          1.0           1.00           0.00                 0.0   \n",
       "\n",
       "        dst_host_count  dst_host_srv_count  dst_host_diff_srv_rate  \\\n",
       "90308                5                 255                    0.00   \n",
       "378975             255                   8                    0.05   \n",
       "80287              255                 255                    0.00   \n",
       "481062             255                  23                    0.01   \n",
       "349283               2                  37                    0.00   \n",
       "\n",
       "        dst_host_same_src_port_rate  dst_host_srv_diff_host_rate  \n",
       "90308                          0.20                         0.02  \n",
       "378975                         0.00                         0.00  \n",
       "80287                          0.00                         0.00  \n",
       "481062                         0.11                         0.00  \n",
       "349283                         0.50                         0.38  \n",
       "\n",
       "[5 rows x 28 columns]"
      ]
     },
     "execution_count": 32,
     "metadata": {},
     "output_type": "execute_result"
    }
   ],
   "source": [
    "ids_num=ids.drop(['flag', 'service','protocol_type'],axis=1)\n",
    "ids_num.head()"
   ]
  },
  {
   "cell_type": "code",
   "execution_count": 33,
   "id": "ce81df85",
   "metadata": {},
   "outputs": [],
   "source": [
    "from sklearn.ensemble import IsolationForest\n",
    "\n",
    "isolation_forest = IsolationForest()\n",
    "outlier_pred = isolation_forest.fit_predict(ids_num)\n",
    "\n",
    "ids_clean = ids[outlier_pred == 1]\n",
    "ids_labels_clean = ids_labels[outlier_pred == 1]"
   ]
  },
  {
   "cell_type": "code",
   "execution_count": 34,
   "id": "b3259ee7",
   "metadata": {},
   "outputs": [
    {
     "data": {
      "text/plain": [
       "((87185, 31), (87185,))"
      ]
     },
     "execution_count": 34,
     "metadata": {},
     "output_type": "execute_result"
    }
   ],
   "source": [
    "ids_clean.shape,ids_labels_clean.shape"
   ]
  },
  {
   "cell_type": "code",
   "execution_count": null,
   "id": "e547391b",
   "metadata": {},
   "outputs": [],
   "source": [
    "### TRANSFORMER PIPELINE ###"
   ]
  },
  {
   "cell_type": "code",
   "execution_count": 35,
   "id": "99895dc7",
   "metadata": {},
   "outputs": [
    {
     "data": {
      "text/plain": [
       "array([[-0.10782789, -0.0045491 , -0.00850249, ..., -0.41781426,\n",
       "         0.44001943,  0.01745376],\n",
       "       [-0.10782789, -0.00462958, -0.04887979, ..., -0.07964627,\n",
       "        -0.38545887, -0.31650996],\n",
       "       [-0.10782789, -0.0044717 , -0.03676487, ..., -0.41781426,\n",
       "        -0.38545887, -0.31650996],\n",
       "       ...,\n",
       "       [-0.10782789, -0.00462958, -0.04887979, ...,  0.05562093,\n",
       "        -0.38545887, -0.31650996],\n",
       "       [-0.10782789, -0.0042694 , -0.04311655, ...,  3.64020168,\n",
       "         0.44001943,  0.01745376],\n",
       "       [-0.10782789, -0.00462958, -0.04887979, ...,  0.19088813,\n",
       "        -0.38545887, -0.31650996]])"
      ]
     },
     "execution_count": 35,
     "metadata": {},
     "output_type": "execute_result"
    }
   ],
   "source": [
    "from sklearn.preprocessing import StandardScaler\n",
    "\n",
    "standadizer=StandardScaler()\n",
    "ids_num_tr=standadizer.fit_transform(ids_num)\n",
    "\n",
    "ids_num_tr"
   ]
  },
  {
   "cell_type": "code",
   "execution_count": 36,
   "id": "1d47f9af",
   "metadata": {},
   "outputs": [],
   "source": [
    "from sklearn.compose import ColumnTransformer\n",
    "\n",
    "num_attribs = list(ids_num)\n",
    "cat_attribs = ['flag', 'service','protocol_type']\n",
    "\n",
    "full_pipeline = ColumnTransformer([\n",
    "        (\"num\", StandardScaler(), num_attribs),\n",
    "        (\"cat\", OneHotEncoder(handle_unknown='ignore'), cat_attribs),\n",
    "    ])\n",
    "\n",
    "ids_prepared = full_pipeline.fit_transform(ids_clean)\n",
    "ids_labels=ids_labels_clean.copy()"
   ]
  },
  {
   "cell_type": "code",
   "execution_count": 37,
   "id": "ef4da4dd",
   "metadata": {},
   "outputs": [
    {
     "data": {
      "text/plain": [
       "(87185, 104)"
      ]
     },
     "execution_count": 37,
     "metadata": {},
     "output_type": "execute_result"
    }
   ],
   "source": [
    "ids_prepared.shape"
   ]
  },
  {
   "cell_type": "code",
   "execution_count": 38,
   "id": "44407fe5",
   "metadata": {},
   "outputs": [
    {
     "data": {
      "text/plain": [
       "Counter({1: 53084, 0: 33467, 2: 205, 3: 413, 4: 16})"
      ]
     },
     "execution_count": 38,
     "metadata": {},
     "output_type": "execute_result"
    }
   ],
   "source": [
    "from collections import Counter\n",
    "Counter(ids_labels)"
   ]
  },
  {
   "cell_type": "code",
   "execution_count": 39,
   "id": "78e4792e",
   "metadata": {},
   "outputs": [],
   "source": [
    "ids_bin_labels=(ids_labels==1).astype(int)\n",
    "# 0 - dos\n",
    "# 1 - normal \n",
    "# 2 - r2l\n",
    "# 3 - probe\n",
    "# 4 - u2r"
   ]
  },
  {
   "cell_type": "code",
   "execution_count": null,
   "id": "9d194e5e",
   "metadata": {},
   "outputs": [],
   "source": [
    "### BINARY CLASSIFICATION"
   ]
  },
  {
   "cell_type": "code",
   "execution_count": 40,
   "id": "1fad4759",
   "metadata": {},
   "outputs": [
    {
     "data": {
      "text/plain": [
       "LogisticRegression(penalty='l1', solver='liblinear')"
      ]
     },
     "execution_count": 40,
     "metadata": {},
     "output_type": "execute_result"
    }
   ],
   "source": [
    "from sklearn.linear_model import LogisticRegression\n",
    "\n",
    "sgd_clf=LogisticRegression(penalty='l1',solver='liblinear')\n",
    "sgd_clf.fit(ids_prepared,ids_bin_labels)"
   ]
  },
  {
   "cell_type": "code",
   "execution_count": 41,
   "id": "678a8138",
   "metadata": {},
   "outputs": [
    {
     "data": {
      "text/plain": [
       "array([[33950,   151],\n",
       "       [   48, 53036]], dtype=int64)"
      ]
     },
     "execution_count": 41,
     "metadata": {},
     "output_type": "execute_result"
    }
   ],
   "source": [
    "from sklearn.metrics import confusion_matrix\n",
    "\n",
    "ids_predictions=sgd_clf.predict(ids_prepared)\n",
    "confusion_matrix(ids_bin_labels,ids_predictions)"
   ]
  },
  {
   "cell_type": "code",
   "execution_count": 42,
   "id": "383a2db7",
   "metadata": {},
   "outputs": [],
   "source": [
    "x_val=strat_val_set.drop(['target','num_root','srv_serror_rate','srv_rerror_rate','dst_host_srv_serror_rate','dst_host_srv_rerror_rate',\n",
    "                          'dst_host_serror_rate','dst_host_rerror_rate','dst_host_same_srv_rate','num_outbound_cmds','is_host_login'],axis=1)\n",
    "y_val=strat_val_set['target'].copy()\n",
    "\n",
    "x_val_prepared=full_pipeline.transform(x_val)\n",
    "validation_prediction=sgd_clf.predict(x_val_prepared)\n",
    "\n",
    "y_val=target_encoder.transform(y_val)\n",
    "y_bin_val=(y_val==1).astype(int)"
   ]
  },
  {
   "cell_type": "code",
   "execution_count": 43,
   "id": "41b0972c",
   "metadata": {},
   "outputs": [
    {
     "name": "stdout",
     "output_type": "stream",
     "text": [
      "0.9874645831544604\n",
      "0.9847812301838935\n",
      "0.9945919020849641\n"
     ]
    },
    {
     "data": {
      "text/plain": [
       "array([[ 9025,   216],\n",
       "       [   76, 13977]], dtype=int64)"
      ]
     },
     "execution_count": 43,
     "metadata": {},
     "output_type": "execute_result"
    }
   ],
   "source": [
    "from sklearn.metrics import accuracy_score,precision_score,recall_score,confusion_matrix\n",
    "\n",
    "print(accuracy_score(y_bin_val,validation_prediction))\n",
    "print(precision_score(y_bin_val,validation_prediction))\n",
    "print(recall_score(y_bin_val,validation_prediction))\n",
    "confusion_matrix(y_bin_val,validation_prediction)"
   ]
  },
  {
   "cell_type": "code",
   "execution_count": null,
   "id": "3e46b0d9",
   "metadata": {},
   "outputs": [],
   "source": [
    "### MODELS ###"
   ]
  },
  {
   "cell_type": "code",
   "execution_count": 44,
   "id": "657789b9",
   "metadata": {},
   "outputs": [
    {
     "data": {
      "text/plain": [
       "LogisticRegression(max_iter=1000, multi_class='multinomial')"
      ]
     },
     "execution_count": 44,
     "metadata": {},
     "output_type": "execute_result"
    }
   ],
   "source": [
    "#SOFTMAX REGRESSION\n",
    "\n",
    "from sklearn.linear_model import LogisticRegression\n",
    "\n",
    "softmax_reg=LogisticRegression(multi_class='multinomial',max_iter=1000)\n",
    "softmax_reg.fit(ids_prepared,ids_labels)"
   ]
  },
  {
   "cell_type": "code",
   "execution_count": 45,
   "id": "0e19ad12",
   "metadata": {},
   "outputs": [
    {
     "name": "stdout",
     "output_type": "stream",
     "text": [
      "Predictions: [1 0 1 1 1]\n"
     ]
    }
   ],
   "source": [
    "some_data = ids.iloc[:5]\n",
    "some_labels = ids_labels[:5]\n",
    "some_data_prepared = full_pipeline.transform(some_data)\n",
    "\n",
    "print(\"Predictions:\", softmax_reg.predict(some_data_prepared))"
   ]
  },
  {
   "cell_type": "code",
   "execution_count": 46,
   "id": "1c979cc0",
   "metadata": {},
   "outputs": [
    {
     "name": "stdout",
     "output_type": "stream",
     "text": [
      "Labels: [1, 0, 1, 1, 0]\n"
     ]
    }
   ],
   "source": [
    "print(\"Labels:\", list(some_labels))"
   ]
  },
  {
   "cell_type": "code",
   "execution_count": 47,
   "id": "34db2a64",
   "metadata": {},
   "outputs": [
    {
     "data": {
      "text/plain": [
       "array([[33452,    15,     0,     0,     0],\n",
       "       [   10, 53054,     9,    10,     1],\n",
       "       [    0,    52,   153,     0,     0],\n",
       "       [    0,    36,     0,   377,     0],\n",
       "       [    0,     7,     0,     3,     6]], dtype=int64)"
      ]
     },
     "execution_count": 47,
     "metadata": {},
     "output_type": "execute_result"
    }
   ],
   "source": [
    "from sklearn.metrics import confusion_matrix\n",
    "\n",
    "ids_predictions=softmax_reg.predict(ids_prepared)\n",
    "confusion_matrix(ids_labels,ids_predictions)"
   ]
  },
  {
   "cell_type": "code",
   "execution_count": 48,
   "id": "d4e8fccc",
   "metadata": {},
   "outputs": [
    {
     "data": {
      "text/plain": [
       "KNeighborsClassifier()"
      ]
     },
     "execution_count": 48,
     "metadata": {},
     "output_type": "execute_result"
    }
   ],
   "source": [
    "#KNN CLASSIFIER\n",
    "\n",
    "from sklearn.neighbors import KNeighborsClassifier\n",
    "\n",
    "neigh_clf = KNeighborsClassifier()\n",
    "neigh_clf.fit(ids_prepared,ids_labels)"
   ]
  },
  {
   "cell_type": "code",
   "execution_count": 49,
   "id": "0cde8913",
   "metadata": {},
   "outputs": [
    {
     "data": {
      "text/plain": [
       "array([[33459,     7,     1,     0,     0],\n",
       "       [    5, 53058,     5,    16,     0],\n",
       "       [    1,    17,   187,     0,     0],\n",
       "       [    0,    22,     0,   391,     0],\n",
       "       [    0,    12,     0,     2,     2]], dtype=int64)"
      ]
     },
     "execution_count": 49,
     "metadata": {},
     "output_type": "execute_result"
    }
   ],
   "source": [
    "from sklearn.metrics import confusion_matrix\n",
    "\n",
    "ids_predictions=neigh_clf.predict(ids_prepared)\n",
    "confusion_matrix(ids_labels,ids_predictions)"
   ]
  },
  {
   "cell_type": "code",
   "execution_count": null,
   "id": "f25d9426",
   "metadata": {},
   "outputs": [],
   "source": [
    "### VERIFY WITH VALIDATION SET ###"
   ]
  },
  {
   "cell_type": "code",
   "execution_count": 50,
   "id": "a03c0be9",
   "metadata": {},
   "outputs": [],
   "source": [
    "x_val=strat_val_set.drop(['target','num_root','srv_serror_rate','srv_rerror_rate','dst_host_srv_serror_rate','dst_host_srv_rerror_rate',\n",
    "                          'dst_host_serror_rate','dst_host_rerror_rate','dst_host_same_srv_rate','num_outbound_cmds','is_host_login'],axis=1)\n",
    "\n",
    "y_val=strat_val_set['target'].copy()\n",
    "\n",
    "x_val_prepared=full_pipeline.transform(x_val)\n",
    "y_val=target_encoder.transform(y_val)"
   ]
  },
  {
   "cell_type": "code",
   "execution_count": 51,
   "id": "2aa282ad",
   "metadata": {},
   "outputs": [],
   "source": [
    "validation_prediction=softmax_reg.predict(x_val_prepared)"
   ]
  },
  {
   "cell_type": "code",
   "execution_count": 52,
   "id": "ee451418",
   "metadata": {},
   "outputs": [
    {
     "name": "stdout",
     "output_type": "stream",
     "text": [
      "0.9822271829655705\n",
      "0.981821627163957\n",
      "0.9822271829655705\n"
     ]
    },
    {
     "data": {
      "text/plain": [
       "array([[ 8564,   154,    13,     1,     0],\n",
       "       [    6, 13958,    66,    21,     2],\n",
       "       [   88,    26,   227,     0,     0],\n",
       "       [    3,    30,     3,   124,     0],\n",
       "       [    0,     1,     0,     0,     7]], dtype=int64)"
      ]
     },
     "execution_count": 52,
     "metadata": {},
     "output_type": "execute_result"
    }
   ],
   "source": [
    "from sklearn.metrics import accuracy_score,precision_score,recall_score,confusion_matrix\n",
    "\n",
    "print(accuracy_score(y_val,validation_prediction))\n",
    "print(precision_score(y_val,validation_prediction,average='weighted'))\n",
    "print(recall_score(y_val,validation_prediction,average='weighted'))\n",
    "confusion_matrix(y_val,validation_prediction)"
   ]
  },
  {
   "cell_type": "code",
   "execution_count": 53,
   "id": "88a48203",
   "metadata": {},
   "outputs": [],
   "source": [
    "validation_prediction=neigh_clf.predict(x_val_prepared)"
   ]
  },
  {
   "cell_type": "code",
   "execution_count": 54,
   "id": "dd620501",
   "metadata": {},
   "outputs": [
    {
     "name": "stdout",
     "output_type": "stream",
     "text": [
      "0.9742422941530008\n",
      "0.9732249901326776\n",
      "0.9742422941530008\n"
     ]
    },
    {
     "data": {
      "text/plain": [
       "array([[ 8474,   249,     1,     8,     0],\n",
       "       [    1, 14001,    31,    20,     0],\n",
       "       [   10,   186,    82,    63,     0],\n",
       "       [    1,    24,     0,   135,     0],\n",
       "       [    0,     5,     0,     1,     2]], dtype=int64)"
      ]
     },
     "execution_count": 54,
     "metadata": {},
     "output_type": "execute_result"
    }
   ],
   "source": [
    "from sklearn.metrics import accuracy_score,precision_score,recall_score,confusion_matrix\n",
    "\n",
    "print(accuracy_score(y_val,validation_prediction))\n",
    "print(precision_score(y_val,validation_prediction,average='weighted'))\n",
    "print(recall_score(y_val,validation_prediction,average='weighted'))\n",
    "confusion_matrix(y_val,validation_prediction)"
   ]
  },
  {
   "cell_type": "code",
   "execution_count": null,
   "id": "244d01e0",
   "metadata": {},
   "outputs": [],
   "source": [
    "### GRID SEARCH FOR SOFTMAX REGRESSION TO OPTIMIZE PARAMETERS ###"
   ]
  },
  {
   "cell_type": "code",
   "execution_count": 55,
   "id": "60694944",
   "metadata": {
    "scrolled": true
   },
   "outputs": [
    {
     "name": "stdout",
     "output_type": "stream",
     "text": [
      "Fitting 3 folds for each of 28 candidates, totalling 84 fits\n"
     ]
    },
    {
     "data": {
      "text/plain": [
       "GridSearchCV(cv=3,\n",
       "             estimator=LogisticRegression(max_iter=1000,\n",
       "                                          multi_class='multinomial'),\n",
       "             n_jobs=-1,\n",
       "             param_grid=[{'C': [0.001, 0.01, 0.1, 1, 10, 100, 1000],\n",
       "                          'max_iter': [1000], 'multi_class': ['multinomial'],\n",
       "                          'penalty': ['l2'],\n",
       "                          'solver': ['newton-cg', 'sag', 'saga']},\n",
       "                         {'C': [0.001, 0.01, 0.1, 1, 10, 100, 1000],\n",
       "                          'max_iter': [400], 'multi_class': ['multinomial'],\n",
       "                          'penalty': ['l1'], 'solver': ['saga']}],\n",
       "             verbose=2)"
      ]
     },
     "execution_count": 55,
     "metadata": {},
     "output_type": "execute_result"
    }
   ],
   "source": [
    "from sklearn.model_selection import GridSearchCV\n",
    "from sklearn.linear_model import LogisticRegression\n",
    "from sklearn.metrics import f1_score\n",
    "\n",
    "params_grid=[\n",
    "    {\n",
    "        'penalty' : ['l2'],\n",
    "        'C': [0.001, 0.01, 0.1, 1, 10, 100, 1000],\n",
    "        'multi_class' : ['multinomial'],\n",
    "        'solver' : ['newton-cg', 'sag', 'saga'],\n",
    "        'max_iter' : [1000]\n",
    "    },\n",
    "    {\n",
    "        'penalty' : ['l1'],\n",
    "        'C': [0.001, 0.01, 0.1, 1, 10, 100, 1000],\n",
    "        'multi_class' : ['multinomial'],\n",
    "        'solver' : ['saga'],\n",
    "        'max_iter' : [400]\n",
    "    }\n",
    "]\n",
    "\n",
    "grid_search=GridSearchCV(softmax_reg,params_grid,cv=3,verbose=2,n_jobs=-1)\n",
    "grid_search.fit(ids_prepared,ids_labels)"
   ]
  },
  {
   "cell_type": "code",
   "execution_count": 56,
   "id": "b2fc2a3e",
   "metadata": {},
   "outputs": [
    {
     "data": {
      "text/plain": [
       "({'C': 1000,\n",
       "  'max_iter': 1000,\n",
       "  'multi_class': 'multinomial',\n",
       "  'penalty': 'l2',\n",
       "  'solver': 'newton-cg'},\n",
       " 0.9982221719023823)"
      ]
     },
     "execution_count": 56,
     "metadata": {},
     "output_type": "execute_result"
    }
   ],
   "source": [
    "best_params,best_score=grid_search.best_params_,grid_search.best_score_\n",
    "best_params,best_score"
   ]
  },
  {
   "cell_type": "code",
   "execution_count": null,
   "id": "da7fdabb",
   "metadata": {},
   "outputs": [],
   "source": [
    "### RE-VERIFY WITH OPTIMIZED PARAMETERS ###"
   ]
  },
  {
   "cell_type": "code",
   "execution_count": 57,
   "id": "ed3d731b",
   "metadata": {},
   "outputs": [],
   "source": [
    "x_test=strat_test_set.drop(['target','num_root','srv_serror_rate','srv_rerror_rate','dst_host_srv_serror_rate','dst_host_srv_rerror_rate',\n",
    "                          'dst_host_serror_rate','dst_host_rerror_rate','dst_host_same_srv_rate','num_outbound_cmds','is_host_login'],axis=1)\n",
    "\n",
    "y_test=strat_test_set['target'].copy()\n",
    "\n",
    "x_test_prepared=full_pipeline.transform(x_test)\n",
    "y_test=target_encoder.transform(y_test)"
   ]
  },
  {
   "cell_type": "code",
   "execution_count": 60,
   "id": "ceaf2697",
   "metadata": {},
   "outputs": [
    {
     "data": {
      "text/plain": [
       "0.9810586529379425"
      ]
     },
     "execution_count": 60,
     "metadata": {},
     "output_type": "execute_result"
    }
   ],
   "source": [
    "test_prediction=grid_search.best_estimator_.predict(x_test_prepared)\n",
    "f1_score(y_test,test_prediction,average='weighted')"
   ]
  },
  {
   "cell_type": "code",
   "execution_count": 66,
   "id": "1a9dcb7a",
   "metadata": {},
   "outputs": [
    {
     "data": {
      "text/plain": [
       "(29117, 104)"
      ]
     },
     "execution_count": 66,
     "metadata": {},
     "output_type": "execute_result"
    }
   ],
   "source": [
    "\n",
    "x_test_prepared.shape"
   ]
  },
  {
   "cell_type": "code",
   "execution_count": null,
   "id": "741934c4",
   "metadata": {},
   "outputs": [],
   "source": []
  }
 ],
 "metadata": {
  "kernelspec": {
   "display_name": "Python 3 (ipykernel)",
   "language": "python",
   "name": "python3"
  },
  "language_info": {
   "codemirror_mode": {
    "name": "ipython",
    "version": 3
   },
   "file_extension": ".py",
   "mimetype": "text/x-python",
   "name": "python",
   "nbconvert_exporter": "python",
   "pygments_lexer": "ipython3",
   "version": "3.8.12"
  }
 },
 "nbformat": 4,
 "nbformat_minor": 5
}
